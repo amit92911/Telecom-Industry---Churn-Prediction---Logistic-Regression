{
 "cells": [
  {
   "cell_type": "markdown",
   "metadata": {},
   "source": [
    "# Telecom Churn Prediction"
   ]
  },
  {
   "cell_type": "markdown",
   "metadata": {},
   "source": [
    "In the telecom industry, customers are able to choose from multiple service providers and actively switch from one operator to another. In this highly competitive market, the telecommunications industry experiences an average of 15-25% annual churn rate. Given the fact that it costs 5-10 times more to acquire a new customer than to retain an existing one, customer retention has now become even more important than customer acquisition.\n",
    "\n",
    " \n",
    "\n",
    "For many incumbent operators, retaining high profitable customers is the number one business goal.\n",
    "\n",
    " \n",
    "\n",
    "To reduce customer churn, telecom companies need to predict which customers are at high risk of churn.\n",
    "\n",
    " \n",
    "\n",
    "In this project, you will analyse customer-level data of a leading telecom firm, build predictive models to identify customers at high risk of churn and identify the main indicators of churn."
   ]
  },
  {
   "cell_type": "markdown",
   "metadata": {},
   "source": [
    "## Importing and Viewing Data"
   ]
  },
  {
   "cell_type": "code",
   "execution_count": 56,
   "metadata": {},
   "outputs": [],
   "source": [
    "# Importing Libraries\n",
    "import pandas as pd\n",
    "import numpy as np\n",
    "import pandas_profiling\n",
    "import matplotlib.pyplot as plt\n",
    "import seaborn as sns\n",
    "\n",
    "from sklearn.preprocessing import StandardScaler\n",
    "from sklearn.model_selection import train_test_split\n",
    "from imblearn.over_sampling import SMOTE\n",
    "from sklearn.decomposition import PCA\n",
    "from sklearn.decomposition import IncrementalPCA\n",
    "\n",
    "from sklearn.ensemble import RandomForestClassifier\n",
    "from sklearn.metrics import classification_report,confusion_matrix, accuracy_score,recall_score,precision_score,roc_auc_score,f1_score\n",
    "\n",
    "from sklearn.model_selection import KFold\n",
    "from sklearn.model_selection import GridSearchCV\n",
    "\n",
    "import xgboost as xgb\n",
    "from xgboost import XGBClassifier\n",
    "from xgboost import plot_importance\n",
    "\n",
    "from sklearn.feature_selection import RFE\n",
    "from statsmodels.stats.outliers_influence import variance_inflation_factor\n",
    "import statsmodels.api as sm\n",
    "\n",
    "import warnings\n",
    "warnings.filterwarnings('ignore')"
   ]
  },
  {
   "cell_type": "code",
   "execution_count": 57,
   "metadata": {},
   "outputs": [
    {
     "name": "stdout",
     "output_type": "stream",
     "text": [
      "(99999, 226)\n"
     ]
    },
    {
     "data": {
      "text/html": [
       "<div>\n",
       "<style scoped>\n",
       "    .dataframe tbody tr th:only-of-type {\n",
       "        vertical-align: middle;\n",
       "    }\n",
       "\n",
       "    .dataframe tbody tr th {\n",
       "        vertical-align: top;\n",
       "    }\n",
       "\n",
       "    .dataframe thead th {\n",
       "        text-align: right;\n",
       "    }\n",
       "</style>\n",
       "<table border=\"1\" class=\"dataframe\">\n",
       "  <thead>\n",
       "    <tr style=\"text-align: right;\">\n",
       "      <th></th>\n",
       "      <th>mobile_number</th>\n",
       "      <th>circle_id</th>\n",
       "      <th>loc_og_t2o_mou</th>\n",
       "      <th>std_og_t2o_mou</th>\n",
       "      <th>loc_ic_t2o_mou</th>\n",
       "      <th>last_date_of_month_6</th>\n",
       "      <th>last_date_of_month_7</th>\n",
       "      <th>last_date_of_month_8</th>\n",
       "      <th>last_date_of_month_9</th>\n",
       "      <th>arpu_6</th>\n",
       "      <th>...</th>\n",
       "      <th>sachet_3g_9</th>\n",
       "      <th>fb_user_6</th>\n",
       "      <th>fb_user_7</th>\n",
       "      <th>fb_user_8</th>\n",
       "      <th>fb_user_9</th>\n",
       "      <th>aon</th>\n",
       "      <th>aug_vbc_3g</th>\n",
       "      <th>jul_vbc_3g</th>\n",
       "      <th>jun_vbc_3g</th>\n",
       "      <th>sep_vbc_3g</th>\n",
       "    </tr>\n",
       "  </thead>\n",
       "  <tbody>\n",
       "    <tr>\n",
       "      <th>0</th>\n",
       "      <td>7000842753</td>\n",
       "      <td>109</td>\n",
       "      <td>0.0</td>\n",
       "      <td>0.0</td>\n",
       "      <td>0.0</td>\n",
       "      <td>6/30/2014</td>\n",
       "      <td>7/31/2014</td>\n",
       "      <td>8/31/2014</td>\n",
       "      <td>9/30/2014</td>\n",
       "      <td>197.385</td>\n",
       "      <td>...</td>\n",
       "      <td>0</td>\n",
       "      <td>1.0</td>\n",
       "      <td>1.0</td>\n",
       "      <td>1.0</td>\n",
       "      <td>NaN</td>\n",
       "      <td>968</td>\n",
       "      <td>30.4</td>\n",
       "      <td>0.0</td>\n",
       "      <td>101.20</td>\n",
       "      <td>3.58</td>\n",
       "    </tr>\n",
       "    <tr>\n",
       "      <th>1</th>\n",
       "      <td>7001865778</td>\n",
       "      <td>109</td>\n",
       "      <td>0.0</td>\n",
       "      <td>0.0</td>\n",
       "      <td>0.0</td>\n",
       "      <td>6/30/2014</td>\n",
       "      <td>7/31/2014</td>\n",
       "      <td>8/31/2014</td>\n",
       "      <td>9/30/2014</td>\n",
       "      <td>34.047</td>\n",
       "      <td>...</td>\n",
       "      <td>0</td>\n",
       "      <td>NaN</td>\n",
       "      <td>1.0</td>\n",
       "      <td>1.0</td>\n",
       "      <td>NaN</td>\n",
       "      <td>1006</td>\n",
       "      <td>0.0</td>\n",
       "      <td>0.0</td>\n",
       "      <td>0.00</td>\n",
       "      <td>0.00</td>\n",
       "    </tr>\n",
       "    <tr>\n",
       "      <th>2</th>\n",
       "      <td>7001625959</td>\n",
       "      <td>109</td>\n",
       "      <td>0.0</td>\n",
       "      <td>0.0</td>\n",
       "      <td>0.0</td>\n",
       "      <td>6/30/2014</td>\n",
       "      <td>7/31/2014</td>\n",
       "      <td>8/31/2014</td>\n",
       "      <td>9/30/2014</td>\n",
       "      <td>167.690</td>\n",
       "      <td>...</td>\n",
       "      <td>0</td>\n",
       "      <td>NaN</td>\n",
       "      <td>NaN</td>\n",
       "      <td>NaN</td>\n",
       "      <td>1.0</td>\n",
       "      <td>1103</td>\n",
       "      <td>0.0</td>\n",
       "      <td>0.0</td>\n",
       "      <td>4.17</td>\n",
       "      <td>0.00</td>\n",
       "    </tr>\n",
       "    <tr>\n",
       "      <th>3</th>\n",
       "      <td>7001204172</td>\n",
       "      <td>109</td>\n",
       "      <td>0.0</td>\n",
       "      <td>0.0</td>\n",
       "      <td>0.0</td>\n",
       "      <td>6/30/2014</td>\n",
       "      <td>7/31/2014</td>\n",
       "      <td>8/31/2014</td>\n",
       "      <td>9/30/2014</td>\n",
       "      <td>221.338</td>\n",
       "      <td>...</td>\n",
       "      <td>0</td>\n",
       "      <td>NaN</td>\n",
       "      <td>NaN</td>\n",
       "      <td>NaN</td>\n",
       "      <td>NaN</td>\n",
       "      <td>2491</td>\n",
       "      <td>0.0</td>\n",
       "      <td>0.0</td>\n",
       "      <td>0.00</td>\n",
       "      <td>0.00</td>\n",
       "    </tr>\n",
       "    <tr>\n",
       "      <th>4</th>\n",
       "      <td>7000142493</td>\n",
       "      <td>109</td>\n",
       "      <td>0.0</td>\n",
       "      <td>0.0</td>\n",
       "      <td>0.0</td>\n",
       "      <td>6/30/2014</td>\n",
       "      <td>7/31/2014</td>\n",
       "      <td>8/31/2014</td>\n",
       "      <td>9/30/2014</td>\n",
       "      <td>261.636</td>\n",
       "      <td>...</td>\n",
       "      <td>0</td>\n",
       "      <td>0.0</td>\n",
       "      <td>NaN</td>\n",
       "      <td>NaN</td>\n",
       "      <td>NaN</td>\n",
       "      <td>1526</td>\n",
       "      <td>0.0</td>\n",
       "      <td>0.0</td>\n",
       "      <td>0.00</td>\n",
       "      <td>0.00</td>\n",
       "    </tr>\n",
       "  </tbody>\n",
       "</table>\n",
       "<p>5 rows × 226 columns</p>\n",
       "</div>"
      ],
      "text/plain": [
       "   mobile_number  circle_id  loc_og_t2o_mou  std_og_t2o_mou  loc_ic_t2o_mou  \\\n",
       "0     7000842753        109             0.0             0.0             0.0   \n",
       "1     7001865778        109             0.0             0.0             0.0   \n",
       "2     7001625959        109             0.0             0.0             0.0   \n",
       "3     7001204172        109             0.0             0.0             0.0   \n",
       "4     7000142493        109             0.0             0.0             0.0   \n",
       "\n",
       "  last_date_of_month_6 last_date_of_month_7 last_date_of_month_8  \\\n",
       "0            6/30/2014            7/31/2014            8/31/2014   \n",
       "1            6/30/2014            7/31/2014            8/31/2014   \n",
       "2            6/30/2014            7/31/2014            8/31/2014   \n",
       "3            6/30/2014            7/31/2014            8/31/2014   \n",
       "4            6/30/2014            7/31/2014            8/31/2014   \n",
       "\n",
       "  last_date_of_month_9   arpu_6  ...  sachet_3g_9  fb_user_6  fb_user_7  \\\n",
       "0            9/30/2014  197.385  ...            0        1.0        1.0   \n",
       "1            9/30/2014   34.047  ...            0        NaN        1.0   \n",
       "2            9/30/2014  167.690  ...            0        NaN        NaN   \n",
       "3            9/30/2014  221.338  ...            0        NaN        NaN   \n",
       "4            9/30/2014  261.636  ...            0        0.0        NaN   \n",
       "\n",
       "   fb_user_8  fb_user_9   aon  aug_vbc_3g  jul_vbc_3g  jun_vbc_3g  sep_vbc_3g  \n",
       "0        1.0        NaN   968        30.4         0.0      101.20        3.58  \n",
       "1        1.0        NaN  1006         0.0         0.0        0.00        0.00  \n",
       "2        NaN        1.0  1103         0.0         0.0        4.17        0.00  \n",
       "3        NaN        NaN  2491         0.0         0.0        0.00        0.00  \n",
       "4        NaN        NaN  1526         0.0         0.0        0.00        0.00  \n",
       "\n",
       "[5 rows x 226 columns]"
      ]
     },
     "execution_count": 57,
     "metadata": {},
     "output_type": "execute_result"
    }
   ],
   "source": [
    "# Loading Data set\n",
    "telecom_df= pd.read_csv(\"telecom_churn_data.csv\")\n",
    "print(telecom_df.shape)\n",
    "telecom_df.head()"
   ]
  },
  {
   "cell_type": "code",
   "execution_count": 58,
   "metadata": {},
   "outputs": [
    {
     "name": "stdout",
     "output_type": "stream",
     "text": [
      "Records with missing values in  loc_og_t2o_mou\n",
      "1018\n",
      "Records with missing values in  std_og_t2o_mou\n",
      "1018\n",
      "Records with missing values in  loc_ic_t2o_mou\n",
      "1018\n",
      "Records with missing values in  last_date_of_month_7\n",
      "601\n",
      "Records with missing values in  last_date_of_month_8\n",
      "1100\n",
      "Records with missing values in  last_date_of_month_9\n",
      "1659\n",
      "Records with missing values in  onnet_mou_6\n",
      "3937\n",
      "Records with missing values in  onnet_mou_7\n",
      "3859\n",
      "Records with missing values in  onnet_mou_8\n",
      "5378\n",
      "Records with missing values in  onnet_mou_9\n",
      "7745\n",
      "Records with missing values in  offnet_mou_6\n",
      "3937\n",
      "Records with missing values in  offnet_mou_7\n",
      "3859\n",
      "Records with missing values in  offnet_mou_8\n",
      "5378\n",
      "Records with missing values in  offnet_mou_9\n",
      "7745\n",
      "Records with missing values in  roam_ic_mou_6\n",
      "3937\n",
      "Records with missing values in  roam_ic_mou_7\n",
      "3859\n",
      "Records with missing values in  roam_ic_mou_8\n",
      "5378\n",
      "Records with missing values in  roam_ic_mou_9\n",
      "7745\n",
      "Records with missing values in  roam_og_mou_6\n",
      "3937\n",
      "Records with missing values in  roam_og_mou_7\n",
      "3859\n",
      "Records with missing values in  roam_og_mou_8\n",
      "5378\n",
      "Records with missing values in  roam_og_mou_9\n",
      "7745\n",
      "Records with missing values in  loc_og_t2t_mou_6\n",
      "3937\n",
      "Records with missing values in  loc_og_t2t_mou_7\n",
      "3859\n",
      "Records with missing values in  loc_og_t2t_mou_8\n",
      "5378\n",
      "Records with missing values in  loc_og_t2t_mou_9\n",
      "7745\n",
      "Records with missing values in  loc_og_t2m_mou_6\n",
      "3937\n",
      "Records with missing values in  loc_og_t2m_mou_7\n",
      "3859\n",
      "Records with missing values in  loc_og_t2m_mou_8\n",
      "5378\n",
      "Records with missing values in  loc_og_t2m_mou_9\n",
      "7745\n",
      "Records with missing values in  loc_og_t2f_mou_6\n",
      "3937\n",
      "Records with missing values in  loc_og_t2f_mou_7\n",
      "3859\n",
      "Records with missing values in  loc_og_t2f_mou_8\n",
      "5378\n",
      "Records with missing values in  loc_og_t2f_mou_9\n",
      "7745\n",
      "Records with missing values in  loc_og_t2c_mou_6\n",
      "3937\n",
      "Records with missing values in  loc_og_t2c_mou_7\n",
      "3859\n",
      "Records with missing values in  loc_og_t2c_mou_8\n",
      "5378\n",
      "Records with missing values in  loc_og_t2c_mou_9\n",
      "7745\n",
      "Records with missing values in  loc_og_mou_6\n",
      "3937\n",
      "Records with missing values in  loc_og_mou_7\n",
      "3859\n",
      "Records with missing values in  loc_og_mou_8\n",
      "5378\n",
      "Records with missing values in  loc_og_mou_9\n",
      "7745\n",
      "Records with missing values in  std_og_t2t_mou_6\n",
      "3937\n",
      "Records with missing values in  std_og_t2t_mou_7\n",
      "3859\n",
      "Records with missing values in  std_og_t2t_mou_8\n",
      "5378\n",
      "Records with missing values in  std_og_t2t_mou_9\n",
      "7745\n",
      "Records with missing values in  std_og_t2m_mou_6\n",
      "3937\n",
      "Records with missing values in  std_og_t2m_mou_7\n",
      "3859\n",
      "Records with missing values in  std_og_t2m_mou_8\n",
      "5378\n",
      "Records with missing values in  std_og_t2m_mou_9\n",
      "7745\n",
      "Records with missing values in  std_og_t2f_mou_6\n",
      "3937\n",
      "Records with missing values in  std_og_t2f_mou_7\n",
      "3859\n",
      "Records with missing values in  std_og_t2f_mou_8\n",
      "5378\n",
      "Records with missing values in  std_og_t2f_mou_9\n",
      "7745\n",
      "Records with missing values in  std_og_t2c_mou_6\n",
      "3937\n",
      "Records with missing values in  std_og_t2c_mou_7\n",
      "3859\n",
      "Records with missing values in  std_og_t2c_mou_8\n",
      "5378\n",
      "Records with missing values in  std_og_t2c_mou_9\n",
      "7745\n",
      "Records with missing values in  std_og_mou_6\n",
      "3937\n",
      "Records with missing values in  std_og_mou_7\n",
      "3859\n",
      "Records with missing values in  std_og_mou_8\n",
      "5378\n",
      "Records with missing values in  std_og_mou_9\n",
      "7745\n",
      "Records with missing values in  isd_og_mou_6\n",
      "3937\n",
      "Records with missing values in  isd_og_mou_7\n",
      "3859\n",
      "Records with missing values in  isd_og_mou_8\n",
      "5378\n",
      "Records with missing values in  isd_og_mou_9\n",
      "7745\n",
      "Records with missing values in  spl_og_mou_6\n",
      "3937\n",
      "Records with missing values in  spl_og_mou_7\n",
      "3859\n",
      "Records with missing values in  spl_og_mou_8\n",
      "5378\n",
      "Records with missing values in  spl_og_mou_9\n",
      "7745\n",
      "Records with missing values in  og_others_6\n",
      "3937\n",
      "Records with missing values in  og_others_7\n",
      "3859\n",
      "Records with missing values in  og_others_8\n",
      "5378\n",
      "Records with missing values in  og_others_9\n",
      "7745\n",
      "Records with missing values in  loc_ic_t2t_mou_6\n",
      "3937\n",
      "Records with missing values in  loc_ic_t2t_mou_7\n",
      "3859\n",
      "Records with missing values in  loc_ic_t2t_mou_8\n",
      "5378\n",
      "Records with missing values in  loc_ic_t2t_mou_9\n",
      "7745\n",
      "Records with missing values in  loc_ic_t2m_mou_6\n",
      "3937\n",
      "Records with missing values in  loc_ic_t2m_mou_7\n",
      "3859\n",
      "Records with missing values in  loc_ic_t2m_mou_8\n",
      "5378\n",
      "Records with missing values in  loc_ic_t2m_mou_9\n",
      "7745\n",
      "Records with missing values in  loc_ic_t2f_mou_6\n",
      "3937\n",
      "Records with missing values in  loc_ic_t2f_mou_7\n",
      "3859\n",
      "Records with missing values in  loc_ic_t2f_mou_8\n",
      "5378\n",
      "Records with missing values in  loc_ic_t2f_mou_9\n",
      "7745\n",
      "Records with missing values in  loc_ic_mou_6\n",
      "3937\n",
      "Records with missing values in  loc_ic_mou_7\n",
      "3859\n",
      "Records with missing values in  loc_ic_mou_8\n",
      "5378\n",
      "Records with missing values in  loc_ic_mou_9\n",
      "7745\n",
      "Records with missing values in  std_ic_t2t_mou_6\n",
      "3937\n",
      "Records with missing values in  std_ic_t2t_mou_7\n",
      "3859\n",
      "Records with missing values in  std_ic_t2t_mou_8\n",
      "5378\n",
      "Records with missing values in  std_ic_t2t_mou_9\n",
      "7745\n",
      "Records with missing values in  std_ic_t2m_mou_6\n",
      "3937\n",
      "Records with missing values in  std_ic_t2m_mou_7\n",
      "3859\n",
      "Records with missing values in  std_ic_t2m_mou_8\n",
      "5378\n",
      "Records with missing values in  std_ic_t2m_mou_9\n",
      "7745\n",
      "Records with missing values in  std_ic_t2f_mou_6\n",
      "3937\n",
      "Records with missing values in  std_ic_t2f_mou_7\n",
      "3859\n",
      "Records with missing values in  std_ic_t2f_mou_8\n",
      "5378\n",
      "Records with missing values in  std_ic_t2f_mou_9\n",
      "7745\n",
      "Records with missing values in  std_ic_t2o_mou_6\n",
      "3937\n",
      "Records with missing values in  std_ic_t2o_mou_7\n",
      "3859\n",
      "Records with missing values in  std_ic_t2o_mou_8\n",
      "5378\n",
      "Records with missing values in  std_ic_t2o_mou_9\n",
      "7745\n",
      "Records with missing values in  std_ic_mou_6\n",
      "3937\n",
      "Records with missing values in  std_ic_mou_7\n",
      "3859\n",
      "Records with missing values in  std_ic_mou_8\n",
      "5378\n",
      "Records with missing values in  std_ic_mou_9\n",
      "7745\n",
      "Records with missing values in  spl_ic_mou_6\n",
      "3937\n",
      "Records with missing values in  spl_ic_mou_7\n",
      "3859\n",
      "Records with missing values in  spl_ic_mou_8\n",
      "5378\n",
      "Records with missing values in  spl_ic_mou_9\n",
      "7745\n",
      "Records with missing values in  isd_ic_mou_6\n",
      "3937\n",
      "Records with missing values in  isd_ic_mou_7\n",
      "3859\n",
      "Records with missing values in  isd_ic_mou_8\n",
      "5378\n",
      "Records with missing values in  isd_ic_mou_9\n",
      "7745\n",
      "Records with missing values in  ic_others_6\n",
      "3937\n",
      "Records with missing values in  ic_others_7\n",
      "3859\n",
      "Records with missing values in  ic_others_8\n",
      "5378\n",
      "Records with missing values in  ic_others_9\n",
      "7745\n",
      "Records with missing values in  date_of_last_rech_6\n",
      "1607\n",
      "Records with missing values in  date_of_last_rech_7\n",
      "1767\n",
      "Records with missing values in  date_of_last_rech_8\n",
      "3622\n",
      "Records with missing values in  date_of_last_rech_9\n",
      "4760\n",
      "Records with missing values in  date_of_last_rech_data_6\n",
      "74846\n",
      "Records with missing values in  date_of_last_rech_data_7\n",
      "74428\n",
      "Records with missing values in  date_of_last_rech_data_8\n",
      "73660\n",
      "Records with missing values in  date_of_last_rech_data_9\n",
      "74077\n",
      "Records with missing values in  total_rech_data_6\n",
      "74846\n",
      "Records with missing values in  total_rech_data_7\n",
      "74428\n",
      "Records with missing values in  total_rech_data_8\n",
      "73660\n",
      "Records with missing values in  total_rech_data_9\n",
      "74077\n",
      "Records with missing values in  max_rech_data_6\n",
      "74846\n",
      "Records with missing values in  max_rech_data_7\n",
      "74428\n",
      "Records with missing values in  max_rech_data_8\n",
      "73660\n",
      "Records with missing values in  max_rech_data_9\n",
      "74077\n",
      "Records with missing values in  count_rech_2g_6\n",
      "74846\n",
      "Records with missing values in  count_rech_2g_7\n",
      "74428\n",
      "Records with missing values in  count_rech_2g_8\n",
      "73660\n",
      "Records with missing values in  count_rech_2g_9\n",
      "74077\n",
      "Records with missing values in  count_rech_3g_6\n",
      "74846\n",
      "Records with missing values in  count_rech_3g_7\n",
      "74428\n",
      "Records with missing values in  count_rech_3g_8\n",
      "73660\n",
      "Records with missing values in  count_rech_3g_9\n",
      "74077\n",
      "Records with missing values in  av_rech_amt_data_6\n",
      "74846\n",
      "Records with missing values in  av_rech_amt_data_7\n",
      "74428\n",
      "Records with missing values in  av_rech_amt_data_8\n",
      "73660\n",
      "Records with missing values in  av_rech_amt_data_9\n",
      "74077\n",
      "Records with missing values in  arpu_3g_6\n",
      "74846\n",
      "Records with missing values in  arpu_3g_7\n",
      "74428\n",
      "Records with missing values in  arpu_3g_8\n",
      "73660\n",
      "Records with missing values in  arpu_3g_9\n",
      "74077\n",
      "Records with missing values in  arpu_2g_6\n",
      "74846\n",
      "Records with missing values in  arpu_2g_7\n",
      "74428\n",
      "Records with missing values in  arpu_2g_8\n",
      "73660\n",
      "Records with missing values in  arpu_2g_9\n",
      "74077\n",
      "Records with missing values in  night_pck_user_6\n",
      "74846\n",
      "Records with missing values in  night_pck_user_7\n",
      "74428\n",
      "Records with missing values in  night_pck_user_8\n",
      "73660\n",
      "Records with missing values in  night_pck_user_9\n",
      "74077\n",
      "Records with missing values in  fb_user_6\n",
      "74846\n",
      "Records with missing values in  fb_user_7\n",
      "74428\n",
      "Records with missing values in  fb_user_8\n",
      "73660\n",
      "Records with missing values in  fb_user_9\n",
      "74077\n",
      "Columns with Missing Values:  166\n"
     ]
    }
   ],
   "source": [
    "# Missing Values check\n",
    "count = 0\n",
    "for x in telecom_df.columns:\n",
    "    if (telecom_df[telecom_df[x].isnull()].shape[0])>0:\n",
    "        print(\"Records with missing values in \", x)\n",
    "        print(telecom_df[telecom_df[x].isnull()].shape[0])\n",
    "        count +=1\n",
    "print(\"Columns with Missing Values: \", count)\n",
    "\n",
    "# total 166 columns with missing values"
   ]
  },
  {
   "cell_type": "code",
   "execution_count": 59,
   "metadata": {},
   "outputs": [
    {
     "data": {
      "text/plain": [
       "count_rech_2g_6             74.85\n",
       "date_of_last_rech_data_6    74.85\n",
       "count_rech_3g_6             74.85\n",
       "av_rech_amt_data_6          74.85\n",
       "max_rech_data_6             74.85\n",
       "                            ...  \n",
       "spl_og_mou_8                 5.38\n",
       "loc_ic_t2m_mou_8             5.38\n",
       "loc_og_t2f_mou_8             5.38\n",
       "date_of_last_rech_9          4.76\n",
       "og_others_6                  3.94\n",
       "Length: 100, dtype: float64"
      ]
     },
     "execution_count": 59,
     "metadata": {},
     "output_type": "execute_result"
    }
   ],
   "source": [
    "# Checking Percentage of missing values\n",
    "round(100*(telecom_df.isnull().sum()/len(telecom_df.index)), 2).sort_values(ascending=False).head(100)"
   ]
  },
  {
   "cell_type": "markdown",
   "metadata": {},
   "source": [
    "Missing valye percentage varying from 3.94% to 74.85% (recharge related data) <br>"
   ]
  },
  {
   "cell_type": "markdown",
   "metadata": {},
   "source": [
    "# Data Cleaning and Pre-Procressing"
   ]
  },
  {
   "cell_type": "markdown",
   "metadata": {},
   "source": [
    "#### Deriving new features"
   ]
  },
  {
   "cell_type": "code",
   "execution_count": 60,
   "metadata": {},
   "outputs": [
    {
     "name": "stdout",
     "output_type": "stream",
     "text": [
      "Index(['total_rech_amt_6', 'total_rech_amt_7', 'total_rech_amt_8',\n",
      "       'total_rech_amt_9', 'max_rech_amt_6', 'max_rech_amt_7',\n",
      "       'max_rech_amt_8', 'max_rech_amt_9', 'date_of_last_rech_data_6',\n",
      "       'date_of_last_rech_data_7', 'date_of_last_rech_data_8',\n",
      "       'date_of_last_rech_data_9', 'total_rech_data_6', 'total_rech_data_7',\n",
      "       'total_rech_data_8', 'total_rech_data_9', 'max_rech_data_6',\n",
      "       'max_rech_data_7', 'max_rech_data_8', 'max_rech_data_9',\n",
      "       'av_rech_amt_data_6', 'av_rech_amt_data_7', 'av_rech_amt_data_8',\n",
      "       'av_rech_amt_data_9'],\n",
      "      dtype='object')\n"
     ]
    }
   ],
   "source": [
    "# Columns with rechanrge amount or recharge data\n",
    "rech_amt_col = telecom_df.columns[telecom_df.columns.str.contains('rech_amt|rech_data')]\n",
    "print(rech_amt_col)"
   ]
  },
  {
   "cell_type": "markdown",
   "metadata": {},
   "source": [
    "- These columns can be used to derive<br>\n",
    "- Total Recharge amount<br>\n",
    "- Total Data recharge<br>\n",
    "- When was Last recharge done<br>\n",
    "- Maximum recharge value<br>\n",
    "- Average recharge value"
   ]
  },
  {
   "cell_type": "code",
   "execution_count": 61,
   "metadata": {},
   "outputs": [
    {
     "data": {
      "text/html": [
       "<div>\n",
       "<style scoped>\n",
       "    .dataframe tbody tr th:only-of-type {\n",
       "        vertical-align: middle;\n",
       "    }\n",
       "\n",
       "    .dataframe tbody tr th {\n",
       "        vertical-align: top;\n",
       "    }\n",
       "\n",
       "    .dataframe thead th {\n",
       "        text-align: right;\n",
       "    }\n",
       "</style>\n",
       "<table border=\"1\" class=\"dataframe\">\n",
       "  <thead>\n",
       "    <tr style=\"text-align: right;\">\n",
       "      <th></th>\n",
       "      <th>total_rech_amt_6</th>\n",
       "      <th>total_rech_amt_7</th>\n",
       "      <th>total_rech_amt_8</th>\n",
       "      <th>total_rech_amt_9</th>\n",
       "      <th>max_rech_amt_6</th>\n",
       "      <th>max_rech_amt_7</th>\n",
       "      <th>max_rech_amt_8</th>\n",
       "      <th>max_rech_amt_9</th>\n",
       "      <th>total_rech_data_6</th>\n",
       "      <th>total_rech_data_7</th>\n",
       "      <th>total_rech_data_8</th>\n",
       "      <th>total_rech_data_9</th>\n",
       "      <th>max_rech_data_6</th>\n",
       "      <th>max_rech_data_7</th>\n",
       "      <th>max_rech_data_8</th>\n",
       "      <th>max_rech_data_9</th>\n",
       "      <th>av_rech_amt_data_6</th>\n",
       "      <th>av_rech_amt_data_7</th>\n",
       "      <th>av_rech_amt_data_8</th>\n",
       "      <th>av_rech_amt_data_9</th>\n",
       "    </tr>\n",
       "  </thead>\n",
       "  <tbody>\n",
       "    <tr>\n",
       "      <th>count</th>\n",
       "      <td>99999.000000</td>\n",
       "      <td>99999.000000</td>\n",
       "      <td>99999.000000</td>\n",
       "      <td>99999.000000</td>\n",
       "      <td>99999.000000</td>\n",
       "      <td>99999.000000</td>\n",
       "      <td>99999.000000</td>\n",
       "      <td>99999.000000</td>\n",
       "      <td>25153.000000</td>\n",
       "      <td>25571.000000</td>\n",
       "      <td>26339.000000</td>\n",
       "      <td>25922.000000</td>\n",
       "      <td>25153.000000</td>\n",
       "      <td>25571.000000</td>\n",
       "      <td>26339.000000</td>\n",
       "      <td>25922.00000</td>\n",
       "      <td>25153.000000</td>\n",
       "      <td>25571.000000</td>\n",
       "      <td>26339.000000</td>\n",
       "      <td>25922.000000</td>\n",
       "    </tr>\n",
       "    <tr>\n",
       "      <th>mean</th>\n",
       "      <td>327.514615</td>\n",
       "      <td>322.962970</td>\n",
       "      <td>324.157122</td>\n",
       "      <td>303.345673</td>\n",
       "      <td>104.637486</td>\n",
       "      <td>104.752398</td>\n",
       "      <td>107.728207</td>\n",
       "      <td>101.943889</td>\n",
       "      <td>2.463802</td>\n",
       "      <td>2.666419</td>\n",
       "      <td>2.651999</td>\n",
       "      <td>2.441170</td>\n",
       "      <td>126.393392</td>\n",
       "      <td>126.729459</td>\n",
       "      <td>125.717301</td>\n",
       "      <td>124.94144</td>\n",
       "      <td>192.600982</td>\n",
       "      <td>200.981292</td>\n",
       "      <td>197.526489</td>\n",
       "      <td>192.734315</td>\n",
       "    </tr>\n",
       "    <tr>\n",
       "      <th>std</th>\n",
       "      <td>398.019701</td>\n",
       "      <td>408.114237</td>\n",
       "      <td>416.540455</td>\n",
       "      <td>404.588583</td>\n",
       "      <td>120.614894</td>\n",
       "      <td>124.523970</td>\n",
       "      <td>126.902505</td>\n",
       "      <td>125.375109</td>\n",
       "      <td>2.789128</td>\n",
       "      <td>3.031593</td>\n",
       "      <td>3.074987</td>\n",
       "      <td>2.516339</td>\n",
       "      <td>108.477235</td>\n",
       "      <td>109.765267</td>\n",
       "      <td>109.437851</td>\n",
       "      <td>111.36376</td>\n",
       "      <td>192.646318</td>\n",
       "      <td>196.791224</td>\n",
       "      <td>191.301305</td>\n",
       "      <td>188.400286</td>\n",
       "    </tr>\n",
       "    <tr>\n",
       "      <th>min</th>\n",
       "      <td>0.000000</td>\n",
       "      <td>0.000000</td>\n",
       "      <td>0.000000</td>\n",
       "      <td>0.000000</td>\n",
       "      <td>0.000000</td>\n",
       "      <td>0.000000</td>\n",
       "      <td>0.000000</td>\n",
       "      <td>0.000000</td>\n",
       "      <td>1.000000</td>\n",
       "      <td>1.000000</td>\n",
       "      <td>1.000000</td>\n",
       "      <td>1.000000</td>\n",
       "      <td>1.000000</td>\n",
       "      <td>1.000000</td>\n",
       "      <td>1.000000</td>\n",
       "      <td>1.00000</td>\n",
       "      <td>1.000000</td>\n",
       "      <td>0.500000</td>\n",
       "      <td>0.500000</td>\n",
       "      <td>1.000000</td>\n",
       "    </tr>\n",
       "    <tr>\n",
       "      <th>25%</th>\n",
       "      <td>109.000000</td>\n",
       "      <td>100.000000</td>\n",
       "      <td>90.000000</td>\n",
       "      <td>52.000000</td>\n",
       "      <td>30.000000</td>\n",
       "      <td>30.000000</td>\n",
       "      <td>30.000000</td>\n",
       "      <td>28.000000</td>\n",
       "      <td>1.000000</td>\n",
       "      <td>1.000000</td>\n",
       "      <td>1.000000</td>\n",
       "      <td>1.000000</td>\n",
       "      <td>25.000000</td>\n",
       "      <td>25.000000</td>\n",
       "      <td>25.000000</td>\n",
       "      <td>25.00000</td>\n",
       "      <td>82.000000</td>\n",
       "      <td>92.000000</td>\n",
       "      <td>87.000000</td>\n",
       "      <td>69.000000</td>\n",
       "    </tr>\n",
       "    <tr>\n",
       "      <th>50%</th>\n",
       "      <td>230.000000</td>\n",
       "      <td>220.000000</td>\n",
       "      <td>225.000000</td>\n",
       "      <td>200.000000</td>\n",
       "      <td>110.000000</td>\n",
       "      <td>110.000000</td>\n",
       "      <td>98.000000</td>\n",
       "      <td>61.000000</td>\n",
       "      <td>1.000000</td>\n",
       "      <td>1.000000</td>\n",
       "      <td>1.000000</td>\n",
       "      <td>2.000000</td>\n",
       "      <td>145.000000</td>\n",
       "      <td>145.000000</td>\n",
       "      <td>145.000000</td>\n",
       "      <td>145.00000</td>\n",
       "      <td>154.000000</td>\n",
       "      <td>154.000000</td>\n",
       "      <td>154.000000</td>\n",
       "      <td>164.000000</td>\n",
       "    </tr>\n",
       "    <tr>\n",
       "      <th>75%</th>\n",
       "      <td>437.500000</td>\n",
       "      <td>428.000000</td>\n",
       "      <td>434.500000</td>\n",
       "      <td>415.000000</td>\n",
       "      <td>120.000000</td>\n",
       "      <td>128.000000</td>\n",
       "      <td>144.000000</td>\n",
       "      <td>144.000000</td>\n",
       "      <td>3.000000</td>\n",
       "      <td>3.000000</td>\n",
       "      <td>3.000000</td>\n",
       "      <td>3.000000</td>\n",
       "      <td>177.000000</td>\n",
       "      <td>177.000000</td>\n",
       "      <td>179.000000</td>\n",
       "      <td>179.00000</td>\n",
       "      <td>252.000000</td>\n",
       "      <td>252.000000</td>\n",
       "      <td>252.000000</td>\n",
       "      <td>252.000000</td>\n",
       "    </tr>\n",
       "    <tr>\n",
       "      <th>max</th>\n",
       "      <td>35190.000000</td>\n",
       "      <td>40335.000000</td>\n",
       "      <td>45320.000000</td>\n",
       "      <td>37235.000000</td>\n",
       "      <td>4010.000000</td>\n",
       "      <td>4010.000000</td>\n",
       "      <td>4449.000000</td>\n",
       "      <td>3399.000000</td>\n",
       "      <td>61.000000</td>\n",
       "      <td>54.000000</td>\n",
       "      <td>60.000000</td>\n",
       "      <td>84.000000</td>\n",
       "      <td>1555.000000</td>\n",
       "      <td>1555.000000</td>\n",
       "      <td>1555.000000</td>\n",
       "      <td>1555.00000</td>\n",
       "      <td>7546.000000</td>\n",
       "      <td>4365.000000</td>\n",
       "      <td>4076.000000</td>\n",
       "      <td>4061.000000</td>\n",
       "    </tr>\n",
       "  </tbody>\n",
       "</table>\n",
       "</div>"
      ],
      "text/plain": [
       "       total_rech_amt_6  total_rech_amt_7  total_rech_amt_8  total_rech_amt_9  \\\n",
       "count      99999.000000      99999.000000      99999.000000      99999.000000   \n",
       "mean         327.514615        322.962970        324.157122        303.345673   \n",
       "std          398.019701        408.114237        416.540455        404.588583   \n",
       "min            0.000000          0.000000          0.000000          0.000000   \n",
       "25%          109.000000        100.000000         90.000000         52.000000   \n",
       "50%          230.000000        220.000000        225.000000        200.000000   \n",
       "75%          437.500000        428.000000        434.500000        415.000000   \n",
       "max        35190.000000      40335.000000      45320.000000      37235.000000   \n",
       "\n",
       "       max_rech_amt_6  max_rech_amt_7  max_rech_amt_8  max_rech_amt_9  \\\n",
       "count    99999.000000    99999.000000    99999.000000    99999.000000   \n",
       "mean       104.637486      104.752398      107.728207      101.943889   \n",
       "std        120.614894      124.523970      126.902505      125.375109   \n",
       "min          0.000000        0.000000        0.000000        0.000000   \n",
       "25%         30.000000       30.000000       30.000000       28.000000   \n",
       "50%        110.000000      110.000000       98.000000       61.000000   \n",
       "75%        120.000000      128.000000      144.000000      144.000000   \n",
       "max       4010.000000     4010.000000     4449.000000     3399.000000   \n",
       "\n",
       "       total_rech_data_6  total_rech_data_7  total_rech_data_8  \\\n",
       "count       25153.000000       25571.000000       26339.000000   \n",
       "mean            2.463802           2.666419           2.651999   \n",
       "std             2.789128           3.031593           3.074987   \n",
       "min             1.000000           1.000000           1.000000   \n",
       "25%             1.000000           1.000000           1.000000   \n",
       "50%             1.000000           1.000000           1.000000   \n",
       "75%             3.000000           3.000000           3.000000   \n",
       "max            61.000000          54.000000          60.000000   \n",
       "\n",
       "       total_rech_data_9  max_rech_data_6  max_rech_data_7  max_rech_data_8  \\\n",
       "count       25922.000000     25153.000000     25571.000000     26339.000000   \n",
       "mean            2.441170       126.393392       126.729459       125.717301   \n",
       "std             2.516339       108.477235       109.765267       109.437851   \n",
       "min             1.000000         1.000000         1.000000         1.000000   \n",
       "25%             1.000000        25.000000        25.000000        25.000000   \n",
       "50%             2.000000       145.000000       145.000000       145.000000   \n",
       "75%             3.000000       177.000000       177.000000       179.000000   \n",
       "max            84.000000      1555.000000      1555.000000      1555.000000   \n",
       "\n",
       "       max_rech_data_9  av_rech_amt_data_6  av_rech_amt_data_7  \\\n",
       "count      25922.00000        25153.000000        25571.000000   \n",
       "mean         124.94144          192.600982          200.981292   \n",
       "std          111.36376          192.646318          196.791224   \n",
       "min            1.00000            1.000000            0.500000   \n",
       "25%           25.00000           82.000000           92.000000   \n",
       "50%          145.00000          154.000000          154.000000   \n",
       "75%          179.00000          252.000000          252.000000   \n",
       "max         1555.00000         7546.000000         4365.000000   \n",
       "\n",
       "       av_rech_amt_data_8  av_rech_amt_data_9  \n",
       "count        26339.000000        25922.000000  \n",
       "mean           197.526489          192.734315  \n",
       "std            191.301305          188.400286  \n",
       "min              0.500000            1.000000  \n",
       "25%             87.000000           69.000000  \n",
       "50%            154.000000          164.000000  \n",
       "75%            252.000000          252.000000  \n",
       "max           4076.000000         4061.000000  "
      ]
     },
     "execution_count": 61,
     "metadata": {},
     "output_type": "execute_result"
    }
   ],
   "source": [
    "# Checking Stastitical values of recharge relted variables\n",
    "telecom_df.loc[:,rech_amt_col].describe()"
   ]
  },
  {
   "cell_type": "code",
   "execution_count": 62,
   "metadata": {},
   "outputs": [],
   "source": [
    "# imputing missing values for recharge related data with 0, because..\n",
    "# Missing value indicates 0 recharge\n",
    "telecom_df['total_rech_data_6'] = telecom_df['total_rech_data_6'].replace(np.NaN,0.0)\n",
    "telecom_df['total_rech_data_7'] = telecom_df['total_rech_data_7'].replace(np.NaN,0.0)\n",
    "telecom_df['total_rech_data_8'] = telecom_df['total_rech_data_8'].replace(np.NaN,0.0)\n",
    "\n",
    "telecom_df['av_rech_amt_data_6'] = telecom_df['av_rech_amt_data_6'].replace(np.NaN,0.0)\n",
    "telecom_df['av_rech_amt_data_7'] = telecom_df['av_rech_amt_data_7'].replace(np.NaN,0.0)\n",
    "telecom_df['av_rech_amt_data_8'] = telecom_df['av_rech_amt_data_8'].replace(np.NaN,0.0)"
   ]
  },
  {
   "cell_type": "code",
   "execution_count": null,
   "metadata": {},
   "outputs": [],
   "source": [
    "# Creating new column for total recharge data amount total_rech_data_amt to get high value customers\n",
    "telecom_df['total_rech_data_amt_6'] = telecom_df['av_rech_amt_data_6'] * telecom_df['total_rech_data_6']\n",
    "telecom_df['total_rech_data_amt_7'] = telecom_df['av_rech_amt_data_7'] * telecom_df['total_rech_data_7']\n",
    "telecom_df['total_rech_data_amt_8'] = telecom_df['av_rech_amt_data_8'] * telecom_df['total_rech_data_8']"
   ]
  },
  {
   "cell_type": "code",
   "execution_count": 63,
   "metadata": {},
   "outputs": [],
   "source": [
    "# Creating new column of total average recharge amount for good phase months, ie, 6 and 7 \n",
    "telecom_df['total_avg_rech_amnt_6_7_GPhase'] = (telecom_df['total_rech_amt_6'] + telecom_df['total_rech_data_amt_6'] \\\n",
    "                                               + telecom_df['total_rech_amt_7']+ telecom_df['total_rech_data_amt_7'])/2"
   ]
  },
  {
   "cell_type": "markdown",
   "metadata": {},
   "source": [
    "#### Filtering out high value customers"
   ]
  },
  {
   "cell_type": "code",
   "execution_count": 64,
   "metadata": {},
   "outputs": [
    {
     "name": "stdout",
     "output_type": "stream",
     "text": [
      "70th Percentile for 6,7 month- 478.0\n",
      "Total records  (99999, 230)\n",
      "High Value customer records (29953, 230)\n"
     ]
    }
   ],
   "source": [
    "# Filtering high value customers: Those who have recharged with an amount more than or equal to X, \n",
    "# where X is the 70th percentile of the average recharge amount in the first two months (the good phase).\n",
    "high_value_filter = telecom_df['total_avg_rech_amnt_6_7_GPhase'].quantile(0.7)\n",
    "print(\"70th Percentile for 6,7 month-\", high_value_filter)\n",
    "\n",
    "print(\"Total records \",telecom_df.shape)\n",
    "telecom_df_high_val_cust = telecom_df[telecom_df['total_avg_rech_amnt_6_7_GPhase'] > high_value_filter]\n",
    "\n",
    "print(\"High Value customer records\", telecom_df_high_val_cust.shape)"
   ]
  },
  {
   "cell_type": "markdown",
   "metadata": {},
   "source": [
    "#### Determining Churn"
   ]
  },
  {
   "cell_type": "code",
   "execution_count": 65,
   "metadata": {},
   "outputs": [],
   "source": [
    "# Now tag the churned customers (churn=1, else 0) based on the fourth month as follows: \n",
    "# Those who have not made any calls (either incoming or outgoing) AND have not used mobile internet even once in the churn phase. \n",
    "# The attributes you need to use to tag churners are:\n",
    "\n",
    "#total_ic_mou_9\n",
    "#total_og_mou_9\n",
    "#vol_2g_mb_9\n",
    "#vol_3g_mb_9\n",
    "\n",
    "high_val_cust_9 = ['total_ic_mou_9', 'total_og_mou_9', 'vol_2g_mb_9','vol_3g_mb_9']\n",
    "#checking for missing values and NA for these columns\n",
    "round(100*(telecom_df_high_val_cust[high_val_cust_9].isnull().sum()/len(telecom_df_high_val_cust[high_val_cust_9].index)), 2).sort_values(ascending=False).head()\n",
    "\n",
    "# Initially set all the values as 0\n",
    "telecom_df_high_val_cust['churn']= 0"
   ]
  },
  {
   "cell_type": "code",
   "execution_count": 66,
   "metadata": {},
   "outputs": [
    {
     "data": {
      "text/plain": [
       "0         True\n",
       "7         True\n",
       "8        False\n",
       "21       False\n",
       "23       False\n",
       "         ...  \n",
       "99981    False\n",
       "99984    False\n",
       "99986    False\n",
       "99988    False\n",
       "99997    False\n",
       "Length: 29953, dtype: bool"
      ]
     },
     "execution_count": 66,
     "metadata": {},
     "output_type": "execute_result"
    }
   ],
   "source": [
    "#is_churned boolean flag for customers where above identified features have 0 value\n",
    "is_churned = (telecom_df_high_val_cust['total_ic_mou_9'] == 0) & \\\n",
    "             (telecom_df_high_val_cust['total_og_mou_9'] == 0) & \\\n",
    "             (telecom_df_high_val_cust['vol_2g_mb_9'] ==0) & \\\n",
    "             (telecom_df_high_val_cust['vol_3g_mb_9'] ==0)\n",
    "\n",
    "is_churned"
   ]
  },
  {
   "cell_type": "code",
   "execution_count": 68,
   "metadata": {},
   "outputs": [
    {
     "data": {
      "text/plain": [
       "8.12"
      ]
     },
     "execution_count": 68,
     "metadata": {},
     "output_type": "execute_result"
    }
   ],
   "source": [
    "# settin churn as 1 for the customers having is_churned condition as True\n",
    "telecom_df_high_val_cust.loc[is_churned,'churn']=1\n",
    "\n",
    "# Checking percentage of churned custoemrs\n",
    "round(100*(telecom_df_high_val_cust['churn'].sum()/len(telecom_df_high_val_cust)), 2)"
   ]
  },
  {
   "cell_type": "code",
   "execution_count": 69,
   "metadata": {},
   "outputs": [
    {
     "name": "stdout",
     "output_type": "stream",
     "text": [
      "(29953, 177)\n"
     ]
    }
   ],
   "source": [
    "#After tagging churners, remove all the attributes corresponding to the churn phase (attributes having ‘ _9’, in their names).\n",
    "churn_month_columns =  telecom_df_high_val_cust.columns[telecom_df_high_val_cust.columns.str.contains('_9')]\n",
    "\n",
    "# drop all columns corresponding to the churn phase\n",
    "telecom_df_high_val_cust.drop(churn_month_columns,axis=1,inplace=True)\n",
    "\n",
    "print(telecom_df_high_val_cust.shape)"
   ]
  },
  {
   "cell_type": "code",
   "execution_count": 70,
   "metadata": {},
   "outputs": [
    {
     "name": "stdout",
     "output_type": "stream",
     "text": [
      "list of columns dropped: date_of_last_rech_data_6    date_of_last_rech_data_6\n",
      "date_of_last_rech_data_7    date_of_last_rech_data_7\n",
      "date_of_last_rech_data_8    date_of_last_rech_data_8\n",
      "max_rech_data_6                      max_rech_data_6\n",
      "max_rech_data_7                      max_rech_data_7\n",
      "max_rech_data_8                      max_rech_data_8\n",
      "count_rech_2g_6                      count_rech_2g_6\n",
      "count_rech_2g_7                      count_rech_2g_7\n",
      "count_rech_2g_8                      count_rech_2g_8\n",
      "count_rech_3g_6                      count_rech_3g_6\n",
      "count_rech_3g_7                      count_rech_3g_7\n",
      "count_rech_3g_8                      count_rech_3g_8\n",
      "arpu_3g_6                                  arpu_3g_6\n",
      "arpu_3g_7                                  arpu_3g_7\n",
      "arpu_3g_8                                  arpu_3g_8\n",
      "arpu_2g_6                                  arpu_2g_6\n",
      "arpu_2g_7                                  arpu_2g_7\n",
      "arpu_2g_8                                  arpu_2g_8\n",
      "night_pck_user_6                    night_pck_user_6\n",
      "night_pck_user_7                    night_pck_user_7\n",
      "night_pck_user_8                    night_pck_user_8\n",
      "fb_user_6                                  fb_user_6\n",
      "fb_user_7                                  fb_user_7\n",
      "fb_user_8                                  fb_user_8\n",
      "Name: col_name, dtype: object\n",
      "(29953, 153)\n"
     ]
    }
   ],
   "source": [
    "# Drop Columns with > 30% of missing values except 9th Month's columns\n",
    "cols = telecom_df_high_val_cust.columns\n",
    "df_null_perc = telecom_df_high_val_cust.isnull().sum() * 100 / len(telecom_df_high_val_cust)\n",
    "df_null_df = pd.DataFrame({'col_name': cols,\n",
    "                                 'perc_null': df_null_perc})\n",
    "\n",
    "drop_cols = df_null_df.loc[(df_null_df[\"col_name\"].str.contains('_9')==False) & (df_null_df[\"perc_null\"] > 30.0)][\"col_name\"]\n",
    "print(\"list of columns dropped:\",drop_cols)\n",
    "\n",
    "# lets drop these columns\n",
    "telecom_df_high_val_cust.drop(drop_cols, axis=1,inplace = True)\n",
    "print(telecom_df_high_val_cust.shape)"
   ]
  },
  {
   "cell_type": "markdown",
   "metadata": {},
   "source": [
    "#### Defining some functions"
   ]
  },
  {
   "cell_type": "code",
   "execution_count": 71,
   "metadata": {},
   "outputs": [],
   "source": [
    "# Function to indicate if a variable is categorical or continous\n",
    "def get_variable_type(element) :\n",
    "    \"\"\"\n",
    "     Check is columns are of Contineous or Categorical variable.\n",
    "     Assumption is that if \n",
    "                 unique count < 20 then categorical \n",
    "                 unique count >= 20 and dtype = [int64 or float64] then contineous\n",
    "     \"\"\"\n",
    "    if element==0:\n",
    "        return \"Not Known\"\n",
    "    elif element < 20 and element!=0 :\n",
    "        return \"Categorical\"\n",
    "    elif element >= 20 and element!=0 :\n",
    "        return \"Contineous\" \n",
    "    \n",
    "# Function to get meta data about variables\n",
    "def get_meta_data(dataframe) :\n",
    "    \"\"\"\n",
    "     Method to get Meta-Data about any dataframe passed \n",
    "    \"\"\"\n",
    "    metadata_matrix = pd.DataFrame({\n",
    "                    'Datatype' : dataframe.dtypes.astype(str), \n",
    "                    'Non_Null_Count': dataframe.count(axis = 0).astype(int), \n",
    "                    'Null_Count': dataframe.isnull().sum().astype(int), \n",
    "                    'Null_Percentage': dataframe.isnull().sum()/len(dataframe) * 100, \n",
    "                    'Unique_Values_Count': dataframe.nunique().astype(int) \n",
    "                     })\n",
    "    \n",
    "    metadata_matrix = predict_variable_type(metadata_matrix)\n",
    "    return metadata_matrix\n",
    " \n",
    "# Function to display the number of unique values\n",
    "def display_columns_with_1_unique_value(dataframe):\n",
    "    unique_values_count_1 = dataframe[dataframe[\"Unique_Values_Count\"] == 1]\n",
    "    drop_value_col = unique_values_count_1.index.tolist()\n",
    "    lenght = len(drop_value_col)\n",
    "    header(\"Columns with only one unique value : \"+str(lenght))\n",
    "    if lenght == 0 :\n",
    "        print(\"No columns with only one unique values.\")  \n",
    "    else :    \n",
    "        prnt(\"Columns with only one unique value :\")\n",
    "        for index,item in enumerate(drop_value_col) :\n",
    "            print(index,\".\",item)\n",
    "\n",
    "\n",
    "def predict_variable_type(metadata_matrix):\n",
    "    metadata_matrix[\"Variable_Type\"] = metadata_matrix[\"Unique_Values_Count\"].apply(get_variable_type).astype(str)\n",
    "    metadata_matrix[\"frequency\"] = metadata_matrix[\"Null_Count\"] - metadata_matrix[\"Null_Count\"]\n",
    "    metadata_matrix[\"frequency\"].astype(int)\n",
    "    return metadata_matrix \n",
    "\n",
    "\n",
    "def list_potential_categorical_type(dataframe,main) :\n",
    "    #header(\"Stats for potential Categorical datatype columns\")\n",
    "    metadata_matrix_categorical = dataframe[dataframe[\"Variable_Type\"] == \"Categorical\"]\n",
    "    # TO DO *** Add check to skip below if there is no Categorical values \n",
    "    length = len(metadata_matrix_categorical)\n",
    "    if length == 0 :\n",
    "        print(\"No Categorical columns in given dataset.\")  \n",
    "    else :    \n",
    "        metadata_matrix_categorical = metadata_matrix_categorical.filter([\"Datatype\",\"Unique_Values_Count\"])\n",
    "        metadata_matrix_categorical.sort_values([\"Unique_Values_Count\"], axis=0,ascending=False, inplace=True)\n",
    "        col_to_check = metadata_matrix_categorical.index.tolist()\n",
    "        name_list = []\n",
    "        values_list = []\n",
    "        for name in col_to_check :\n",
    "            name_list.append(name)\n",
    "            values_list.append(main[name].unique())\n",
    "        temp = pd.DataFrame({\"index\":name_list,\"Unique_Values\":values_list})\n",
    "        metadata_matrix_categorical = metadata_matrix_categorical.reset_index()\n",
    "        metadata_matrix_categorical = pd.merge(metadata_matrix_categorical,temp,how='inner',on='index')\n",
    "        display(metadata_matrix_categorical.set_index(\"index\")) \n",
    "\n",
    "def plot_data_type_pie_chat(dataframe) : \n",
    "        print(\"Stats for Datatype Percentage Distribution\")\n",
    "        dataframe_group = dataframe.groupby(\"Datatype\").frequency.count().reset_index()\n",
    "        dataframe_group.sort_values([\"Datatype\"], axis=0,ascending=False, inplace=True)\n",
    "        trace = go.Pie(labels=dataframe_group[\"Datatype\"].tolist(), values=dataframe_group[\"frequency\"].tolist())\n",
    "        layout = go.Layout(title=\"Datatype Percentage Distribution\")\n",
    "        fig = go.Figure(data=[trace], layout=layout)    \n",
    "        py.offline.iplot(fig)\n",
    "    \n",
    "def get_potential_categorical_type(dataframe,main,unique_count) :\n",
    "    metadata_matrix_categorical = dataframe[dataframe[\"Variable_Type\"] == \"Categorical\"]\n",
    "    metadata_matrix_categorical = dataframe[dataframe[\"Unique_Values_Count\"] == unique_count]\n",
    "    length = len(metadata_matrix_categorical)\n",
    "    if length == 0 :\n",
    "        print(\"No Categorical columns in given dataset.\")\n",
    "    else :\n",
    "        metadata_matrix_categorical = metadata_matrix_categorical.filter([\"Datatype\",\"Unique_Values_Count\"])\n",
    "        metadata_matrix_categorical.sort_values([\"Unique_Values_Count\"], axis=0,ascending=False, inplace=True)\n",
    "        col_to_check = metadata_matrix_categorical.index.tolist()\n",
    "        name_list = []\n",
    "        values_list = []\n",
    "        for name in col_to_check :\n",
    "            name_list.append(name)\n",
    "            values_list.append(main[name].unique())\n",
    "        temp = pd.DataFrame({\"index\":name_list,\"Unique_Values\":values_list})\n",
    "        metadata_matrix_categorical = metadata_matrix_categorical.reset_index()\n",
    "        metadata_matrix_categorical = pd.merge(metadata_matrix_categorical,temp,how='inner',on='index')\n",
    "        display(metadata_matrix_categorical.set_index(\"index\")) "
   ]
  },
  {
   "cell_type": "code",
   "execution_count": 72,
   "metadata": {},
   "outputs": [
    {
     "data": {
      "text/html": [
       "<div>\n",
       "<style scoped>\n",
       "    .dataframe tbody tr th:only-of-type {\n",
       "        vertical-align: middle;\n",
       "    }\n",
       "\n",
       "    .dataframe tbody tr th {\n",
       "        vertical-align: top;\n",
       "    }\n",
       "\n",
       "    .dataframe thead th {\n",
       "        text-align: right;\n",
       "    }\n",
       "</style>\n",
       "<table border=\"1\" class=\"dataframe\">\n",
       "  <thead>\n",
       "    <tr style=\"text-align: right;\">\n",
       "      <th></th>\n",
       "      <th>Datatype</th>\n",
       "      <th>Unique_Values_Count</th>\n",
       "      <th>Unique_Values</th>\n",
       "    </tr>\n",
       "    <tr>\n",
       "      <th>index</th>\n",
       "      <th></th>\n",
       "      <th></th>\n",
       "      <th></th>\n",
       "    </tr>\n",
       "  </thead>\n",
       "  <tbody>\n",
       "    <tr>\n",
       "      <th>monthly_3g_7</th>\n",
       "      <td>int64</td>\n",
       "      <td>15</td>\n",
       "      <td>[1, 0, 2, 5, 3, 8, 4, 7, 6, 9, 11, 12, 14, 10,...</td>\n",
       "    </tr>\n",
       "    <tr>\n",
       "      <th>monthly_3g_8</th>\n",
       "      <td>int64</td>\n",
       "      <td>12</td>\n",
       "      <td>[1, 0, 2, 7, 3, 4, 6, 5, 8, 10, 9, 16]</td>\n",
       "    </tr>\n",
       "    <tr>\n",
       "      <th>monthly_3g_6</th>\n",
       "      <td>int64</td>\n",
       "      <td>12</td>\n",
       "      <td>[1, 0, 4, 2, 3, 5, 7, 6, 9, 8, 11, 14]</td>\n",
       "    </tr>\n",
       "    <tr>\n",
       "      <th>monthly_2g_8</th>\n",
       "      <td>int64</td>\n",
       "      <td>6</td>\n",
       "      <td>[0, 1, 2, 5, 3, 4]</td>\n",
       "    </tr>\n",
       "    <tr>\n",
       "      <th>monthly_2g_7</th>\n",
       "      <td>int64</td>\n",
       "      <td>6</td>\n",
       "      <td>[0, 1, 2, 5, 4, 3]</td>\n",
       "    </tr>\n",
       "    <tr>\n",
       "      <th>monthly_2g_6</th>\n",
       "      <td>int64</td>\n",
       "      <td>5</td>\n",
       "      <td>[0, 2, 1, 3, 4]</td>\n",
       "    </tr>\n",
       "    <tr>\n",
       "      <th>churn</th>\n",
       "      <td>int64</td>\n",
       "      <td>2</td>\n",
       "      <td>[1, 0]</td>\n",
       "    </tr>\n",
       "    <tr>\n",
       "      <th>loc_og_t2o_mou</th>\n",
       "      <td>float64</td>\n",
       "      <td>1</td>\n",
       "      <td>[0.0, nan]</td>\n",
       "    </tr>\n",
       "    <tr>\n",
       "      <th>std_ic_t2o_mou_8</th>\n",
       "      <td>float64</td>\n",
       "      <td>1</td>\n",
       "      <td>[0.0, nan]</td>\n",
       "    </tr>\n",
       "    <tr>\n",
       "      <th>std_ic_t2o_mou_7</th>\n",
       "      <td>float64</td>\n",
       "      <td>1</td>\n",
       "      <td>[nan, 0.0]</td>\n",
       "    </tr>\n",
       "    <tr>\n",
       "      <th>circle_id</th>\n",
       "      <td>int64</td>\n",
       "      <td>1</td>\n",
       "      <td>[109]</td>\n",
       "    </tr>\n",
       "    <tr>\n",
       "      <th>std_og_t2c_mou_8</th>\n",
       "      <td>float64</td>\n",
       "      <td>1</td>\n",
       "      <td>[0.0, nan]</td>\n",
       "    </tr>\n",
       "    <tr>\n",
       "      <th>std_og_t2c_mou_7</th>\n",
       "      <td>float64</td>\n",
       "      <td>1</td>\n",
       "      <td>[nan, 0.0]</td>\n",
       "    </tr>\n",
       "    <tr>\n",
       "      <th>std_og_t2c_mou_6</th>\n",
       "      <td>float64</td>\n",
       "      <td>1</td>\n",
       "      <td>[nan, 0.0]</td>\n",
       "    </tr>\n",
       "    <tr>\n",
       "      <th>last_date_of_month_8</th>\n",
       "      <td>object</td>\n",
       "      <td>1</td>\n",
       "      <td>[8/31/2014, nan]</td>\n",
       "    </tr>\n",
       "    <tr>\n",
       "      <th>last_date_of_month_7</th>\n",
       "      <td>object</td>\n",
       "      <td>1</td>\n",
       "      <td>[7/31/2014, nan]</td>\n",
       "    </tr>\n",
       "    <tr>\n",
       "      <th>last_date_of_month_6</th>\n",
       "      <td>object</td>\n",
       "      <td>1</td>\n",
       "      <td>[6/30/2014]</td>\n",
       "    </tr>\n",
       "    <tr>\n",
       "      <th>loc_ic_t2o_mou</th>\n",
       "      <td>float64</td>\n",
       "      <td>1</td>\n",
       "      <td>[0.0, nan]</td>\n",
       "    </tr>\n",
       "    <tr>\n",
       "      <th>std_og_t2o_mou</th>\n",
       "      <td>float64</td>\n",
       "      <td>1</td>\n",
       "      <td>[0.0, nan]</td>\n",
       "    </tr>\n",
       "    <tr>\n",
       "      <th>std_ic_t2o_mou_6</th>\n",
       "      <td>float64</td>\n",
       "      <td>1</td>\n",
       "      <td>[nan, 0.0]</td>\n",
       "    </tr>\n",
       "  </tbody>\n",
       "</table>\n",
       "</div>"
      ],
      "text/plain": [
       "                     Datatype  Unique_Values_Count  \\\n",
       "index                                                \n",
       "monthly_3g_7            int64                   15   \n",
       "monthly_3g_8            int64                   12   \n",
       "monthly_3g_6            int64                   12   \n",
       "monthly_2g_8            int64                    6   \n",
       "monthly_2g_7            int64                    6   \n",
       "monthly_2g_6            int64                    5   \n",
       "churn                   int64                    2   \n",
       "loc_og_t2o_mou        float64                    1   \n",
       "std_ic_t2o_mou_8      float64                    1   \n",
       "std_ic_t2o_mou_7      float64                    1   \n",
       "circle_id               int64                    1   \n",
       "std_og_t2c_mou_8      float64                    1   \n",
       "std_og_t2c_mou_7      float64                    1   \n",
       "std_og_t2c_mou_6      float64                    1   \n",
       "last_date_of_month_8   object                    1   \n",
       "last_date_of_month_7   object                    1   \n",
       "last_date_of_month_6   object                    1   \n",
       "loc_ic_t2o_mou        float64                    1   \n",
       "std_og_t2o_mou        float64                    1   \n",
       "std_ic_t2o_mou_6      float64                    1   \n",
       "\n",
       "                                                          Unique_Values  \n",
       "index                                                                    \n",
       "monthly_3g_7          [1, 0, 2, 5, 3, 8, 4, 7, 6, 9, 11, 12, 14, 10,...  \n",
       "monthly_3g_8                     [1, 0, 2, 7, 3, 4, 6, 5, 8, 10, 9, 16]  \n",
       "monthly_3g_6                     [1, 0, 4, 2, 3, 5, 7, 6, 9, 8, 11, 14]  \n",
       "monthly_2g_8                                         [0, 1, 2, 5, 3, 4]  \n",
       "monthly_2g_7                                         [0, 1, 2, 5, 4, 3]  \n",
       "monthly_2g_6                                            [0, 2, 1, 3, 4]  \n",
       "churn                                                            [1, 0]  \n",
       "loc_og_t2o_mou                                               [0.0, nan]  \n",
       "std_ic_t2o_mou_8                                             [0.0, nan]  \n",
       "std_ic_t2o_mou_7                                             [nan, 0.0]  \n",
       "circle_id                                                         [109]  \n",
       "std_og_t2c_mou_8                                             [0.0, nan]  \n",
       "std_og_t2c_mou_7                                             [nan, 0.0]  \n",
       "std_og_t2c_mou_6                                             [nan, 0.0]  \n",
       "last_date_of_month_8                                   [8/31/2014, nan]  \n",
       "last_date_of_month_7                                   [7/31/2014, nan]  \n",
       "last_date_of_month_6                                        [6/30/2014]  \n",
       "loc_ic_t2o_mou                                               [0.0, nan]  \n",
       "std_og_t2o_mou                                               [0.0, nan]  \n",
       "std_ic_t2o_mou_6                                             [nan, 0.0]  "
      ]
     },
     "metadata": {},
     "output_type": "display_data"
    }
   ],
   "source": [
    "# Checking if variable is categorical or continous by checking the number of unique values\n",
    "list_potential_categorical_type(get_meta_data(telecom_df_high_val_cust),telecom_df_high_val_cust)"
   ]
  },
  {
   "cell_type": "code",
   "execution_count": 73,
   "metadata": {},
   "outputs": [
    {
     "name": "stdout",
     "output_type": "stream",
     "text": [
      "(29953, 140)\n"
     ]
    }
   ],
   "source": [
    "# Dropping columns with unique values\n",
    "drop_col_with_unique_col =['circle_id', 'loc_og_t2o_mou', 'std_og_t2o_mou', 'loc_ic_t2o_mou', 'last_date_of_month_6', \n",
    "                           'last_date_of_month_7', 'last_date_of_month_8','std_og_t2c_mou_6', 'std_og_t2c_mou_7', \n",
    "                          'std_og_t2c_mou_8',  'std_ic_t2o_mou_6', 'std_ic_t2o_mou_7', 'std_ic_t2o_mou_8']\n",
    "\n",
    "telecom_df_high_val_cust.drop(drop_col_with_unique_col,axis=1,inplace=True)\n",
    "\n",
    "print(telecom_df_high_val_cust.shape)\n"
   ]
  },
  {
   "cell_type": "code",
   "execution_count": 76,
   "metadata": {},
   "outputs": [
    {
     "data": {
      "text/plain": [
       "Index(['date_of_last_rech_6', 'date_of_last_rech_7', 'date_of_last_rech_8'], dtype='object')"
      ]
     },
     "execution_count": 76,
     "metadata": {},
     "output_type": "execute_result"
    }
   ],
   "source": [
    "# exploring date columns\n",
    "date_col = telecom_df_high_val_cust.columns[telecom_df_high_val_cust.columns.str.contains('date')]\n",
    "date_col"
   ]
  },
  {
   "cell_type": "code",
   "execution_count": 77,
   "metadata": {},
   "outputs": [
    {
     "data": {
      "text/html": [
       "<div>\n",
       "<style scoped>\n",
       "    .dataframe tbody tr th:only-of-type {\n",
       "        vertical-align: middle;\n",
       "    }\n",
       "\n",
       "    .dataframe tbody tr th {\n",
       "        vertical-align: top;\n",
       "    }\n",
       "\n",
       "    .dataframe thead th {\n",
       "        text-align: right;\n",
       "    }\n",
       "</style>\n",
       "<table border=\"1\" class=\"dataframe\">\n",
       "  <thead>\n",
       "    <tr style=\"text-align: right;\">\n",
       "      <th></th>\n",
       "      <th>date_of_last_rech_6</th>\n",
       "      <th>date_of_last_rech_7</th>\n",
       "      <th>date_of_last_rech_8</th>\n",
       "    </tr>\n",
       "  </thead>\n",
       "  <tbody>\n",
       "    <tr>\n",
       "      <th>0</th>\n",
       "      <td>6/21/2014</td>\n",
       "      <td>7/16/2014</td>\n",
       "      <td>8/8/2014</td>\n",
       "    </tr>\n",
       "    <tr>\n",
       "      <th>7</th>\n",
       "      <td>6/27/2014</td>\n",
       "      <td>7/25/2014</td>\n",
       "      <td>8/26/2014</td>\n",
       "    </tr>\n",
       "    <tr>\n",
       "      <th>8</th>\n",
       "      <td>6/25/2014</td>\n",
       "      <td>7/31/2014</td>\n",
       "      <td>8/30/2014</td>\n",
       "    </tr>\n",
       "    <tr>\n",
       "      <th>21</th>\n",
       "      <td>6/30/2014</td>\n",
       "      <td>7/31/2014</td>\n",
       "      <td>8/31/2014</td>\n",
       "    </tr>\n",
       "    <tr>\n",
       "      <th>23</th>\n",
       "      <td>6/18/2014</td>\n",
       "      <td>7/7/2014</td>\n",
       "      <td>8/24/2014</td>\n",
       "    </tr>\n",
       "  </tbody>\n",
       "</table>\n",
       "</div>"
      ],
      "text/plain": [
       "   date_of_last_rech_6 date_of_last_rech_7 date_of_last_rech_8\n",
       "0            6/21/2014           7/16/2014            8/8/2014\n",
       "7            6/27/2014           7/25/2014           8/26/2014\n",
       "8            6/25/2014           7/31/2014           8/30/2014\n",
       "21           6/30/2014           7/31/2014           8/31/2014\n",
       "23           6/18/2014            7/7/2014           8/24/2014"
      ]
     },
     "execution_count": 77,
     "metadata": {},
     "output_type": "execute_result"
    }
   ],
   "source": [
    "# date_col = ['date_of_last_rech_6','date_of_last_rech_7','date_of_last_rech_8','date_of_last_rech_data_6',\n",
    "#            'date_of_last_rech_data_7','date_of_last_rech_data_8']\n",
    "\n",
    "date_col = ['date_of_last_rech_6', 'date_of_last_rech_7', 'date_of_last_rech_8']\n",
    "telecom_df_high_val_cust[date_col].head(5)"
   ]
  },
  {
   "cell_type": "code",
   "execution_count": 78,
   "metadata": {},
   "outputs": [
    {
     "data": {
      "text/html": [
       "<div>\n",
       "<style scoped>\n",
       "    .dataframe tbody tr th:only-of-type {\n",
       "        vertical-align: middle;\n",
       "    }\n",
       "\n",
       "    .dataframe tbody tr th {\n",
       "        vertical-align: top;\n",
       "    }\n",
       "\n",
       "    .dataframe thead th {\n",
       "        text-align: right;\n",
       "    }\n",
       "</style>\n",
       "<table border=\"1\" class=\"dataframe\">\n",
       "  <thead>\n",
       "    <tr style=\"text-align: right;\">\n",
       "      <th></th>\n",
       "      <th>date_of_last_rech_6</th>\n",
       "      <th>date_of_last_rech_7</th>\n",
       "      <th>date_of_last_rech_8</th>\n",
       "    </tr>\n",
       "  </thead>\n",
       "  <tbody>\n",
       "    <tr>\n",
       "      <th>0</th>\n",
       "      <td>2014-06-21</td>\n",
       "      <td>2014-07-16</td>\n",
       "      <td>2014-08-08</td>\n",
       "    </tr>\n",
       "    <tr>\n",
       "      <th>7</th>\n",
       "      <td>2014-06-27</td>\n",
       "      <td>2014-07-25</td>\n",
       "      <td>2014-08-26</td>\n",
       "    </tr>\n",
       "    <tr>\n",
       "      <th>8</th>\n",
       "      <td>2014-06-25</td>\n",
       "      <td>2014-07-31</td>\n",
       "      <td>2014-08-30</td>\n",
       "    </tr>\n",
       "    <tr>\n",
       "      <th>21</th>\n",
       "      <td>2014-06-30</td>\n",
       "      <td>2014-07-31</td>\n",
       "      <td>2014-08-31</td>\n",
       "    </tr>\n",
       "    <tr>\n",
       "      <th>23</th>\n",
       "      <td>2014-06-18</td>\n",
       "      <td>2014-07-07</td>\n",
       "      <td>2014-08-24</td>\n",
       "    </tr>\n",
       "  </tbody>\n",
       "</table>\n",
       "</div>"
      ],
      "text/plain": [
       "   date_of_last_rech_6 date_of_last_rech_7 date_of_last_rech_8\n",
       "0           2014-06-21          2014-07-16          2014-08-08\n",
       "7           2014-06-27          2014-07-25          2014-08-26\n",
       "8           2014-06-25          2014-07-31          2014-08-30\n",
       "21          2014-06-30          2014-07-31          2014-08-31\n",
       "23          2014-06-18          2014-07-07          2014-08-24"
      ]
     },
     "execution_count": 78,
     "metadata": {},
     "output_type": "execute_result"
    }
   ],
   "source": [
    "# Converting date related columns to date type\n",
    "for col in date_col:\n",
    "    telecom_df_high_val_cust[col] = pd.to_datetime(telecom_df_high_val_cust[col])\n",
    "telecom_df_high_val_cust[date_col].head(5)"
   ]
  },
  {
   "cell_type": "code",
   "execution_count": 79,
   "metadata": {},
   "outputs": [],
   "source": [
    "# create box plot for  6th, 7th and 8th month\n",
    "def plot_box_chart(attribute):\n",
    "    plt.figure(figsize=(20,16))\n",
    "    df = telecom_df_high_val_cust\n",
    "    plt.subplot(2,3,1)\n",
    "    sns.boxplot(data=df, y=attribute+\"_6\",x=\"churn\",hue=\"churn\",\n",
    "                showfliers=False,palette=(\"plasma\"))\n",
    "    plt.subplot(2,3,2)\n",
    "    sns.boxplot(data=df, y=attribute+\"_7\",x=\"churn\",hue=\"churn\",\n",
    "                showfliers=False,palette=(\"plasma\"))\n",
    "    plt.subplot(2,3,3)\n",
    "    sns.boxplot(data=df, y=attribute+\"_8\",x=\"churn\",hue=\"churn\",\n",
    "                showfliers=False,palette=(\"plasma\"))\n",
    "    plt.show()"
   ]
  },
  {
   "cell_type": "markdown",
   "metadata": {},
   "source": [
    "## Exploratory analysis"
   ]
  },
  {
   "cell_type": "code",
   "execution_count": 80,
   "metadata": {},
   "outputs": [
    {
     "data": {
      "image/png": "[encoded data removed]",
      "text/plain": [
       "<Figure size 1440x1152 with 3 Axes>"
      ]
     },
     "metadata": {
      "needs_background": "light"
     },
     "output_type": "display_data"
    }
   ],
   "source": [
    "# Ploting for total recharge amount:\n",
    "plot_box_chart('total_rech_amt')\n",
    "#We can see a drop in the total recharge amount for churned customers in the 8th Month (Action Phase)."
   ]
  },
  {
   "cell_type": "code",
   "execution_count": 81,
   "metadata": {},
   "outputs": [
    {
     "data": {
      "image/png": "[encoded data removed]",
      "text/plain": [
       "<Figure size 1440x1152 with 3 Axes>"
      ]
     },
     "metadata": {
      "needs_background": "light"
     },
     "output_type": "display_data"
    }
   ],
   "source": [
    "# Ploting for total recharge amount for data:\n",
    "plot_box_chart('total_rech_data_amt')\n",
    "#We can see that there is a huge drop in total recharge amount for data in the 8th month (action phase) for churned customers."
   ]
  },
  {
   "cell_type": "code",
   "execution_count": 82,
   "metadata": {},
   "outputs": [
    {
     "data": {
      "image/png": "[encoded data removed]",
      "text/plain": [
       "<Figure size 1440x1152 with 3 Axes>"
      ]
     },
     "metadata": {
      "needs_background": "light"
     },
     "output_type": "display_data"
    }
   ],
   "source": [
    "# Ploting for maximum recharge amount for data:\n",
    "plot_box_chart('max_rech_amt')\n",
    "#We can see that there is a huge drop in maximum recharge amount for data in the 8th month (action phase) for churned customers."
   ]
  },
  {
   "cell_type": "code",
   "execution_count": 84,
   "metadata": {},
   "outputs": [
    {
     "data": {
      "image/png": "[encoded data removed]",
      "text/plain": [
       "<Figure size 1440x1152 with 3 Axes>"
      ]
     },
     "metadata": {
      "needs_background": "light"
     },
     "output_type": "display_data"
    }
   ],
   "source": [
    "# Ploting for Total recharge for Number:\n",
    "plot_box_chart('total_rech_num')\n",
    "#We can see that there is a huge drop in total recharge number also in the 8th month (action phase) for churned customers."
   ]
  },
  {
   "cell_type": "code",
   "execution_count": 86,
   "metadata": {},
   "outputs": [
    {
     "data": {
      "image/png": "[encoded data removed]",
      "text/plain": [
       "<Figure size 1440x1152 with 3 Axes>"
      ]
     },
     "metadata": {
      "needs_background": "light"
     },
     "output_type": "display_data"
    }
   ],
   "source": [
    "# Ploting for last day recharge amount:\n",
    "plot_box_chart('last_day_rch_amt')\n",
    "#  We are getting a huge drop in 8th month recharge amount for churned customers."
   ]
  },
  {
   "cell_type": "code",
   "execution_count": 87,
   "metadata": {},
   "outputs": [
    {
     "data": {
      "image/png": "[encoded data removed]",
      "text/plain": [
       "<Figure size 1440x1152 with 3 Axes>"
      ]
     },
     "metadata": {
      "needs_background": "light"
     },
     "output_type": "display_data"
    }
   ],
   "source": [
    "# Ploting for volume of 2G and 3G usage columns:\n",
    "plot_box_chart('vol_2g_mb')\n",
    "# Huge drop in the 2g data for churned customers in 8th month, it has also decreased consistently over the months."
   ]
  },
  {
   "cell_type": "code",
   "execution_count": 88,
   "metadata": {},
   "outputs": [
    {
     "data": {
      "image/png": "[encoded data removed]",
      "text/plain": [
       "<Figure size 1440x1152 with 3 Axes>"
      ]
     },
     "metadata": {
      "needs_background": "light"
     },
     "output_type": "display_data"
    }
   ],
   "source": [
    "plot_box_chart('vol_3g_mb')"
   ]
  },
  {
   "cell_type": "markdown",
   "metadata": {},
   "source": [
    "Huge drop in the 3g data for churned customers in 8th month, it has also decreased consistently over the months. <br>"
   ]
  },
  {
   "cell_type": "code",
   "execution_count": 89,
   "metadata": {},
   "outputs": [
    {
     "data": {
      "image/png": "[encoded data removed]",
      "text/plain": [
       "<Figure size 1008x576 with 1 Axes>"
      ]
     },
     "metadata": {
      "needs_background": "light"
     },
     "output_type": "display_data"
    }
   ],
   "source": [
    "# plotting the distribution of customers as per the number of months they have been using the service\n",
    "plt.figure(figsize=(14,8))\n",
    "# aon --> Age on network - number of days the customer is using the operator T network\n",
    "telecom_df_high_val_cust['tenure'] = telecom_df_high_val_cust['aon']/30\n",
    "telecom_df_high_val_cust['tenure'].head()\n",
    "ax = sns.distplot(telecom_df_high_val_cust['tenure'], hist=True, kde=False, \n",
    "             bins=int(180/5), color = 'darkgreen', \n",
    "             hist_kws={'edgecolor':'red'},\n",
    "             kde_kws={'linewidth': 4})\n",
    "ax.set_ylabel('Number of Customers')\n",
    "ax.set_xlabel('Tenure in Months')\n",
    "ax.set_title('Customers Vs Tenure')\n",
    "plt.show()"
   ]
  },
  {
   "cell_type": "code",
   "execution_count": 90,
   "metadata": {},
   "outputs": [
    {
     "data": {
      "image/png": "[encoded data removed]",
      "text/plain": [
       "<Figure size 1008x576 with 1 Axes>"
      ]
     },
     "metadata": {
      "needs_background": "light"
     },
     "output_type": "display_data"
    }
   ],
   "source": [
    "tn_range = [0, 6, 12, 24, 60, 61]\n",
    "tn_label = [ '0-6 Months', '6-12 Months', '1-2 Yrs', '2-5 Yrs', '5 Yrs and above']\n",
    "telecom_df_high_val_cust['tenure_range'] = pd.cut(telecom_df_high_val_cust['tenure'], tn_range, labels=tn_label)\n",
    "\n",
    "plt.figure(figsize=(14,8))\n",
    "sns.countplot(x = 'tenure_range', hue = 'churn',data = telecom_df_high_val_cust,palette=(\"plasma\"))\n",
    "plt.show()\n"
   ]
  },
  {
   "cell_type": "code",
   "execution_count": 101,
   "metadata": {},
   "outputs": [],
   "source": [
    "# Dropping 'tenure_range' column\n",
    "telecom_df_high_val_cust.drop([\"tenure_range\"],axis=1,inplace=True)"
   ]
  },
  {
   "cell_type": "code",
   "execution_count": 102,
   "metadata": {},
   "outputs": [
    {
     "data": {
      "text/plain": [
       "og_others_8            3.912797\n",
       "std_ic_t2m_mou_8       3.912797\n",
       "std_og_t2m_mou_8       3.912797\n",
       "isd_og_mou_8           3.912797\n",
       "ic_others_8            3.912797\n",
       "std_og_t2t_mou_8       3.912797\n",
       "isd_ic_mou_8           3.912797\n",
       "loc_og_mou_8           3.912797\n",
       "spl_ic_mou_8           3.912797\n",
       "loc_og_t2c_mou_8       3.912797\n",
       "loc_og_t2f_mou_8       3.912797\n",
       "spl_og_mou_8           3.912797\n",
       "std_ic_mou_8           3.912797\n",
       "loc_og_t2m_mou_8       3.912797\n",
       "std_og_t2f_mou_8       3.912797\n",
       "loc_og_t2t_mou_8       3.912797\n",
       "std_ic_t2f_mou_8       3.912797\n",
       "roam_og_mou_8          3.912797\n",
       "loc_ic_mou_8           3.912797\n",
       "loc_ic_t2t_mou_8       3.912797\n",
       "loc_ic_t2m_mou_8       3.912797\n",
       "onnet_mou_8            3.912797\n",
       "offnet_mou_8           3.912797\n",
       "loc_ic_t2f_mou_8       3.912797\n",
       "std_og_mou_8           3.912797\n",
       "std_ic_t2t_mou_8       3.912797\n",
       "roam_ic_mou_8          3.912797\n",
       "date_of_last_rech_8    1.943044\n",
       "ic_others_6            1.809502\n",
       "isd_og_mou_6           1.809502\n",
       "loc_ic_t2t_mou_6       1.809502\n",
       "og_others_6            1.809502\n",
       "loc_ic_t2m_mou_6       1.809502\n",
       "std_ic_t2t_mou_6       1.809502\n",
       "std_ic_mou_6           1.809502\n",
       "isd_ic_mou_6           1.809502\n",
       "std_ic_t2f_mou_6       1.809502\n",
       "loc_ic_mou_6           1.809502\n",
       "spl_ic_mou_6           1.809502\n",
       "spl_og_mou_6           1.809502\n",
       "dtype: float64"
      ]
     },
     "execution_count": 102,
     "metadata": {},
     "output_type": "execute_result"
    }
   ],
   "source": [
    "# Checking dataset again for null values\n",
    "(telecom_df_high_val_cust.isnull().sum() * 100 / len(telecom_df_high_val_cust)).sort_values(ascending = False).head(40)"
   ]
  },
  {
   "cell_type": "code",
   "execution_count": 103,
   "metadata": {},
   "outputs": [],
   "source": [
    "# Minutes of usage calls\n",
    "mou_cols = telecom_df_high_val_cust.columns[telecom_df_high_val_cust.columns.str.contains('mou')]\n",
    "# replaceing null values by 0 for minutes of usage variables\n",
    "telecom_df_high_val_cust.loc[:,mou_cols] = telecom_df_high_val_cust.loc[:,mou_cols].replace(np.NaN,0)"
   ]
  },
  {
   "cell_type": "code",
   "execution_count": 105,
   "metadata": {},
   "outputs": [
    {
     "data": {
      "text/plain": [
       "ic_others_8            3.912797\n",
       "og_others_8            3.912797\n",
       "date_of_last_rech_8    1.943044\n",
       "og_others_6            1.809502\n",
       "ic_others_6            1.809502\n",
       "ic_others_7            1.789470\n",
       "og_others_7            1.789470\n",
       "date_of_last_rech_7    0.327179\n",
       "date_of_last_rech_6    0.243715\n",
       "std_og_t2f_mou_7       0.000000\n",
       "dtype: float64"
      ]
     },
     "execution_count": 105,
     "metadata": {},
     "output_type": "execute_result"
    }
   ],
   "source": [
    "# Checking dataset again for null values\n",
    "(telecom_df_high_val_cust.isnull().sum() * 100 / len(telecom_df_high_val_cust)).sort_values(ascending = False).head(10)"
   ]
  },
  {
   "cell_type": "code",
   "execution_count": 106,
   "metadata": {},
   "outputs": [],
   "source": [
    "# NAN's to 0 for numerical cols\n",
    "numberic_col = ['og_others_8', 'ic_others_8', 'og_others_6','ic_others_6', 'og_others_7', 'ic_others_7']\n",
    "for i in numberic_col:\n",
    "    telecom_df_high_val_cust.loc[telecom_df_high_val_cust[i].isnull(),i]=0"
   ]
  },
  {
   "cell_type": "code",
   "execution_count": 107,
   "metadata": {},
   "outputs": [
    {
     "data": {
      "text/plain": [
       "date_of_last_rech_8    1.943044\n",
       "date_of_last_rech_7    0.327179\n",
       "date_of_last_rech_6    0.243715\n",
       "tenure                 0.000000\n",
       "isd_og_mou_6           0.000000\n",
       "dtype: float64"
      ]
     },
     "execution_count": 107,
     "metadata": {},
     "output_type": "execute_result"
    }
   ],
   "source": [
    "# Checking dataset again for null values\n",
    "(telecom_df_high_val_cust.isnull().sum() * 100 / len(telecom_df_high_val_cust)).sort_values(ascending = False).head(5)"
   ]
  },
  {
   "cell_type": "code",
   "execution_count": 110,
   "metadata": {},
   "outputs": [
    {
     "data": {
      "text/html": [
       "<div>\n",
       "<style scoped>\n",
       "    .dataframe tbody tr th:only-of-type {\n",
       "        vertical-align: middle;\n",
       "    }\n",
       "\n",
       "    .dataframe tbody tr th {\n",
       "        vertical-align: top;\n",
       "    }\n",
       "\n",
       "    .dataframe thead th {\n",
       "        text-align: right;\n",
       "    }\n",
       "</style>\n",
       "<table border=\"1\" class=\"dataframe\">\n",
       "  <thead>\n",
       "    <tr style=\"text-align: right;\">\n",
       "      <th></th>\n",
       "      <th>mobile_number</th>\n",
       "      <th>arpu_6</th>\n",
       "      <th>arpu_7</th>\n",
       "      <th>arpu_8</th>\n",
       "      <th>onnet_mou_6</th>\n",
       "      <th>onnet_mou_7</th>\n",
       "      <th>onnet_mou_8</th>\n",
       "      <th>offnet_mou_6</th>\n",
       "      <th>offnet_mou_7</th>\n",
       "      <th>offnet_mou_8</th>\n",
       "      <th>...</th>\n",
       "      <th>aug_vbc_3g</th>\n",
       "      <th>jul_vbc_3g</th>\n",
       "      <th>jun_vbc_3g</th>\n",
       "      <th>sep_vbc_3g</th>\n",
       "      <th>total_rech_data_amt_6</th>\n",
       "      <th>total_rech_data_amt_7</th>\n",
       "      <th>total_rech_data_amt_8</th>\n",
       "      <th>total_avg_rech_amnt_6_7_GPhase</th>\n",
       "      <th>churn</th>\n",
       "      <th>tenure</th>\n",
       "    </tr>\n",
       "  </thead>\n",
       "  <tbody>\n",
       "    <tr>\n",
       "      <th>0</th>\n",
       "      <td>7000842753</td>\n",
       "      <td>197.385</td>\n",
       "      <td>214.816</td>\n",
       "      <td>213.803</td>\n",
       "      <td>0.00</td>\n",
       "      <td>0.00</td>\n",
       "      <td>0.00</td>\n",
       "      <td>0.00</td>\n",
       "      <td>0.00</td>\n",
       "      <td>0.00</td>\n",
       "      <td>...</td>\n",
       "      <td>30.40</td>\n",
       "      <td>0.00</td>\n",
       "      <td>101.20</td>\n",
       "      <td>3.58</td>\n",
       "      <td>252.0</td>\n",
       "      <td>252.0</td>\n",
       "      <td>252.0</td>\n",
       "      <td>559.0</td>\n",
       "      <td>1</td>\n",
       "      <td>32.266667</td>\n",
       "    </tr>\n",
       "    <tr>\n",
       "      <th>7</th>\n",
       "      <td>7000701601</td>\n",
       "      <td>1069.180</td>\n",
       "      <td>1349.850</td>\n",
       "      <td>3171.480</td>\n",
       "      <td>57.84</td>\n",
       "      <td>54.68</td>\n",
       "      <td>52.29</td>\n",
       "      <td>453.43</td>\n",
       "      <td>567.16</td>\n",
       "      <td>325.91</td>\n",
       "      <td>...</td>\n",
       "      <td>57.74</td>\n",
       "      <td>19.38</td>\n",
       "      <td>18.74</td>\n",
       "      <td>0.00</td>\n",
       "      <td>0.0</td>\n",
       "      <td>0.0</td>\n",
       "      <td>0.0</td>\n",
       "      <td>1185.0</td>\n",
       "      <td>1</td>\n",
       "      <td>26.733333</td>\n",
       "    </tr>\n",
       "    <tr>\n",
       "      <th>8</th>\n",
       "      <td>7001524846</td>\n",
       "      <td>378.721</td>\n",
       "      <td>492.223</td>\n",
       "      <td>137.362</td>\n",
       "      <td>413.69</td>\n",
       "      <td>351.03</td>\n",
       "      <td>35.08</td>\n",
       "      <td>94.66</td>\n",
       "      <td>80.63</td>\n",
       "      <td>136.48</td>\n",
       "      <td>...</td>\n",
       "      <td>21.03</td>\n",
       "      <td>910.65</td>\n",
       "      <td>122.16</td>\n",
       "      <td>0.00</td>\n",
       "      <td>0.0</td>\n",
       "      <td>354.0</td>\n",
       "      <td>207.0</td>\n",
       "      <td>696.0</td>\n",
       "      <td>0</td>\n",
       "      <td>10.500000</td>\n",
       "    </tr>\n",
       "    <tr>\n",
       "      <th>21</th>\n",
       "      <td>7002124215</td>\n",
       "      <td>514.453</td>\n",
       "      <td>597.753</td>\n",
       "      <td>637.760</td>\n",
       "      <td>102.41</td>\n",
       "      <td>132.11</td>\n",
       "      <td>85.14</td>\n",
       "      <td>757.93</td>\n",
       "      <td>896.68</td>\n",
       "      <td>983.39</td>\n",
       "      <td>...</td>\n",
       "      <td>0.00</td>\n",
       "      <td>0.00</td>\n",
       "      <td>0.00</td>\n",
       "      <td>0.00</td>\n",
       "      <td>0.0</td>\n",
       "      <td>0.0</td>\n",
       "      <td>0.0</td>\n",
       "      <td>640.0</td>\n",
       "      <td>0</td>\n",
       "      <td>24.000000</td>\n",
       "    </tr>\n",
       "    <tr>\n",
       "      <th>23</th>\n",
       "      <td>7000887461</td>\n",
       "      <td>74.350</td>\n",
       "      <td>193.897</td>\n",
       "      <td>366.966</td>\n",
       "      <td>48.96</td>\n",
       "      <td>50.66</td>\n",
       "      <td>33.58</td>\n",
       "      <td>85.41</td>\n",
       "      <td>89.36</td>\n",
       "      <td>205.89</td>\n",
       "      <td>...</td>\n",
       "      <td>40.45</td>\n",
       "      <td>51.86</td>\n",
       "      <td>0.00</td>\n",
       "      <td>0.00</td>\n",
       "      <td>0.0</td>\n",
       "      <td>712.0</td>\n",
       "      <td>540.0</td>\n",
       "      <td>583.0</td>\n",
       "      <td>0</td>\n",
       "      <td>20.133333</td>\n",
       "    </tr>\n",
       "  </tbody>\n",
       "</table>\n",
       "<p>5 rows × 138 columns</p>\n",
       "</div>"
      ],
      "text/plain": [
       "    mobile_number    arpu_6    arpu_7    arpu_8  onnet_mou_6  onnet_mou_7  \\\n",
       "0      7000842753   197.385   214.816   213.803         0.00         0.00   \n",
       "7      7000701601  1069.180  1349.850  3171.480        57.84        54.68   \n",
       "8      7001524846   378.721   492.223   137.362       413.69       351.03   \n",
       "21     7002124215   514.453   597.753   637.760       102.41       132.11   \n",
       "23     7000887461    74.350   193.897   366.966        48.96        50.66   \n",
       "\n",
       "    onnet_mou_8  offnet_mou_6  offnet_mou_7  offnet_mou_8  ...  aug_vbc_3g  \\\n",
       "0          0.00          0.00          0.00          0.00  ...       30.40   \n",
       "7         52.29        453.43        567.16        325.91  ...       57.74   \n",
       "8         35.08         94.66         80.63        136.48  ...       21.03   \n",
       "21        85.14        757.93        896.68        983.39  ...        0.00   \n",
       "23        33.58         85.41         89.36        205.89  ...       40.45   \n",
       "\n",
       "    jul_vbc_3g  jun_vbc_3g  sep_vbc_3g  total_rech_data_amt_6  \\\n",
       "0         0.00      101.20        3.58                  252.0   \n",
       "7        19.38       18.74        0.00                    0.0   \n",
       "8       910.65      122.16        0.00                    0.0   \n",
       "21        0.00        0.00        0.00                    0.0   \n",
       "23       51.86        0.00        0.00                    0.0   \n",
       "\n",
       "    total_rech_data_amt_7  total_rech_data_amt_8  \\\n",
       "0                   252.0                  252.0   \n",
       "7                     0.0                    0.0   \n",
       "8                   354.0                  207.0   \n",
       "21                    0.0                    0.0   \n",
       "23                  712.0                  540.0   \n",
       "\n",
       "    total_avg_rech_amnt_6_7_GPhase  churn     tenure  \n",
       "0                            559.0      1  32.266667  \n",
       "7                           1185.0      1  26.733333  \n",
       "8                            696.0      0  10.500000  \n",
       "21                           640.0      0  24.000000  \n",
       "23                           583.0      0  20.133333  \n",
       "\n",
       "[5 rows x 138 columns]"
      ]
     },
     "execution_count": 110,
     "metadata": {},
     "output_type": "execute_result"
    }
   ],
   "source": [
    "# dropping ate columns\n",
    "telecom_df_high_val_cust.drop([\"date_of_last_rech_8\",\"date_of_last_rech_7\",\"date_of_last_rech_6\"],axis=1,inplace=True)\n",
    "telecom_df_high_val_cust.head()"
   ]
  },
  {
   "cell_type": "code",
   "execution_count": 137,
   "metadata": {},
   "outputs": [],
   "source": [
    "def split_data(df):\n",
    "    Y = df[\"churn\"]\n",
    "    X = df.drop([\"churn\",\"mobile_number\"],axis=1)\n",
    "    return X,Y\n",
    "    \n",
    "def scale_data(X):\n",
    "    scaler = StandardScaler()\n",
    "    X_col = X.columns\n",
    "    X_scaled = scaler.fit_transform(X)\n",
    "    X_scale_final = pd.DataFrame(X_scaled, columns=X_col)    \n",
    "    return X_scale_final\n",
    "\n",
    "def resampling_data(X,Y,feature_number,train_size=0.7,test_size=0.3) :\n",
    "    \n",
    "    x_train, x_test, y_train, y_test = train_test_split(X, Y, test_size=test_size, train_size=train_size, random_state=1)\n",
    "\n",
    "    print(\"Shape of train datatset before : \"+str(x_train.shape))\n",
    "    print(\"Percenatge of Churned customer data : \"+str(round(100*Y.sum()/len(Y),2)))\n",
    "    print(\"Applying SMOTE to normalize imbalance ....\")\n",
    "\n",
    "    #Initializing SMOTE: Synthetic Minority Over-sampling Technique\n",
    "    # using this as data is skewed \n",
    "    smote = SMOTE(random_state=42, sampling_strategy=0.6)\n",
    "    x_tr,y_tr = smote.fit_sample(x_train,y_train)\n",
    "    print(\"Shape of train datatset after SMOTE : \"+str(x_tr.shape))\n",
    "\n",
    "    # Applying PCA : Pricnipal Component Analysis\n",
    "    pca = IncrementalPCA(n_components=feature_number)    \n",
    "    x_tr_pca = pca.fit_transform(x_tr)\n",
    "    x_test_pca = pca.transform(x_test)\n",
    "    print(\"Shape of train datatset after PCA : \"+str(x_tr_pca.shape))\n",
    "\n",
    "    return x_tr_pca,x_test_pca,y_tr,y_test\n"
   ]
  },
  {
   "cell_type": "markdown",
   "metadata": {},
   "source": [
    "## Principal Component Analysis"
   ]
  },
  {
   "cell_type": "code",
   "execution_count": 124,
   "metadata": {},
   "outputs": [
    {
     "data": {
      "text/plain": [
       "array([[ 1.52841189e-01,  1.62560883e-01,  1.57881681e-01, ...,\n",
       "        -5.63744426e-02, -1.10982795e-02,  3.59727634e-02],\n",
       "       [ 2.25021409e-02,  1.99203699e-02,  3.67028019e-02, ...,\n",
       "         8.29491044e-02,  1.06208844e-01,  7.87184470e-02],\n",
       "       [ 1.36915628e-01,  1.65276529e-01,  1.61822009e-01, ...,\n",
       "         1.67317241e-01,  2.49468852e-01, -6.08557857e-02],\n",
       "       ...,\n",
       "       [ 0.00000000e+00,  2.12550560e-18,  3.63588417e-16, ...,\n",
       "         2.56989869e-17,  1.53476225e-01, -4.57952303e-01],\n",
       "       [-0.00000000e+00, -9.16279842e-17,  1.59887827e-16, ...,\n",
       "        -9.62705716e-17, -1.81820531e-01,  4.84638250e-01],\n",
       "       [ 0.00000000e+00, -1.16128294e-16,  1.84033499e-18, ...,\n",
       "         1.35032895e-16,  5.12048983e-01,  8.58214864e-02]])"
      ]
     },
     "execution_count": 124,
     "metadata": {},
     "output_type": "execute_result"
    }
   ],
   "source": [
    "# Splitting data to X and y\n",
    "X,Y=split_data(telecom_df_high_val_cust)\n",
    "x_scaled = scale_data(X)\n",
    "\n",
    "# importing PCA liberary\n",
    "from sklearn.decomposition import PCA\n",
    "pca = PCA(random_state=100)\n",
    "\n",
    "# Fitting PCA\n",
    "pca.fit(x_scaled)\n",
    "\n",
    "# Viewing PCA components\n",
    "pca.components_"
   ]
  },
  {
   "cell_type": "code",
   "execution_count": 125,
   "metadata": {},
   "outputs": [
    {
     "data": {
      "text/plain": [
       "array([1.07473090e-01, 8.35208502e-02, 6.53049552e-02, 4.89097093e-02,\n",
       "       4.26880971e-02, 3.40968040e-02, 2.94321619e-02, 2.66071671e-02,\n",
       "       2.47949350e-02, 2.31636748e-02, 2.20883680e-02, 2.06815539e-02,\n",
       "       2.03227322e-02, 1.96854555e-02, 1.89873790e-02, 1.76636689e-02,\n",
       "       1.54868404e-02, 1.44075133e-02, 1.42307356e-02, 1.38426882e-02,\n",
       "       1.30245380e-02, 1.25416452e-02, 1.22208636e-02, 1.16528771e-02,\n",
       "       1.14007425e-02, 1.02892806e-02, 1.00269784e-02, 9.78944274e-03,\n",
       "       9.15603618e-03, 8.55375965e-03, 8.13285024e-03, 7.82463146e-03,\n",
       "       7.66702405e-03, 7.34315078e-03, 6.90992235e-03, 6.90052296e-03,\n",
       "       6.81454095e-03, 6.58698104e-03, 6.47483659e-03, 6.13923192e-03,\n",
       "       5.92908327e-03, 5.74224206e-03, 5.64901881e-03, 5.17342566e-03,\n",
       "       5.07252850e-03, 4.77294411e-03, 4.68750721e-03, 4.47099143e-03,\n",
       "       4.37030353e-03, 4.30992641e-03, 3.81512421e-03, 3.69936432e-03,\n",
       "       3.65246667e-03, 3.62127762e-03, 3.53108922e-03, 3.40375068e-03,\n",
       "       3.35335423e-03, 3.09272433e-03, 3.05030432e-03, 3.01715658e-03,\n",
       "       2.96973880e-03, 2.92035158e-03, 2.82309120e-03, 2.71574511e-03,\n",
       "       2.60126820e-03, 2.48212294e-03, 2.46255393e-03, 2.43680063e-03,\n",
       "       2.29538311e-03, 2.25342230e-03, 2.21323115e-03, 2.19275511e-03,\n",
       "       2.05073696e-03, 2.03659655e-03, 2.02128057e-03, 1.93766000e-03,\n",
       "       1.86594115e-03, 1.81583754e-03, 1.80306240e-03, 1.76070590e-03,\n",
       "       1.65881842e-03, 1.61207207e-03, 1.58048037e-03, 1.54968662e-03,\n",
       "       1.52899914e-03, 1.48300124e-03, 1.45596860e-03, 1.43115723e-03,\n",
       "       1.38902072e-03, 1.27223238e-03, 1.26160465e-03, 1.19038642e-03,\n",
       "       1.13395311e-03, 1.05634589e-03, 1.03280465e-03, 9.18211737e-04,\n",
       "       9.02698651e-04, 8.04755109e-04, 7.23565054e-04, 6.27445395e-04,\n",
       "       5.58995479e-04, 4.79251997e-04, 3.74519654e-04, 2.79583410e-04,\n",
       "       2.62159308e-04, 2.48661670e-04, 1.76340239e-04, 5.60709768e-05,\n",
       "       2.47705164e-05, 1.18924250e-05, 2.35247730e-06, 6.38578667e-07,\n",
       "       4.52048073e-07, 9.49695064e-12, 4.14928131e-12, 3.60754943e-12,\n",
       "       3.45415872e-12, 1.92481043e-12, 1.66625689e-12, 1.42193047e-12,\n",
       "       1.17839776e-12, 9.19927151e-13, 8.67459965e-13, 8.21285744e-13,\n",
       "       7.79991057e-13, 5.70204073e-13, 3.42354632e-13, 2.88620052e-13,\n",
       "       2.02405642e-13, 1.47999048e-13, 1.35019337e-13, 1.36010724e-33,\n",
       "       7.22214899e-34, 6.02608940e-34, 5.00050568e-34, 5.00050568e-34])"
      ]
     },
     "execution_count": 125,
     "metadata": {},
     "output_type": "execute_result"
    }
   ],
   "source": [
    "# Checking explained variance ratio\n",
    "pca.explained_variance_ratio_"
   ]
  },
  {
   "cell_type": "code",
   "execution_count": 126,
   "metadata": {},
   "outputs": [
    {
     "data": {
      "text/plain": [
       "<BarContainer object of 136 artists>"
      ]
     },
     "execution_count": 126,
     "metadata": {},
     "output_type": "execute_result"
    },
    {
     "data": {
      "image/png": "[encoded data removed]",
      "text/plain": [
       "<Figure size 432x288 with 1 Axes>"
      ]
     },
     "metadata": {
      "needs_background": "light"
     },
     "output_type": "display_data"
    }
   ],
   "source": [
    "# Plotting explained ratio\n",
    "plt.bar(range(1,len(pca.explained_variance_ratio_)+1), pca.explained_variance_ratio_)"
   ]
  },
  {
   "cell_type": "code",
   "execution_count": 127,
   "metadata": {},
   "outputs": [
    {
     "data": {
      "image/png": "[encoded data removed]",
      "text/plain": [
       "<Figure size 576x432 with 1 Axes>"
      ]
     },
     "metadata": {
      "needs_background": "light"
     },
     "output_type": "display_data"
    }
   ],
   "source": [
    "# Making the scree plot\n",
    "var_cumu = np.cumsum(pca.explained_variance_ratio_)\n",
    "fig = plt.figure(figsize = (8,6))\n",
    "plt.plot(range(1,len(var_cumu)+1), var_cumu)\n",
    "plt.xlabel('number of components')\n",
    "plt.ylabel('cumulative explained variance')\n",
    "plt.show()"
   ]
  },
  {
   "cell_type": "code",
   "execution_count": 174,
   "metadata": {},
   "outputs": [
    {
     "name": "stdout",
     "output_type": "stream",
     "text": [
      "(136, 4)\n"
     ]
    },
    {
     "data": {
      "text/html": [
       "<div>\n",
       "<style scoped>\n",
       "    .dataframe tbody tr th:only-of-type {\n",
       "        vertical-align: middle;\n",
       "    }\n",
       "\n",
       "    .dataframe tbody tr th {\n",
       "        vertical-align: top;\n",
       "    }\n",
       "\n",
       "    .dataframe thead th {\n",
       "        text-align: right;\n",
       "    }\n",
       "</style>\n",
       "<table border=\"1\" class=\"dataframe\">\n",
       "  <thead>\n",
       "    <tr style=\"text-align: right;\">\n",
       "      <th></th>\n",
       "      <th>PC1</th>\n",
       "      <th>PC2</th>\n",
       "      <th>PC3</th>\n",
       "      <th>Feature</th>\n",
       "    </tr>\n",
       "  </thead>\n",
       "  <tbody>\n",
       "    <tr>\n",
       "      <th>0</th>\n",
       "      <td>0.152841</td>\n",
       "      <td>0.022502</td>\n",
       "      <td>0.136916</td>\n",
       "      <td>arpu_6</td>\n",
       "    </tr>\n",
       "    <tr>\n",
       "      <th>1</th>\n",
       "      <td>0.162561</td>\n",
       "      <td>0.019920</td>\n",
       "      <td>0.165277</td>\n",
       "      <td>arpu_7</td>\n",
       "    </tr>\n",
       "    <tr>\n",
       "      <th>2</th>\n",
       "      <td>0.157882</td>\n",
       "      <td>0.036703</td>\n",
       "      <td>0.161822</td>\n",
       "      <td>arpu_8</td>\n",
       "    </tr>\n",
       "    <tr>\n",
       "      <th>3</th>\n",
       "      <td>0.116525</td>\n",
       "      <td>-0.103548</td>\n",
       "      <td>0.047583</td>\n",
       "      <td>onnet_mou_6</td>\n",
       "    </tr>\n",
       "    <tr>\n",
       "      <th>4</th>\n",
       "      <td>0.126574</td>\n",
       "      <td>-0.112576</td>\n",
       "      <td>0.064027</td>\n",
       "      <td>onnet_mou_7</td>\n",
       "    </tr>\n",
       "    <tr>\n",
       "      <th>5</th>\n",
       "      <td>0.126572</td>\n",
       "      <td>-0.096591</td>\n",
       "      <td>0.070599</td>\n",
       "      <td>onnet_mou_8</td>\n",
       "    </tr>\n",
       "    <tr>\n",
       "      <th>6</th>\n",
       "      <td>0.157462</td>\n",
       "      <td>-0.053168</td>\n",
       "      <td>0.042056</td>\n",
       "      <td>offnet_mou_6</td>\n",
       "    </tr>\n",
       "    <tr>\n",
       "      <th>7</th>\n",
       "      <td>0.166421</td>\n",
       "      <td>-0.063021</td>\n",
       "      <td>0.060517</td>\n",
       "      <td>offnet_mou_7</td>\n",
       "    </tr>\n",
       "    <tr>\n",
       "      <th>8</th>\n",
       "      <td>0.161692</td>\n",
       "      <td>-0.042832</td>\n",
       "      <td>0.066757</td>\n",
       "      <td>offnet_mou_8</td>\n",
       "    </tr>\n",
       "    <tr>\n",
       "      <th>9</th>\n",
       "      <td>0.021422</td>\n",
       "      <td>-0.003140</td>\n",
       "      <td>0.019483</td>\n",
       "      <td>roam_ic_mou_6</td>\n",
       "    </tr>\n",
       "  </tbody>\n",
       "</table>\n",
       "</div>"
      ],
      "text/plain": [
       "        PC1       PC2       PC3        Feature\n",
       "0  0.152841  0.022502  0.136916         arpu_6\n",
       "1  0.162561  0.019920  0.165277         arpu_7\n",
       "2  0.157882  0.036703  0.161822         arpu_8\n",
       "3  0.116525 -0.103548  0.047583    onnet_mou_6\n",
       "4  0.126574 -0.112576  0.064027    onnet_mou_7\n",
       "5  0.126572 -0.096591  0.070599    onnet_mou_8\n",
       "6  0.157462 -0.053168  0.042056   offnet_mou_6\n",
       "7  0.166421 -0.063021  0.060517   offnet_mou_7\n",
       "8  0.161692 -0.042832  0.066757   offnet_mou_8\n",
       "9  0.021422 -0.003140  0.019483  roam_ic_mou_6"
      ]
     },
     "execution_count": 174,
     "metadata": {},
     "output_type": "execute_result"
    }
   ],
   "source": [
    "col = list(x_scaled.columns)\n",
    "df_pca = pd.DataFrame({'PC1':pca.components_[0],'PC2':pca.components_[1], 'PC3':pca.components_[2],'Feature':col})\n",
    "print(df_pca.shape)\n",
    "df_pca.head(10)"
   ]
  },
  {
   "cell_type": "markdown",
   "metadata": {},
   "source": [
    "#### _Analysis: Looks like 80 components are enough to describe 95% of the variance in the dataset_\n",
    "#### _We'll choose 80 components for our modeling_ <br><br>"
   ]
  },
  {
   "cell_type": "code",
   "execution_count": 206,
   "metadata": {},
   "outputs": [
    {
     "name": "stdout",
     "output_type": "stream",
     "text": [
      "Shape of train datatset before : (20967, 136)\n",
      "Percenatge of Churned customer data : 8.12\n",
      "Applying SMOTE to normalize imbalance ....\n",
      "Shape of train datatset after SMOTE : (30822, 136)\n",
      "Shape of train datatset after PCA : (30822, 80)\n"
     ]
    }
   ],
   "source": [
    "x_train, x_test, y_train, y_test = resampling_data(x_scaled,Y,80)"
   ]
  },
  {
   "cell_type": "markdown",
   "metadata": {},
   "source": [
    "# Model Building <br><br>"
   ]
  },
  {
   "cell_type": "markdown",
   "metadata": {},
   "source": [
    "## Logistic Regression"
   ]
  },
  {
   "cell_type": "code",
   "execution_count": 207,
   "metadata": {},
   "outputs": [
    {
     "name": "stdout",
     "output_type": "stream",
     "text": [
      "Linear Regression Accurancy : 0.89\n"
     ]
    }
   ],
   "source": [
    "from sklearn.linear_model import LogisticRegression\n",
    "from sklearn import metrics\n",
    "\n",
    "# Defining Logistic Regression object\n",
    "lr = LogisticRegression(class_weight='balanced')\n",
    "model = lr.fit(x_train,y_train)\n",
    "\n",
    "#Making prediction on the test data\n",
    "pred_probs_test = model.predict_proba(x_test)[:,1]\n",
    "print(\"Linear Regression Accurancy : \"+\"{:2.2}\".format(metrics.roc_auc_score(y_test, pred_probs_test)))"
   ]
  },
  {
   "cell_type": "code",
   "execution_count": null,
   "metadata": {},
   "outputs": [],
   "source": [
    "# Making predictions\n",
    "y_pred = rfc.predict(x_test)"
   ]
  },
  {
   "cell_type": "markdown",
   "metadata": {},
   "source": [
    "#### Model evalulation"
   ]
  },
  {
   "cell_type": "code",
   "execution_count": 208,
   "metadata": {},
   "outputs": [
    {
     "data": {
      "text/plain": [
       "array([[7687,  569],\n",
       "       [ 297,  433]], dtype=int64)"
      ]
     },
     "execution_count": 208,
     "metadata": {},
     "output_type": "execute_result"
    }
   ],
   "source": [
    "# Confusion matrix\n",
    "cp = confusion_matrix(y_test,y_pred)\n",
    "cp"
   ]
  },
  {
   "cell_type": "code",
   "execution_count": 209,
   "metadata": {},
   "outputs": [
    {
     "data": {
      "text/html": [
       "<div>\n",
       "<style scoped>\n",
       "    .dataframe tbody tr th:only-of-type {\n",
       "        vertical-align: middle;\n",
       "    }\n",
       "\n",
       "    .dataframe tbody tr th {\n",
       "        vertical-align: top;\n",
       "    }\n",
       "\n",
       "    .dataframe thead th {\n",
       "        text-align: right;\n",
       "    }\n",
       "</style>\n",
       "<table border=\"1\" class=\"dataframe\">\n",
       "  <thead>\n",
       "    <tr style=\"text-align: right;\">\n",
       "      <th></th>\n",
       "      <th>Accuracy</th>\n",
       "      <th>Precision</th>\n",
       "      <th>Recall</th>\n",
       "      <th>AUC</th>\n",
       "      <th>F1</th>\n",
       "    </tr>\n",
       "  </thead>\n",
       "  <tbody>\n",
       "    <tr>\n",
       "      <th>0</th>\n",
       "      <td>0.9</td>\n",
       "      <td>0.59</td>\n",
       "      <td>0.43</td>\n",
       "      <td>0.76</td>\n",
       "      <td>0.5</td>\n",
       "    </tr>\n",
       "  </tbody>\n",
       "</table>\n",
       "</div>"
      ],
      "text/plain": [
       "   Accuracy  Precision  Recall   AUC   F1\n",
       "0       0.9       0.59    0.43  0.76  0.5"
      ]
     },
     "execution_count": 209,
     "metadata": {},
     "output_type": "execute_result"
    }
   ],
   "source": [
    "# Checking different metrics to evaluate models\n",
    "accuracy = round(accuracy_score(y_test,y_pred),2)\n",
    "recall = round(recall_score(y_test,y_pred),2)\n",
    "precision = round(precision_score(y_test,y_pred),2)\n",
    "auc = round(roc_auc_score(y_test,y_pred),2)\n",
    "f1 = round(f1_score(y_test,y_pred),2)\n",
    "\n",
    "data = [[accuracy,recall,precision,auc,f1]] \n",
    "df = pd.DataFrame(data, columns = ['Accuracy','Precision','Recall','AUC','F1'])\n",
    "df.head()"
   ]
  },
  {
   "cell_type": "code",
   "execution_count": 165,
   "metadata": {},
   "outputs": [
    {
     "name": "stdout",
     "output_type": "stream",
     "text": [
      "Feature: 0, Score: -0.24688\n",
      "Feature: 1, Score: 0.66305\n",
      "Feature: 2, Score: -0.03976\n",
      "Feature: 3, Score: 0.38992\n",
      "Feature: 4, Score: -0.06292\n",
      "Feature: 5, Score: -0.06136\n",
      "Feature: 6, Score: 0.04804\n",
      "Feature: 7, Score: 0.58927\n",
      "Feature: 8, Score: 0.40578\n",
      "Feature: 9, Score: 0.13731\n",
      "Feature: 10, Score: -0.18567\n",
      "Feature: 11, Score: 0.16496\n",
      "Feature: 12, Score: -0.13849\n",
      "Feature: 13, Score: 0.02332\n",
      "Feature: 14, Score: -0.23850\n",
      "Feature: 15, Score: 0.17299\n",
      "Feature: 16, Score: 0.30032\n",
      "Feature: 17, Score: 0.38249\n",
      "Feature: 18, Score: -0.07461\n",
      "Feature: 19, Score: 0.35505\n",
      "Feature: 20, Score: 0.11270\n",
      "Feature: 21, Score: -0.60468\n",
      "Feature: 22, Score: -0.14235\n",
      "Feature: 23, Score: 0.00666\n",
      "Feature: 24, Score: 0.17522\n",
      "Feature: 25, Score: -0.00618\n",
      "Feature: 26, Score: 0.04495\n",
      "Feature: 27, Score: -0.12543\n",
      "Feature: 28, Score: 0.46268\n",
      "Feature: 29, Score: 0.15138\n",
      "Feature: 30, Score: -0.27767\n",
      "Feature: 31, Score: -0.45056\n",
      "Feature: 32, Score: -0.28067\n",
      "Feature: 33, Score: -0.08985\n",
      "Feature: 34, Score: -0.05089\n",
      "Feature: 35, Score: -0.00166\n",
      "Feature: 36, Score: 0.40058\n",
      "Feature: 37, Score: -0.38077\n",
      "Feature: 38, Score: -0.07800\n",
      "Feature: 39, Score: -0.18551\n",
      "Feature: 40, Score: 0.00065\n",
      "Feature: 41, Score: 0.08700\n",
      "Feature: 42, Score: -0.10206\n",
      "Feature: 43, Score: -0.92932\n",
      "Feature: 44, Score: 0.06353\n",
      "Feature: 45, Score: -0.30777\n",
      "Feature: 46, Score: -0.03593\n",
      "Feature: 47, Score: 0.14273\n",
      "Feature: 48, Score: -0.03552\n",
      "Feature: 49, Score: 0.35717\n",
      "Feature: 50, Score: -0.02960\n",
      "Feature: 51, Score: -0.39674\n",
      "Feature: 52, Score: -0.34320\n",
      "Feature: 53, Score: -0.00000\n",
      "Feature: 54, Score: 0.05690\n",
      "Feature: 55, Score: -0.41854\n",
      "Feature: 56, Score: 0.46062\n",
      "Feature: 57, Score: -0.07258\n",
      "Feature: 58, Score: 0.15036\n",
      "Feature: 59, Score: -0.11358\n",
      "Feature: 60, Score: -0.04543\n",
      "Feature: 61, Score: 0.03014\n",
      "Feature: 62, Score: -0.06955\n",
      "Feature: 63, Score: -0.06563\n",
      "Feature: 64, Score: -0.38089\n",
      "Feature: 65, Score: 0.02153\n",
      "Feature: 66, Score: -0.02019\n",
      "Feature: 67, Score: 0.12614\n",
      "Feature: 68, Score: 0.10775\n",
      "Feature: 69, Score: 0.10971\n",
      "Feature: 70, Score: 0.06375\n",
      "Feature: 71, Score: -0.05929\n",
      "Feature: 72, Score: -0.25149\n",
      "Feature: 73, Score: 0.09152\n",
      "Feature: 74, Score: 0.38983\n",
      "Feature: 75, Score: -0.02502\n",
      "Feature: 76, Score: -0.13367\n",
      "Feature: 77, Score: 0.00485\n",
      "Feature: 78, Score: 0.23872\n",
      "Feature: 79, Score: 0.08797\n"
     ]
    },
    {
     "data": {
      "image/png": "[encoded data removed]",
      "text/plain": [
       "<Figure size 432x288 with 1 Axes>"
      ]
     },
     "metadata": {
      "needs_background": "light"
     },
     "output_type": "display_data"
    }
   ],
   "source": [
    "# get feature importance\n",
    "importance = model.coef_[0]\n",
    "\n",
    "# summarize feature importance\n",
    "for i,v in enumerate(importance):\n",
    "    print('Feature: %0d, Score: %.5f' % (i,v))\n",
    "    \n",
    "# plot feature importance\n",
    "plt.bar([x for x in range(len(importance))], importance)\n",
    "plt.show()"
   ]
  },
  {
   "cell_type": "markdown",
   "metadata": {},
   "source": [
    "## Random Forest "
   ]
  },
  {
   "cell_type": "code",
   "execution_count": 140,
   "metadata": {},
   "outputs": [
    {
     "data": {
      "text/plain": [
       "RandomForestClassifier()"
      ]
     },
     "execution_count": 140,
     "metadata": {},
     "output_type": "execute_result"
    }
   ],
   "source": [
    "# Defining Random forest object\n",
    "rfc = RandomForestClassifier()\n",
    "\n",
    "# Fitting data\n",
    "rfc.fit(x_train,y_train)"
   ]
  },
  {
   "cell_type": "code",
   "execution_count": null,
   "metadata": {},
   "outputs": [],
   "source": [
    "# Making predictions\n",
    "y_pred = rfc.predict(x_test)"
   ]
  },
  {
   "cell_type": "code",
   "execution_count": 142,
   "metadata": {},
   "outputs": [
    {
     "data": {
      "text/plain": [
       "array([[7909,  347],\n",
       "       [ 406,  324]], dtype=int64)"
      ]
     },
     "execution_count": 142,
     "metadata": {},
     "output_type": "execute_result"
    }
   ],
   "source": [
    "# Confusion Matrix\n",
    "cp = confusion_matrix(y_test,y_pred)\n",
    "cp"
   ]
  },
  {
   "cell_type": "code",
   "execution_count": 145,
   "metadata": {},
   "outputs": [
    {
     "data": {
      "text/html": [
       "<div>\n",
       "<style scoped>\n",
       "    .dataframe tbody tr th:only-of-type {\n",
       "        vertical-align: middle;\n",
       "    }\n",
       "\n",
       "    .dataframe tbody tr th {\n",
       "        vertical-align: top;\n",
       "    }\n",
       "\n",
       "    .dataframe thead th {\n",
       "        text-align: right;\n",
       "    }\n",
       "</style>\n",
       "<table border=\"1\" class=\"dataframe\">\n",
       "  <thead>\n",
       "    <tr style=\"text-align: right;\">\n",
       "      <th></th>\n",
       "      <th>Accuracy</th>\n",
       "      <th>Precision</th>\n",
       "      <th>Recall</th>\n",
       "      <th>AUC</th>\n",
       "      <th>F1</th>\n",
       "    </tr>\n",
       "  </thead>\n",
       "  <tbody>\n",
       "    <tr>\n",
       "      <th>0</th>\n",
       "      <td>0.92</td>\n",
       "      <td>0.44</td>\n",
       "      <td>0.48</td>\n",
       "      <td>0.7</td>\n",
       "      <td>0.46</td>\n",
       "    </tr>\n",
       "  </tbody>\n",
       "</table>\n",
       "</div>"
      ],
      "text/plain": [
       "   Accuracy  Precision  Recall  AUC    F1\n",
       "0      0.92       0.44    0.48  0.7  0.46"
      ]
     },
     "execution_count": 145,
     "metadata": {},
     "output_type": "execute_result"
    }
   ],
   "source": [
    "# Metrix to check model accurazy\n",
    "accuracy = round(accuracy_score(y_test,y_pred),2)\n",
    "recall = round(recall_score(y_test,y_pred),2)\n",
    "precision = round(precision_score(y_test,y_pred),2)\n",
    "auc = round(roc_auc_score(y_test,y_pred),2)\n",
    "f1 = round(f1_score(y_test,y_pred),2)\n",
    "\n",
    "data = [[accuracy,recall,precision,auc,f1]] \n",
    "df = pd.DataFrame(data, columns = ['Accuracy','Precision','Recall','AUC','F1'])\n",
    "df.head()"
   ]
  },
  {
   "cell_type": "markdown",
   "metadata": {},
   "source": [
    "### Hyper Parameter Tuning on Random Forest"
   ]
  },
  {
   "cell_type": "code",
   "execution_count": 154,
   "metadata": {},
   "outputs": [],
   "source": [
    "# Defining function for grid search cv\n",
    "def tune_hyperparameter(parameters,x_train,y_train,n_folds = 3,max_depth=0):\n",
    "    \n",
    "    if(max_depth==0):\n",
    "        rf = RandomForestClassifier()\n",
    "    else :\n",
    "        rf = RandomForestClassifier(max_depth=max_depth)\n",
    "        \n",
    "    rf = GridSearchCV(rf, parameters, cv=n_folds,n_jobs = -1, scoring=\"accuracy\",return_train_score=True)\n",
    "    rf.fit(x_train, y_train)\n",
    "    scores = rf.cv_results_\n",
    "\n",
    "    for key in parameters.keys():\n",
    "        hyperparameters = key\n",
    "        break\n",
    "\n",
    "    # plotting accuracies for parameters\n",
    "    plt.figure(figsize=(16,5))\n",
    "    plt.plot(scores[\"param_\"+hyperparameters], scores[\"mean_train_score\"], label=\"training accuracy\")\n",
    "    plt.plot(scores[\"param_\"+hyperparameters], scores[\"mean_test_score\"], label=\"test accuracy\")\n",
    "    plt.xlabel(hyperparameters)\n",
    "    plt.ylabel(\"Accuracy\")\n",
    "    plt.legend()\n",
    "    plt.show()"
   ]
  },
  {
   "cell_type": "code",
   "execution_count": 155,
   "metadata": {},
   "outputs": [
    {
     "data": {
      "image/png": "[encoded data removed]",
      "text/plain": [
       "<Figure size 1152x360 with 1 Axes>"
      ]
     },
     "metadata": {
      "needs_background": "light"
     },
     "output_type": "display_data"
    }
   ],
   "source": [
    "# Tuning max_depth\n",
    "parameters = {'max_depth': range(2, 40, 5)}\n",
    "tune_hyperparameter(parameters,x_train,y_train)\n",
    "\n",
    "#12 and 18 value have peek convergens and can be used for grid veiw search."
   ]
  },
  {
   "cell_type": "code",
   "execution_count": 157,
   "metadata": {},
   "outputs": [
    {
     "data": {
      "image/png": "[encoded data removed]",
      "text/plain": [
       "<Figure size 1152x360 with 1 Axes>"
      ]
     },
     "metadata": {
      "needs_background": "light"
     },
     "output_type": "display_data"
    }
   ],
   "source": [
    "# Tuning n_estimators\n",
    "parameters = {'n_estimators': range(100, 1000, 200)}\n",
    "tune_hyperparameter(parameters,x_train,y_train)\n",
    "# Training accuracy is flat, test accuracy stablizes after 300."
   ]
  },
  {
   "cell_type": "code",
   "execution_count": 158,
   "metadata": {},
   "outputs": [
    {
     "data": {
      "image/png": "[encoded data removed]",
      "text/plain": [
       "<Figure size 1152x360 with 1 Axes>"
      ]
     },
     "metadata": {
      "needs_background": "light"
     },
     "output_type": "display_data"
    }
   ],
   "source": [
    "#  Tuning max_features\n",
    "parameters = {'max_features': [20,40,60,80]}\n",
    "tune_hyperparameter(parameters,x_train,y_train,4)\n",
    "# For training the feature seems to be stable... for test selecting 40."
   ]
  },
  {
   "cell_type": "code",
   "execution_count": 159,
   "metadata": {},
   "outputs": [
    {
     "data": {
      "image/png": "[encoded data removed]",
      "text/plain": [
       "<Figure size 1152x360 with 1 Axes>"
      ]
     },
     "metadata": {
      "needs_background": "light"
     },
     "output_type": "display_data"
    }
   ],
   "source": [
    "# Tuning min_samples_leaf\n",
    "parameters = {'min_samples_leaf': range(1, 100, 10)}\n",
    "tune_hyperparameter(parameters,x_train,y_train)\n",
    "# 10 to 20 seems good value post 20 the model seems to overfit"
   ]
  },
  {
   "cell_type": "code",
   "execution_count": 160,
   "metadata": {},
   "outputs": [
    {
     "data": {
      "image/png": "[encoded data removed]",
      "text/plain": [
       "<Figure size 1152x360 with 1 Axes>"
      ]
     },
     "metadata": {
      "needs_background": "light"
     },
     "output_type": "display_data"
    }
   ],
   "source": [
    "# Tuning min_samples_split\n",
    "parameters = {'min_samples_split': range(10, 100, 10)}\n",
    "tune_hyperparameter(parameters,x_train,y_train)\n",
    "#Range 10 to 40 seems to be optimal value, taking 20"
   ]
  },
  {
   "cell_type": "markdown",
   "metadata": {},
   "source": [
    "#### Creating new model with optimal values"
   ]
  },
  {
   "cell_type": "code",
   "execution_count": 162,
   "metadata": {},
   "outputs": [
    {
     "data": {
      "text/plain": [
       "RandomForestClassifier(max_depth=18, max_features=40, min_samples_leaf=10,\n",
       "                       min_samples_split=20, n_estimators=300, n_jobs=-1)"
      ]
     },
     "execution_count": 162,
     "metadata": {},
     "output_type": "execute_result"
    }
   ],
   "source": [
    "rfc = RandomForestClassifier(max_depth=18,\n",
    "                             max_features=40,\n",
    "                             min_samples_leaf=10,\n",
    "                             min_samples_split=20,\n",
    "                             n_estimators=300,\n",
    "                             n_jobs = -1)\n",
    "rfc.fit(x_train,y_train)"
   ]
  },
  {
   "cell_type": "code",
   "execution_count": null,
   "metadata": {},
   "outputs": [],
   "source": [
    "# Making predictions\n",
    "y_pred = rfc.predict(x_test)"
   ]
  },
  {
   "cell_type": "code",
   "execution_count": 166,
   "metadata": {},
   "outputs": [
    {
     "data": {
      "text/plain": [
       "array([[7687,  569],\n",
       "       [ 297,  433]], dtype=int64)"
      ]
     },
     "execution_count": 166,
     "metadata": {},
     "output_type": "execute_result"
    }
   ],
   "source": [
    "# confusion_matrix\n",
    "cp = confusion_matrix(y_test,y_pred)\n",
    "cp"
   ]
  },
  {
   "cell_type": "code",
   "execution_count": 167,
   "metadata": {},
   "outputs": [
    {
     "data": {
      "text/html": [
       "<div>\n",
       "<style scoped>\n",
       "    .dataframe tbody tr th:only-of-type {\n",
       "        vertical-align: middle;\n",
       "    }\n",
       "\n",
       "    .dataframe tbody tr th {\n",
       "        vertical-align: top;\n",
       "    }\n",
       "\n",
       "    .dataframe thead th {\n",
       "        text-align: right;\n",
       "    }\n",
       "</style>\n",
       "<table border=\"1\" class=\"dataframe\">\n",
       "  <thead>\n",
       "    <tr style=\"text-align: right;\">\n",
       "      <th></th>\n",
       "      <th>Accuracy</th>\n",
       "      <th>Precision</th>\n",
       "      <th>Recall</th>\n",
       "      <th>AUC</th>\n",
       "      <th>F1</th>\n",
       "    </tr>\n",
       "  </thead>\n",
       "  <tbody>\n",
       "    <tr>\n",
       "      <th>0</th>\n",
       "      <td>0.9</td>\n",
       "      <td>0.59</td>\n",
       "      <td>0.43</td>\n",
       "      <td>0.76</td>\n",
       "      <td>0.5</td>\n",
       "    </tr>\n",
       "  </tbody>\n",
       "</table>\n",
       "</div>"
      ],
      "text/plain": [
       "   Accuracy  Precision  Recall   AUC   F1\n",
       "0       0.9       0.59    0.43  0.76  0.5"
      ]
     },
     "execution_count": 167,
     "metadata": {},
     "output_type": "execute_result"
    }
   ],
   "source": [
    "# Checking metrics to evaluate model\n",
    "accuracy = round(accuracy_score(y_test,y_pred),2)\n",
    "recall = round(recall_score(y_test,y_pred),2)\n",
    "precision = round(precision_score(y_test,y_pred),2)\n",
    "auc = round(roc_auc_score(y_test,y_pred),2)\n",
    "f1 = round(f1_score(y_test,y_pred),2)\n",
    "\n",
    "data = [[accuracy,recall,precision,auc,f1]] \n",
    "df = pd.DataFrame(data, columns = ['Accuracy','Precision','Recall','AUC','F1'])\n",
    "df.head()"
   ]
  },
  {
   "cell_type": "code",
   "execution_count": 164,
   "metadata": {},
   "outputs": [
    {
     "name": "stdout",
     "output_type": "stream",
     "text": [
      "Feature: 0, Score: 0.02674\n",
      "Feature: 1, Score: 0.21016\n",
      "Feature: 2, Score: 0.00716\n",
      "Feature: 3, Score: 0.03159\n",
      "Feature: 4, Score: 0.00617\n",
      "Feature: 5, Score: 0.00719\n",
      "Feature: 6, Score: 0.00534\n",
      "Feature: 7, Score: 0.14643\n",
      "Feature: 8, Score: 0.06439\n",
      "Feature: 9, Score: 0.00615\n",
      "Feature: 10, Score: 0.00689\n",
      "Feature: 11, Score: 0.00539\n",
      "Feature: 12, Score: 0.00547\n",
      "Feature: 13, Score: 0.00705\n",
      "Feature: 14, Score: 0.00673\n",
      "Feature: 15, Score: 0.00950\n",
      "Feature: 16, Score: 0.01185\n",
      "Feature: 17, Score: 0.04545\n",
      "Feature: 18, Score: 0.00588\n",
      "Feature: 19, Score: 0.02164\n",
      "Feature: 20, Score: 0.00403\n",
      "Feature: 21, Score: 0.03643\n",
      "Feature: 22, Score: 0.00618\n",
      "Feature: 23, Score: 0.00668\n",
      "Feature: 24, Score: 0.00614\n",
      "Feature: 25, Score: 0.00435\n",
      "Feature: 26, Score: 0.00496\n",
      "Feature: 27, Score: 0.00893\n",
      "Feature: 28, Score: 0.00904\n",
      "Feature: 29, Score: 0.00510\n",
      "Feature: 30, Score: 0.00506\n",
      "Feature: 31, Score: 0.02199\n",
      "Feature: 32, Score: 0.01311\n",
      "Feature: 33, Score: 0.00518\n",
      "Feature: 34, Score: 0.00532\n",
      "Feature: 35, Score: 0.00627\n",
      "Feature: 36, Score: 0.00449\n",
      "Feature: 37, Score: 0.00479\n",
      "Feature: 38, Score: 0.00546\n",
      "Feature: 39, Score: 0.00380\n",
      "Feature: 40, Score: 0.00519\n",
      "Feature: 41, Score: 0.00492\n",
      "Feature: 42, Score: 0.00427\n",
      "Feature: 43, Score: 0.00553\n",
      "Feature: 44, Score: 0.00502\n",
      "Feature: 45, Score: 0.00663\n",
      "Feature: 46, Score: 0.00503\n",
      "Feature: 47, Score: 0.00482\n",
      "Feature: 48, Score: 0.00429\n",
      "Feature: 49, Score: 0.00590\n",
      "Feature: 50, Score: 0.00766\n",
      "Feature: 51, Score: 0.00771\n",
      "Feature: 52, Score: 0.00446\n",
      "Feature: 53, Score: 0.00485\n",
      "Feature: 54, Score: 0.00522\n",
      "Feature: 55, Score: 0.00651\n",
      "Feature: 56, Score: 0.00496\n",
      "Feature: 57, Score: 0.00399\n",
      "Feature: 58, Score: 0.00442\n",
      "Feature: 59, Score: 0.00395\n",
      "Feature: 60, Score: 0.00475\n",
      "Feature: 61, Score: 0.00393\n",
      "Feature: 62, Score: 0.00491\n",
      "Feature: 63, Score: 0.00376\n",
      "Feature: 64, Score: 0.00494\n",
      "Feature: 65, Score: 0.00420\n",
      "Feature: 66, Score: 0.00590\n",
      "Feature: 67, Score: 0.00407\n",
      "Feature: 68, Score: 0.00393\n",
      "Feature: 69, Score: 0.00437\n",
      "Feature: 70, Score: 0.00324\n",
      "Feature: 71, Score: 0.00416\n",
      "Feature: 72, Score: 0.00554\n",
      "Feature: 73, Score: 0.00542\n",
      "Feature: 74, Score: 0.00574\n",
      "Feature: 75, Score: 0.00461\n",
      "Feature: 76, Score: 0.00363\n",
      "Feature: 77, Score: 0.00493\n",
      "Feature: 78, Score: 0.00407\n",
      "Feature: 79, Score: 0.00413\n"
     ]
    },
    {
     "data": {
      "image/png": "[encoded data removed]",
      "text/plain": [
       "<Figure size 432x288 with 1 Axes>"
      ]
     },
     "metadata": {
      "needs_background": "light"
     },
     "output_type": "display_data"
    }
   ],
   "source": [
    "# get importance\n",
    "importance = rfc.feature_importances_\n",
    "# summarize feature importance\n",
    "for i,v in enumerate(importance):\n",
    "    print('Feature: %0d, Score: %.5f' % (i,v))\n",
    "# plot feature importance\n",
    "plt.bar([x for x in range(len(importance))], importance)\n",
    "plt.show()"
   ]
  },
  {
   "cell_type": "markdown",
   "metadata": {},
   "source": [
    "### XG Boost"
   ]
  },
  {
   "cell_type": "code",
   "execution_count": 182,
   "metadata": {},
   "outputs": [
    {
     "name": "stdout",
     "output_type": "stream",
     "text": [
      "Shape of train datatset before : (20967, 136)\n",
      "Percenatge of Churned customer data : 8.12\n",
      "Applying SMOTE to normalize imbalance ....\n",
      "Shape of train datatset after SMOTE : (30822, 136)\n",
      "Shape of train datatset after PCA : (30822, 80)\n"
     ]
    }
   ],
   "source": [
    "x_train, x_test, y_train, y_test = resampling_data(x_scaled,Y,80)"
   ]
  },
  {
   "cell_type": "code",
   "execution_count": 184,
   "metadata": {},
   "outputs": [
    {
     "name": "stdout",
     "output_type": "stream",
     "text": [
      "[14:24:59] WARNING: C:/Users/Administrator/workspace/xgboost-win64_release_1.3.0/src/learner.cc:1061: Starting in XGBoost 1.3.0, the default evaluation metric used with the objective 'binary:logistic' was changed from 'error' to 'logloss'. Explicitly set eval_metric if you'd like to restore the old behavior.\n"
     ]
    },
    {
     "data": {
      "text/plain": [
       "XGBClassifier(base_score=0.5, booster='gbtree', colsample_bylevel=1,\n",
       "              colsample_bynode=1, colsample_bytree=1, gamma=0, gpu_id=-1,\n",
       "              importance_type='gain', interaction_constraints='',\n",
       "              learning_rate=0.300000012, max_delta_step=0, max_depth=6,\n",
       "              min_child_weight=1, missing=nan, monotone_constraints='()',\n",
       "              n_estimators=100, n_jobs=4, num_parallel_tree=1, random_state=0,\n",
       "              reg_alpha=0, reg_lambda=1, scale_pos_weight=1, subsample=1,\n",
       "              tree_method='exact', validate_parameters=1, verbosity=None)"
      ]
     },
     "execution_count": 184,
     "metadata": {},
     "output_type": "execute_result"
    }
   ],
   "source": [
    "# fit model on training data with default hyperparameters\n",
    "model = XGBClassifier()\n",
    "model.fit(x_train, y_train)"
   ]
  },
  {
   "cell_type": "code",
   "execution_count": null,
   "metadata": {},
   "outputs": [],
   "source": [
    "# evaluate predictions\n",
    "y_pred = model.predict(x_test)"
   ]
  },
  {
   "cell_type": "code",
   "execution_count": 185,
   "metadata": {},
   "outputs": [
    {
     "data": {
      "text/plain": [
       "array([[7776,  480],\n",
       "       [ 333,  397]], dtype=int64)"
      ]
     },
     "execution_count": 185,
     "metadata": {},
     "output_type": "execute_result"
    }
   ],
   "source": [
    "# confusion_matrix\n",
    "cp = confusion_matrix(y_test,y_pred)\n",
    "cp"
   ]
  },
  {
   "cell_type": "code",
   "execution_count": 186,
   "metadata": {},
   "outputs": [
    {
     "data": {
      "text/html": [
       "<div>\n",
       "<style scoped>\n",
       "    .dataframe tbody tr th:only-of-type {\n",
       "        vertical-align: middle;\n",
       "    }\n",
       "\n",
       "    .dataframe tbody tr th {\n",
       "        vertical-align: top;\n",
       "    }\n",
       "\n",
       "    .dataframe thead th {\n",
       "        text-align: right;\n",
       "    }\n",
       "</style>\n",
       "<table border=\"1\" class=\"dataframe\">\n",
       "  <thead>\n",
       "    <tr style=\"text-align: right;\">\n",
       "      <th></th>\n",
       "      <th>Accuracy</th>\n",
       "      <th>Precision</th>\n",
       "      <th>Recall</th>\n",
       "      <th>AUC</th>\n",
       "      <th>F1</th>\n",
       "    </tr>\n",
       "  </thead>\n",
       "  <tbody>\n",
       "    <tr>\n",
       "      <th>0</th>\n",
       "      <td>0.91</td>\n",
       "      <td>0.54</td>\n",
       "      <td>0.45</td>\n",
       "      <td>0.74</td>\n",
       "      <td>0.49</td>\n",
       "    </tr>\n",
       "  </tbody>\n",
       "</table>\n",
       "</div>"
      ],
      "text/plain": [
       "   Accuracy  Precision  Recall   AUC    F1\n",
       "0      0.91       0.54    0.45  0.74  0.49"
      ]
     },
     "execution_count": 186,
     "metadata": {},
     "output_type": "execute_result"
    }
   ],
   "source": [
    "# Metrics to evaluate model\n",
    "accuracy = round(accuracy_score(y_test,y_pred),2)\n",
    "recall = round(recall_score(y_test,y_pred),2)\n",
    "precision = round(precision_score(y_test,y_pred),2)\n",
    "auc = round(roc_auc_score(y_test,y_pred),2)\n",
    "f1 = round(f1_score(y_test,y_pred),2)\n",
    "\n",
    "data = [[accuracy,recall,precision,auc,f1]] \n",
    "df = pd.DataFrame(data, columns = ['Accuracy','Precision','Recall','AUC','F1'])\n",
    "df.head()"
   ]
  },
  {
   "cell_type": "markdown",
   "metadata": {},
   "source": [
    "### Hyperparameter tuning for XG Boost"
   ]
  },
  {
   "cell_type": "code",
   "execution_count": 188,
   "metadata": {},
   "outputs": [
    {
     "name": "stdout",
     "output_type": "stream",
     "text": [
      "Fitting 5 folds for each of 9 candidates, totalling 45 fits\n"
     ]
    },
    {
     "name": "stderr",
     "output_type": "stream",
     "text": [
      "[Parallel(n_jobs=-1)]: Using backend LokyBackend with 4 concurrent workers.\n",
      "[Parallel(n_jobs=-1)]: Done  45 out of  45 | elapsed: 11.3min finished\n"
     ]
    },
    {
     "name": "stdout",
     "output_type": "stream",
     "text": [
      "[14:38:31] WARNING: C:/Users/Administrator/workspace/xgboost-win64_release_1.3.0/src/learner.cc:1061: Starting in XGBoost 1.3.0, the default evaluation metric used with the objective 'binary:logistic' was changed from 'error' to 'logloss'. Explicitly set eval_metric if you'd like to restore the old behavior.\n"
     ]
    },
    {
     "data": {
      "text/plain": [
       "GridSearchCV(cv=5,\n",
       "             estimator=XGBClassifier(base_score=None, booster=None,\n",
       "                                     colsample_bylevel=None,\n",
       "                                     colsample_bynode=None,\n",
       "                                     colsample_bytree=None, gamma=None,\n",
       "                                     gpu_id=None, importance_type='gain',\n",
       "                                     interaction_constraints=None,\n",
       "                                     learning_rate=None, max_delta_step=None,\n",
       "                                     max_depth=2, min_child_weight=None,\n",
       "                                     missing=nan, monotone_constraints=None,\n",
       "                                     n_estimators=200, n_jobs=None,\n",
       "                                     num_parallel_tree=None, random_state=None,\n",
       "                                     reg_alpha=None, reg_lambda=None,\n",
       "                                     scale_pos_weight=None, subsample=None,\n",
       "                                     tree_method=None, validate_parameters=None,\n",
       "                                     verbosity=None),\n",
       "             n_jobs=-1,\n",
       "             param_grid={'learning_rate': [0.1, 0.2, 0.3],\n",
       "                         'subsample': [0.3, 0.4, 0.5]},\n",
       "             return_train_score=True, scoring='accuracy', verbose=1)"
      ]
     },
     "execution_count": 188,
     "metadata": {},
     "output_type": "execute_result"
    }
   ],
   "source": [
    "# hyperparameter tuning with XGBoost\n",
    "\n",
    "# creating a KFold object \n",
    "folds = 5\n",
    "# specify range of hyperparameters\n",
    "param_grid = {'learning_rate': [0.1,0.2,0.3], \n",
    "             'subsample': [0.3,0.4,0.5]}          \n",
    "\n",
    "# specify model\n",
    "xgb_model = XGBClassifier(max_depth=2, n_estimators=200)\n",
    "\n",
    "# set up GridSearchCV()\n",
    "model_cv = GridSearchCV(estimator = xgb_model, \n",
    "                        param_grid = param_grid, \n",
    "                        scoring= 'accuracy', # accuracy\n",
    "                        cv = folds, \n",
    "                        n_jobs = -1,\n",
    "                        verbose = 1,\n",
    "                        return_train_score=True)   \n",
    "\n",
    "# fit the model\n",
    "model_cv.fit(x_train, y_train)  "
   ]
  },
  {
   "cell_type": "code",
   "execution_count": 189,
   "metadata": {},
   "outputs": [
    {
     "name": "stdout",
     "output_type": "stream",
     "text": [
      "Accuracy **0.88** using the params{'learning_rate': 0.3, 'subsample': 0.5}\n"
     ]
    }
   ],
   "source": [
    "# cv results\n",
    "cv_results_xboost = pd.DataFrame(model_cv.cv_results_)\n",
    "cv_results_xboost['param_learning_rate'] = cv_results_xboost['param_learning_rate'].astype('float')\n",
    "\n",
    "# printing the optimal accuracy score and hyperparameters\n",
    "print('Accuracy **'+str(round(model_cv.best_score_,2))+'** using the params'+str(model_cv.best_params_))"
   ]
  },
  {
   "cell_type": "code",
   "execution_count": 192,
   "metadata": {},
   "outputs": [
    {
     "name": "stdout",
     "output_type": "stream",
     "text": [
      "[14:40:13] WARNING: C:/Users/Administrator/workspace/xgboost-win64_release_1.3.0/src/learner.cc:541: \n",
      "Parameters: { params } might not be used.\n",
      "\n",
      "  This may not be accurate due to some parameters are only used in language bindings but\n",
      "  passed down to XGBoost core.  Or some parameters are not used but slip through this\n",
      "  verification. Please open an issue if you find above cases.\n",
      "\n",
      "\n",
      "[14:40:13] WARNING: C:/Users/Administrator/workspace/xgboost-win64_release_1.3.0/src/learner.cc:1061: Starting in XGBoost 1.3.0, the default evaluation metric used with the objective 'binary:logistic' was changed from 'error' to 'logloss'. Explicitly set eval_metric if you'd like to restore the old behavior.\n"
     ]
    },
    {
     "data": {
      "text/plain": [
       "XGBClassifier(base_score=0.5, booster='gbtree', colsample_bylevel=1,\n",
       "              colsample_bynode=1, colsample_bytree=1, gamma=0, gpu_id=-1,\n",
       "              importance_type='gain', interaction_constraints='',\n",
       "              learning_rate=0.300000012, max_delta_step=0, max_depth=2,\n",
       "              min_child_weight=1, missing=nan, monotone_constraints='()',\n",
       "              n_estimators=200, n_jobs=4, num_parallel_tree=1,\n",
       "              params={'learning_rate': 0.3, 'max_depth': 2, 'n_estimators': 200,\n",
       "                      'objective': 'binary:logistic', 'subsample': 0.5},\n",
       "              random_state=0, reg_alpha=0, reg_lambda=1, scale_pos_weight=1,\n",
       "              subsample=1, tree_method='exact', validate_parameters=1,\n",
       "              verbosity=None)"
      ]
     },
     "execution_count": 192,
     "metadata": {},
     "output_type": "execute_result"
    }
   ],
   "source": [
    "# chosen hyperparameters\n",
    "\n",
    "params = {'learning_rate': 0.3,\n",
    "          'max_depth': 2, \n",
    "          'n_estimators':200,\n",
    "          'subsample':0.5,\n",
    "         'objective':'binary:logistic'}\n",
    "\n",
    "# fit model on training data\n",
    "model = XGBClassifier(params = params,max_depth=2, n_estimators=200)\n",
    "model.fit(x_train, y_train)"
   ]
  },
  {
   "cell_type": "code",
   "execution_count": null,
   "metadata": {},
   "outputs": [],
   "source": [
    "# Making Predictions\n",
    "y_pred = model.predict(x_test)"
   ]
  },
  {
   "cell_type": "code",
   "execution_count": 193,
   "metadata": {},
   "outputs": [
    {
     "data": {
      "text/plain": [
       "array([[7465,  791],\n",
       "       [ 220,  510]], dtype=int64)"
      ]
     },
     "execution_count": 193,
     "metadata": {},
     "output_type": "execute_result"
    }
   ],
   "source": [
    "# confusion_matrix\n",
    "cp = confusion_matrix(y_test,y_pred)\n",
    "cp"
   ]
  },
  {
   "cell_type": "code",
   "execution_count": 194,
   "metadata": {},
   "outputs": [
    {
     "data": {
      "text/html": [
       "<div>\n",
       "<style scoped>\n",
       "    .dataframe tbody tr th:only-of-type {\n",
       "        vertical-align: middle;\n",
       "    }\n",
       "\n",
       "    .dataframe tbody tr th {\n",
       "        vertical-align: top;\n",
       "    }\n",
       "\n",
       "    .dataframe thead th {\n",
       "        text-align: right;\n",
       "    }\n",
       "</style>\n",
       "<table border=\"1\" class=\"dataframe\">\n",
       "  <thead>\n",
       "    <tr style=\"text-align: right;\">\n",
       "      <th></th>\n",
       "      <th>Accuracy</th>\n",
       "      <th>Precision</th>\n",
       "      <th>Recall</th>\n",
       "      <th>AUC</th>\n",
       "      <th>F1</th>\n",
       "    </tr>\n",
       "  </thead>\n",
       "  <tbody>\n",
       "    <tr>\n",
       "      <th>0</th>\n",
       "      <td>0.89</td>\n",
       "      <td>0.7</td>\n",
       "      <td>0.39</td>\n",
       "      <td>0.8</td>\n",
       "      <td>0.5</td>\n",
       "    </tr>\n",
       "  </tbody>\n",
       "</table>\n",
       "</div>"
      ],
      "text/plain": [
       "   Accuracy  Precision  Recall  AUC   F1\n",
       "0      0.89        0.7    0.39  0.8  0.5"
      ]
     },
     "execution_count": 194,
     "metadata": {},
     "output_type": "execute_result"
    }
   ],
   "source": [
    "# Checking metrics to evaluate model performance\n",
    "accuracy = round(accuracy_score(y_test,y_pred),2)\n",
    "recall = round(recall_score(y_test,y_pred),2)\n",
    "precision = round(precision_score(y_test,y_pred),2)\n",
    "auc = round(roc_auc_score(y_test,y_pred),2)\n",
    "f1 = round(f1_score(y_test,y_pred),2)\n",
    "\n",
    "data = [[accuracy,recall,precision,auc,f1]] \n",
    "df = pd.DataFrame(data, columns = ['Accuracy','Precision','Recall','AUC','F1'])\n",
    "df.head()"
   ]
  },
  {
   "cell_type": "code",
   "execution_count": 196,
   "metadata": {},
   "outputs": [
    {
     "data": {
      "text/html": [
       "<div>\n",
       "<style scoped>\n",
       "    .dataframe tbody tr th:only-of-type {\n",
       "        vertical-align: middle;\n",
       "    }\n",
       "\n",
       "    .dataframe tbody tr th {\n",
       "        vertical-align: top;\n",
       "    }\n",
       "\n",
       "    .dataframe thead th {\n",
       "        text-align: right;\n",
       "    }\n",
       "</style>\n",
       "<table border=\"1\" class=\"dataframe\">\n",
       "  <thead>\n",
       "    <tr style=\"text-align: right;\">\n",
       "      <th></th>\n",
       "      <th>PC1</th>\n",
       "      <th>PC2</th>\n",
       "      <th>PC3</th>\n",
       "      <th>Feature</th>\n",
       "    </tr>\n",
       "  </thead>\n",
       "  <tbody>\n",
       "    <tr>\n",
       "      <th>0</th>\n",
       "      <td>0.152841</td>\n",
       "      <td>0.022502</td>\n",
       "      <td>0.136916</td>\n",
       "      <td>arpu_6</td>\n",
       "    </tr>\n",
       "    <tr>\n",
       "      <th>1</th>\n",
       "      <td>0.162561</td>\n",
       "      <td>0.019920</td>\n",
       "      <td>0.165277</td>\n",
       "      <td>arpu_7</td>\n",
       "    </tr>\n",
       "    <tr>\n",
       "      <th>2</th>\n",
       "      <td>0.157882</td>\n",
       "      <td>0.036703</td>\n",
       "      <td>0.161822</td>\n",
       "      <td>arpu_8</td>\n",
       "    </tr>\n",
       "    <tr>\n",
       "      <th>3</th>\n",
       "      <td>0.116525</td>\n",
       "      <td>-0.103548</td>\n",
       "      <td>0.047583</td>\n",
       "      <td>onnet_mou_6</td>\n",
       "    </tr>\n",
       "    <tr>\n",
       "      <th>4</th>\n",
       "      <td>0.126574</td>\n",
       "      <td>-0.112576</td>\n",
       "      <td>0.064027</td>\n",
       "      <td>onnet_mou_7</td>\n",
       "    </tr>\n",
       "    <tr>\n",
       "      <th>5</th>\n",
       "      <td>0.126572</td>\n",
       "      <td>-0.096591</td>\n",
       "      <td>0.070599</td>\n",
       "      <td>onnet_mou_8</td>\n",
       "    </tr>\n",
       "    <tr>\n",
       "      <th>6</th>\n",
       "      <td>0.157462</td>\n",
       "      <td>-0.053168</td>\n",
       "      <td>0.042056</td>\n",
       "      <td>offnet_mou_6</td>\n",
       "    </tr>\n",
       "    <tr>\n",
       "      <th>7</th>\n",
       "      <td>0.166421</td>\n",
       "      <td>-0.063021</td>\n",
       "      <td>0.060517</td>\n",
       "      <td>offnet_mou_7</td>\n",
       "    </tr>\n",
       "    <tr>\n",
       "      <th>8</th>\n",
       "      <td>0.161692</td>\n",
       "      <td>-0.042832</td>\n",
       "      <td>0.066757</td>\n",
       "      <td>offnet_mou_8</td>\n",
       "    </tr>\n",
       "    <tr>\n",
       "      <th>9</th>\n",
       "      <td>0.021422</td>\n",
       "      <td>-0.003140</td>\n",
       "      <td>0.019483</td>\n",
       "      <td>roam_ic_mou_6</td>\n",
       "    </tr>\n",
       "    <tr>\n",
       "      <th>10</th>\n",
       "      <td>0.013683</td>\n",
       "      <td>-0.000718</td>\n",
       "      <td>0.018221</td>\n",
       "      <td>roam_ic_mou_7</td>\n",
       "    </tr>\n",
       "    <tr>\n",
       "      <th>11</th>\n",
       "      <td>0.018760</td>\n",
       "      <td>-0.000952</td>\n",
       "      <td>0.023126</td>\n",
       "      <td>roam_ic_mou_8</td>\n",
       "    </tr>\n",
       "    <tr>\n",
       "      <th>12</th>\n",
       "      <td>0.027836</td>\n",
       "      <td>-0.023910</td>\n",
       "      <td>0.032067</td>\n",
       "      <td>roam_og_mou_6</td>\n",
       "    </tr>\n",
       "    <tr>\n",
       "      <th>13</th>\n",
       "      <td>0.023809</td>\n",
       "      <td>-0.021156</td>\n",
       "      <td>0.035382</td>\n",
       "      <td>roam_og_mou_7</td>\n",
       "    </tr>\n",
       "    <tr>\n",
       "      <th>14</th>\n",
       "      <td>0.028442</td>\n",
       "      <td>-0.018114</td>\n",
       "      <td>0.038782</td>\n",
       "      <td>roam_og_mou_8</td>\n",
       "    </tr>\n",
       "  </tbody>\n",
       "</table>\n",
       "</div>"
      ],
      "text/plain": [
       "         PC1       PC2       PC3        Feature\n",
       "0   0.152841  0.022502  0.136916         arpu_6\n",
       "1   0.162561  0.019920  0.165277         arpu_7\n",
       "2   0.157882  0.036703  0.161822         arpu_8\n",
       "3   0.116525 -0.103548  0.047583    onnet_mou_6\n",
       "4   0.126574 -0.112576  0.064027    onnet_mou_7\n",
       "5   0.126572 -0.096591  0.070599    onnet_mou_8\n",
       "6   0.157462 -0.053168  0.042056   offnet_mou_6\n",
       "7   0.166421 -0.063021  0.060517   offnet_mou_7\n",
       "8   0.161692 -0.042832  0.066757   offnet_mou_8\n",
       "9   0.021422 -0.003140  0.019483  roam_ic_mou_6\n",
       "10  0.013683 -0.000718  0.018221  roam_ic_mou_7\n",
       "11  0.018760 -0.000952  0.023126  roam_ic_mou_8\n",
       "12  0.027836 -0.023910  0.032067  roam_og_mou_6\n",
       "13  0.023809 -0.021156  0.035382  roam_og_mou_7\n",
       "14  0.028442 -0.018114  0.038782  roam_og_mou_8"
      ]
     },
     "execution_count": 196,
     "metadata": {},
     "output_type": "execute_result"
    }
   ],
   "source": [
    "# Viewing features\n",
    "col = list(x_scaled.columns)\n",
    "df_pca = pd.DataFrame({'PC1':pca.components_[0],'PC2':pca.components_[1], 'PC3':pca.components_[2],'Feature':col})\n",
    "df_pca.head(15)"
   ]
  },
  {
   "cell_type": "markdown",
   "metadata": {},
   "source": [
    "#### Random forest with hypertuned seems to be the best model for future churn predictions. <br><br>"
   ]
  },
  {
   "cell_type": "markdown",
   "metadata": {},
   "source": [
    "## RFE"
   ]
  },
  {
   "cell_type": "code",
   "execution_count": 214,
   "metadata": {},
   "outputs": [
    {
     "name": "stdout",
     "output_type": "stream",
     "text": [
      "(44032, 136)\n",
      "(5991, 136)\n"
     ]
    }
   ],
   "source": [
    "X,y=split_data(telecom_df_high_val_cust)\n",
    "\n",
    "# stratify = yes to handle imbalance data\n",
    "X_train, X_test, y_train, y_test = train_test_split(X, y, train_size = 0.8, stratify = y, random_state = 100)\n",
    "\n",
    "# Using Smote to \n",
    "smot = SMOTE(random_state =100)\n",
    "X_train_smt, y_train_smt = smot.fit_sample(X_train, y_train)\n",
    "\n",
    "# Creating copy of original before standardizing\n",
    "X_train_st = X_train_smt.copy()\n",
    "X_test_st = X_test.copy()\n",
    "cols = X_test.columns\n",
    "# Creating Standardization object\n",
    "scalar = StandardScaler()\n",
    "\n",
    "X_train_st = pd.DataFrame(scalar.fit_transform(X_train_st), columns=cols )\n",
    "X_test_st = pd.DataFrame(scalar.transform(X_test_st),columns=cols)\n",
    "\n",
    "print(X_train_st.shape)\n",
    "print(X_test_st.shape)"
   ]
  },
  {
   "cell_type": "code",
   "execution_count": 216,
   "metadata": {},
   "outputs": [
    {
     "data": {
      "text/plain": [
       "[('arpu_6', False, 26),\n",
       " ('arpu_7', False, 33),\n",
       " ('arpu_8', False, 36),\n",
       " ('onnet_mou_6', False, 46),\n",
       " ('onnet_mou_7', False, 12),\n",
       " ('onnet_mou_8', False, 50),\n",
       " ('offnet_mou_6', False, 72),\n",
       " ('offnet_mou_7', False, 53),\n",
       " ('offnet_mou_8', False, 29),\n",
       " ('roam_ic_mou_6', False, 47),\n",
       " ('roam_ic_mou_7', False, 85),\n",
       " ('roam_ic_mou_8', False, 86),\n",
       " ('roam_og_mou_6', False, 69),\n",
       " ('roam_og_mou_7', False, 24),\n",
       " ('roam_og_mou_8', False, 89),\n",
       " ('loc_og_t2t_mou_6', False, 95),\n",
       " ('loc_og_t2t_mou_7', False, 71),\n",
       " ('loc_og_t2t_mou_8', False, 14),\n",
       " ('loc_og_t2m_mou_6', False, 28),\n",
       " ('loc_og_t2m_mou_7', False, 27),\n",
       " ('loc_og_t2m_mou_8', False, 67),\n",
       " ('loc_og_t2f_mou_6', False, 102),\n",
       " ('loc_og_t2f_mou_7', False, 60),\n",
       " ('loc_og_t2f_mou_8', False, 118),\n",
       " ('loc_og_t2c_mou_6', False, 74),\n",
       " ('loc_og_t2c_mou_7', False, 82),\n",
       " ('loc_og_t2c_mou_8', False, 52),\n",
       " ('loc_og_mou_6', False, 94),\n",
       " ('loc_og_mou_7', False, 70),\n",
       " ('loc_og_mou_8', False, 5),\n",
       " ('std_og_t2t_mou_6', False, 45),\n",
       " ('std_og_t2t_mou_7', False, 13),\n",
       " ('std_og_t2t_mou_8', False, 104),\n",
       " ('std_og_t2m_mou_6', False, 73),\n",
       " ('std_og_t2m_mou_7', False, 23),\n",
       " ('std_og_t2m_mou_8', False, 112),\n",
       " ('std_og_t2f_mou_6', False, 105),\n",
       " ('std_og_t2f_mou_7', False, 113),\n",
       " ('std_og_t2f_mou_8', False, 68),\n",
       " ('std_og_mou_6', False, 119),\n",
       " ('std_og_mou_7', False, 77),\n",
       " ('std_og_mou_8', False, 66),\n",
       " ('isd_og_mou_6', False, 57),\n",
       " ('isd_og_mou_7', False, 30),\n",
       " ('isd_og_mou_8', False, 31),\n",
       " ('spl_og_mou_6', False, 120),\n",
       " ('spl_og_mou_7', False, 83),\n",
       " ('spl_og_mou_8', False, 51),\n",
       " ('og_others_6', False, 110),\n",
       " ('og_others_7', False, 54),\n",
       " ('og_others_8', False, 100),\n",
       " ('total_og_mou_6', False, 109),\n",
       " ('total_og_mou_7', False, 59),\n",
       " ('total_og_mou_8', False, 3),\n",
       " ('loc_ic_t2t_mou_6', False, 48),\n",
       " ('loc_ic_t2t_mou_7', False, 91),\n",
       " ('loc_ic_t2t_mou_8', False, 8),\n",
       " ('loc_ic_t2m_mou_6', False, 78),\n",
       " ('loc_ic_t2m_mou_7', False, 90),\n",
       " ('loc_ic_t2m_mou_8', False, 7),\n",
       " ('loc_ic_t2f_mou_6', False, 107),\n",
       " ('loc_ic_t2f_mou_7', False, 111),\n",
       " ('loc_ic_t2f_mou_8', False, 6),\n",
       " ('loc_ic_mou_6', False, 98),\n",
       " ('loc_ic_mou_7', False, 80),\n",
       " ('loc_ic_mou_8', True, 1),\n",
       " ('std_ic_t2t_mou_6', False, 76),\n",
       " ('std_ic_t2t_mou_7', False, 79),\n",
       " ('std_ic_t2t_mou_8', False, 41),\n",
       " ('std_ic_t2m_mou_6', False, 103),\n",
       " ('std_ic_t2m_mou_7', False, 39),\n",
       " ('std_ic_t2m_mou_8', False, 121),\n",
       " ('std_ic_t2f_mou_6', False, 115),\n",
       " ('std_ic_t2f_mou_7', False, 96),\n",
       " ('std_ic_t2f_mou_8', False, 122),\n",
       " ('std_ic_mou_6', False, 114),\n",
       " ('std_ic_mou_7', False, 108),\n",
       " ('std_ic_mou_8', False, 9),\n",
       " ('total_ic_mou_6', False, 22),\n",
       " ('total_ic_mou_7', False, 10),\n",
       " ('total_ic_mou_8', False, 37),\n",
       " ('spl_ic_mou_6', False, 56),\n",
       " ('spl_ic_mou_7', False, 55),\n",
       " ('spl_ic_mou_8', False, 25),\n",
       " ('isd_ic_mou_6', False, 81),\n",
       " ('isd_ic_mou_7', False, 106),\n",
       " ('isd_ic_mou_8', False, 20),\n",
       " ('ic_others_6', False, 38),\n",
       " ('ic_others_7', False, 43),\n",
       " ('ic_others_8', False, 42),\n",
       " ('total_rech_num_6', False, 117),\n",
       " ('total_rech_num_7', False, 40),\n",
       " ('total_rech_num_8', False, 17),\n",
       " ('total_rech_amt_6', False, 93),\n",
       " ('total_rech_amt_7', False, 32),\n",
       " ('total_rech_amt_8', False, 84),\n",
       " ('max_rech_amt_6', False, 62),\n",
       " ('max_rech_amt_7', False, 34),\n",
       " ('max_rech_amt_8', False, 101),\n",
       " ('last_day_rch_amt_6', False, 63),\n",
       " ('last_day_rch_amt_7', False, 116),\n",
       " ('last_day_rch_amt_8', False, 18),\n",
       " ('total_rech_data_6', True, 1),\n",
       " ('total_rech_data_7', True, 1),\n",
       " ('total_rech_data_8', True, 1),\n",
       " ('av_rech_amt_data_6', False, 16),\n",
       " ('av_rech_amt_data_7', False, 88),\n",
       " ('av_rech_amt_data_8', False, 35),\n",
       " ('vol_2g_mb_6', False, 75),\n",
       " ('vol_2g_mb_7', False, 44),\n",
       " ('vol_2g_mb_8', False, 19),\n",
       " ('vol_3g_mb_6', False, 61),\n",
       " ('vol_3g_mb_7', False, 65),\n",
       " ('vol_3g_mb_8', False, 87),\n",
       " ('monthly_2g_6', False, 2),\n",
       " ('monthly_2g_7', True, 1),\n",
       " ('monthly_2g_8', True, 1),\n",
       " ('sachet_2g_6', True, 1),\n",
       " ('sachet_2g_7', True, 1),\n",
       " ('sachet_2g_8', True, 1),\n",
       " ('monthly_3g_6', True, 1),\n",
       " ('monthly_3g_7', True, 1),\n",
       " ('monthly_3g_8', True, 1),\n",
       " ('sachet_3g_6', True, 1),\n",
       " ('sachet_3g_7', True, 1),\n",
       " ('sachet_3g_8', True, 1),\n",
       " ('aon', False, 21),\n",
       " ('aug_vbc_3g', False, 49),\n",
       " ('jul_vbc_3g', False, 64),\n",
       " ('jun_vbc_3g', False, 97),\n",
       " ('sep_vbc_3g', False, 11),\n",
       " ('total_rech_data_amt_6', False, 58),\n",
       " ('total_rech_data_amt_7', False, 92),\n",
       " ('total_rech_data_amt_8', False, 15),\n",
       " ('total_avg_rech_amnt_6_7_GPhase', False, 4),\n",
       " ('tenure', False, 99)]"
      ]
     },
     "execution_count": 216,
     "metadata": {},
     "output_type": "execute_result"
    }
   ],
   "source": [
    "# Creating Linear regression model using sklearn \n",
    "\n",
    "lm = LogisticRegression()\n",
    "lm.fit(X_train_st, y_train_smt)\n",
    "\n",
    "# Running RFE with the output number of the variable equal to 15 xxx\n",
    "rfe = RFE(lm, 15)             \n",
    "rfe = rfe.fit(X_train_st, y_train_smt)\n",
    "\n",
    "list(zip(X_train_st.columns, rfe.support_, rfe.ranking_))"
   ]
  },
  {
   "cell_type": "code",
   "execution_count": 218,
   "metadata": {},
   "outputs": [
    {
     "data": {
      "text/html": [
       "<div>\n",
       "<style scoped>\n",
       "    .dataframe tbody tr th:only-of-type {\n",
       "        vertical-align: middle;\n",
       "    }\n",
       "\n",
       "    .dataframe tbody tr th {\n",
       "        vertical-align: top;\n",
       "    }\n",
       "\n",
       "    .dataframe thead th {\n",
       "        text-align: right;\n",
       "    }\n",
       "</style>\n",
       "<table border=\"1\" class=\"dataframe\">\n",
       "  <thead>\n",
       "    <tr style=\"text-align: right;\">\n",
       "      <th></th>\n",
       "      <th>Features</th>\n",
       "      <th>VIF</th>\n",
       "    </tr>\n",
       "  </thead>\n",
       "  <tbody>\n",
       "    <tr>\n",
       "      <th>3</th>\n",
       "      <td>total_rech_data_8</td>\n",
       "      <td>121.50</td>\n",
       "    </tr>\n",
       "    <tr>\n",
       "      <th>8</th>\n",
       "      <td>sachet_2g_8</td>\n",
       "      <td>85.06</td>\n",
       "    </tr>\n",
       "    <tr>\n",
       "      <th>2</th>\n",
       "      <td>total_rech_data_7</td>\n",
       "      <td>85.04</td>\n",
       "    </tr>\n",
       "    <tr>\n",
       "      <th>7</th>\n",
       "      <td>sachet_2g_7</td>\n",
       "      <td>65.11</td>\n",
       "    </tr>\n",
       "    <tr>\n",
       "      <th>1</th>\n",
       "      <td>total_rech_data_6</td>\n",
       "      <td>39.86</td>\n",
       "    </tr>\n",
       "    <tr>\n",
       "      <th>6</th>\n",
       "      <td>sachet_2g_6</td>\n",
       "      <td>31.79</td>\n",
       "    </tr>\n",
       "    <tr>\n",
       "      <th>14</th>\n",
       "      <td>sachet_3g_8</td>\n",
       "      <td>16.26</td>\n",
       "    </tr>\n",
       "    <tr>\n",
       "      <th>13</th>\n",
       "      <td>sachet_3g_7</td>\n",
       "      <td>14.94</td>\n",
       "    </tr>\n",
       "    <tr>\n",
       "      <th>12</th>\n",
       "      <td>sachet_3g_6</td>\n",
       "      <td>6.98</td>\n",
       "    </tr>\n",
       "    <tr>\n",
       "      <th>11</th>\n",
       "      <td>monthly_3g_8</td>\n",
       "      <td>6.24</td>\n",
       "    </tr>\n",
       "    <tr>\n",
       "      <th>10</th>\n",
       "      <td>monthly_3g_7</td>\n",
       "      <td>4.85</td>\n",
       "    </tr>\n",
       "    <tr>\n",
       "      <th>5</th>\n",
       "      <td>monthly_2g_8</td>\n",
       "      <td>3.39</td>\n",
       "    </tr>\n",
       "    <tr>\n",
       "      <th>9</th>\n",
       "      <td>monthly_3g_6</td>\n",
       "      <td>2.97</td>\n",
       "    </tr>\n",
       "    <tr>\n",
       "      <th>4</th>\n",
       "      <td>monthly_2g_7</td>\n",
       "      <td>2.64</td>\n",
       "    </tr>\n",
       "    <tr>\n",
       "      <th>0</th>\n",
       "      <td>loc_ic_mou_8</td>\n",
       "      <td>1.06</td>\n",
       "    </tr>\n",
       "  </tbody>\n",
       "</table>\n",
       "</div>"
      ],
      "text/plain": [
       "             Features     VIF\n",
       "3   total_rech_data_8  121.50\n",
       "8         sachet_2g_8   85.06\n",
       "2   total_rech_data_7   85.04\n",
       "7         sachet_2g_7   65.11\n",
       "1   total_rech_data_6   39.86\n",
       "6         sachet_2g_6   31.79\n",
       "14        sachet_3g_8   16.26\n",
       "13        sachet_3g_7   14.94\n",
       "12        sachet_3g_6    6.98\n",
       "11       monthly_3g_8    6.24\n",
       "10       monthly_3g_7    4.85\n",
       "5        monthly_2g_8    3.39\n",
       "9        monthly_3g_6    2.97\n",
       "4        monthly_2g_7    2.64\n",
       "0        loc_ic_mou_8    1.06"
      ]
     },
     "execution_count": 218,
     "metadata": {},
     "output_type": "execute_result"
    }
   ],
   "source": [
    "# Creating dataframe with only the columns that the RFE Sellected\n",
    "cols =  X_train_st.columns[rfe.support_]\n",
    "\n",
    "# This is the traning data set with RFE Sellected Variables\n",
    "X_train_rfe = X_train_st[cols]\n",
    "\n",
    "# Function for VIF Calculation\n",
    "\n",
    "def calculateVIF(df):\n",
    "    vif = pd.DataFrame()\n",
    "    vif['Features'] = df.columns\n",
    "    vif['VIF'] = [variance_inflation_factor(df.values, i) for i in range(df.shape[1])]\n",
    "    vif['VIF'] = round(vif['VIF'], 2)\n",
    "    vif = vif.sort_values(by = \"VIF\", ascending = False)\n",
    "    return vif \n",
    "\n",
    "# Running VIF\n",
    "calculateVIF(X_train_rfe)"
   ]
  },
  {
   "cell_type": "code",
   "execution_count": 220,
   "metadata": {},
   "outputs": [
    {
     "name": "stdout",
     "output_type": "stream",
     "text": [
      "                 Generalized Linear Model Regression Results                  \n",
      "==============================================================================\n",
      "Dep. Variable:                  churn   No. Observations:                44032\n",
      "Model:                            GLM   Df Residuals:                    44016\n",
      "Model Family:                Binomial   Df Model:                           15\n",
      "Link Function:                  logit   Scale:                          1.0000\n",
      "Method:                          IRLS   Log-Likelihood:                    nan\n",
      "Date:                Sat, 20 Feb 2021   Deviance:                          nan\n",
      "Time:                        20:41:19   Pearson chi2:                 4.03e+12\n",
      "No. Iterations:                   100                                         \n",
      "Covariance Type:            nonrobust                                         \n",
      "=====================================================================================\n",
      "                        coef    std err          z      P>|z|      [0.025      0.975]\n",
      "-------------------------------------------------------------------------------------\n",
      "const              7418.7960   1.27e+05      0.059      0.953   -2.41e+05    2.56e+05\n",
      "loc_ic_mou_8         -3.4541      0.059    -58.419      0.000      -3.570      -3.338\n",
      "total_rech_data_6     2.9193      0.147     19.868      0.000       2.631       3.207\n",
      "total_rech_data_7  1.014e+05   2.58e+06      0.039      0.969   -4.96e+06    5.16e+06\n",
      "total_rech_data_8  6.849e+04   3.38e+06      0.020      0.984   -6.56e+06    6.69e+06\n",
      "monthly_2g_7      -1.247e+04   3.17e+05     -0.039      0.969   -6.35e+05     6.1e+05\n",
      "monthly_2g_8      -8800.5914   4.34e+05     -0.020      0.984    -8.6e+05    8.42e+05\n",
      "sachet_2g_6          -2.5723      0.131    -19.583      0.000      -2.830      -2.315\n",
      "sachet_2g_7       -8.519e+04   2.17e+06     -0.039      0.969   -4.33e+06    4.16e+06\n",
      "sachet_2g_8        -5.68e+04    2.8e+06     -0.020      0.984   -5.55e+06    5.44e+06\n",
      "monthly_3g_6         -0.5724      0.038    -15.029      0.000      -0.647      -0.498\n",
      "monthly_3g_7      -1.893e+04   4.82e+05     -0.039      0.969   -9.63e+05    9.25e+05\n",
      "monthly_3g_8      -1.361e+04   6.72e+05     -0.020      0.984   -1.33e+06     1.3e+06\n",
      "sachet_3g_6          -0.9880      0.061    -16.220      0.000      -1.107      -0.869\n",
      "sachet_3g_7       -3.734e+04    9.5e+05     -0.039      0.969    -1.9e+06    1.83e+06\n",
      "sachet_3g_8       -2.381e+04   1.17e+06     -0.020      0.984   -2.33e+06    2.28e+06\n",
      "=====================================================================================\n"
     ]
    }
   ],
   "source": [
    "\n",
    "# Add a y-intercept (const)\n",
    "X_train_lm1 = sm.add_constant(X_train_rfe)\n",
    "\n",
    "# Create a first fitted model\n",
    "\n",
    "lr1 = sm.GLM(y_train_smt,X_train_lm1, family = sm.families.Binomial())\n",
    "res = lr1.fit()\n",
    "# Print a summary of the linear regression model obtained\n",
    "print(res.summary())"
   ]
  },
  {
   "cell_type": "markdown",
   "metadata": {},
   "source": [
    "### Logistic Reg Model 2"
   ]
  },
  {
   "cell_type": "code",
   "execution_count": 221,
   "metadata": {},
   "outputs": [
    {
     "data": {
      "text/html": [
       "<div>\n",
       "<style scoped>\n",
       "    .dataframe tbody tr th:only-of-type {\n",
       "        vertical-align: middle;\n",
       "    }\n",
       "\n",
       "    .dataframe tbody tr th {\n",
       "        vertical-align: top;\n",
       "    }\n",
       "\n",
       "    .dataframe thead th {\n",
       "        text-align: right;\n",
       "    }\n",
       "</style>\n",
       "<table border=\"1\" class=\"dataframe\">\n",
       "  <thead>\n",
       "    <tr style=\"text-align: right;\">\n",
       "      <th></th>\n",
       "      <th>Features</th>\n",
       "      <th>VIF</th>\n",
       "    </tr>\n",
       "  </thead>\n",
       "  <tbody>\n",
       "    <tr>\n",
       "      <th>2</th>\n",
       "      <td>total_rech_data_7</td>\n",
       "      <td>75.72</td>\n",
       "    </tr>\n",
       "    <tr>\n",
       "      <th>6</th>\n",
       "      <td>sachet_2g_7</td>\n",
       "      <td>58.97</td>\n",
       "    </tr>\n",
       "    <tr>\n",
       "      <th>1</th>\n",
       "      <td>total_rech_data_6</td>\n",
       "      <td>39.42</td>\n",
       "    </tr>\n",
       "    <tr>\n",
       "      <th>5</th>\n",
       "      <td>sachet_2g_6</td>\n",
       "      <td>31.44</td>\n",
       "    </tr>\n",
       "    <tr>\n",
       "      <th>12</th>\n",
       "      <td>sachet_3g_7</td>\n",
       "      <td>13.80</td>\n",
       "    </tr>\n",
       "    <tr>\n",
       "      <th>11</th>\n",
       "      <td>sachet_3g_6</td>\n",
       "      <td>6.94</td>\n",
       "    </tr>\n",
       "    <tr>\n",
       "      <th>9</th>\n",
       "      <td>monthly_3g_7</td>\n",
       "      <td>4.60</td>\n",
       "    </tr>\n",
       "    <tr>\n",
       "      <th>8</th>\n",
       "      <td>monthly_3g_6</td>\n",
       "      <td>2.96</td>\n",
       "    </tr>\n",
       "    <tr>\n",
       "      <th>3</th>\n",
       "      <td>monthly_2g_7</td>\n",
       "      <td>2.47</td>\n",
       "    </tr>\n",
       "    <tr>\n",
       "      <th>7</th>\n",
       "      <td>sachet_2g_8</td>\n",
       "      <td>1.92</td>\n",
       "    </tr>\n",
       "    <tr>\n",
       "      <th>13</th>\n",
       "      <td>sachet_3g_8</td>\n",
       "      <td>1.76</td>\n",
       "    </tr>\n",
       "    <tr>\n",
       "      <th>10</th>\n",
       "      <td>monthly_3g_8</td>\n",
       "      <td>1.72</td>\n",
       "    </tr>\n",
       "    <tr>\n",
       "      <th>4</th>\n",
       "      <td>monthly_2g_8</td>\n",
       "      <td>1.53</td>\n",
       "    </tr>\n",
       "    <tr>\n",
       "      <th>0</th>\n",
       "      <td>loc_ic_mou_8</td>\n",
       "      <td>1.06</td>\n",
       "    </tr>\n",
       "  </tbody>\n",
       "</table>\n",
       "</div>"
      ],
      "text/plain": [
       "             Features    VIF\n",
       "2   total_rech_data_7  75.72\n",
       "6         sachet_2g_7  58.97\n",
       "1   total_rech_data_6  39.42\n",
       "5         sachet_2g_6  31.44\n",
       "12        sachet_3g_7  13.80\n",
       "11        sachet_3g_6   6.94\n",
       "9        monthly_3g_7   4.60\n",
       "8        monthly_3g_6   2.96\n",
       "3        monthly_2g_7   2.47\n",
       "7         sachet_2g_8   1.92\n",
       "13        sachet_3g_8   1.76\n",
       "10       monthly_3g_8   1.72\n",
       "4        monthly_2g_8   1.53\n",
       "0        loc_ic_mou_8   1.06"
      ]
     },
     "execution_count": 221,
     "metadata": {},
     "output_type": "execute_result"
    }
   ],
   "source": [
    "# Droping High P value variable and VIF variables\n",
    "X_train_new = X_train_rfe.drop(['total_rech_data_8'], axis = 1)\n",
    "\n",
    "# Checking VIF of new model\n",
    "calculateVIF(X_train_new)"
   ]
  },
  {
   "cell_type": "code",
   "execution_count": 222,
   "metadata": {},
   "outputs": [
    {
     "data": {
      "text/html": [
       "<div>\n",
       "<style scoped>\n",
       "    .dataframe tbody tr th:only-of-type {\n",
       "        vertical-align: middle;\n",
       "    }\n",
       "\n",
       "    .dataframe tbody tr th {\n",
       "        vertical-align: top;\n",
       "    }\n",
       "\n",
       "    .dataframe thead th {\n",
       "        text-align: right;\n",
       "    }\n",
       "</style>\n",
       "<table border=\"1\" class=\"dataframe\">\n",
       "  <thead>\n",
       "    <tr style=\"text-align: right;\">\n",
       "      <th></th>\n",
       "      <th>Features</th>\n",
       "      <th>VIF</th>\n",
       "    </tr>\n",
       "  </thead>\n",
       "  <tbody>\n",
       "    <tr>\n",
       "      <th>1</th>\n",
       "      <td>total_rech_data_6</td>\n",
       "      <td>34.48</td>\n",
       "    </tr>\n",
       "    <tr>\n",
       "      <th>4</th>\n",
       "      <td>sachet_2g_6</td>\n",
       "      <td>27.98</td>\n",
       "    </tr>\n",
       "    <tr>\n",
       "      <th>10</th>\n",
       "      <td>sachet_3g_6</td>\n",
       "      <td>6.35</td>\n",
       "    </tr>\n",
       "    <tr>\n",
       "      <th>7</th>\n",
       "      <td>monthly_3g_6</td>\n",
       "      <td>2.79</td>\n",
       "    </tr>\n",
       "    <tr>\n",
       "      <th>11</th>\n",
       "      <td>sachet_3g_7</td>\n",
       "      <td>2.77</td>\n",
       "    </tr>\n",
       "    <tr>\n",
       "      <th>5</th>\n",
       "      <td>sachet_2g_7</td>\n",
       "      <td>2.43</td>\n",
       "    </tr>\n",
       "    <tr>\n",
       "      <th>6</th>\n",
       "      <td>sachet_2g_8</td>\n",
       "      <td>1.88</td>\n",
       "    </tr>\n",
       "    <tr>\n",
       "      <th>8</th>\n",
       "      <td>monthly_3g_7</td>\n",
       "      <td>1.87</td>\n",
       "    </tr>\n",
       "    <tr>\n",
       "      <th>12</th>\n",
       "      <td>sachet_3g_8</td>\n",
       "      <td>1.76</td>\n",
       "    </tr>\n",
       "    <tr>\n",
       "      <th>9</th>\n",
       "      <td>monthly_3g_8</td>\n",
       "      <td>1.71</td>\n",
       "    </tr>\n",
       "    <tr>\n",
       "      <th>2</th>\n",
       "      <td>monthly_2g_7</td>\n",
       "      <td>1.54</td>\n",
       "    </tr>\n",
       "    <tr>\n",
       "      <th>3</th>\n",
       "      <td>monthly_2g_8</td>\n",
       "      <td>1.51</td>\n",
       "    </tr>\n",
       "    <tr>\n",
       "      <th>0</th>\n",
       "      <td>loc_ic_mou_8</td>\n",
       "      <td>1.05</td>\n",
       "    </tr>\n",
       "  </tbody>\n",
       "</table>\n",
       "</div>"
      ],
      "text/plain": [
       "             Features    VIF\n",
       "1   total_rech_data_6  34.48\n",
       "4         sachet_2g_6  27.98\n",
       "10        sachet_3g_6   6.35\n",
       "7        monthly_3g_6   2.79\n",
       "11        sachet_3g_7   2.77\n",
       "5         sachet_2g_7   2.43\n",
       "6         sachet_2g_8   1.88\n",
       "8        monthly_3g_7   1.87\n",
       "12        sachet_3g_8   1.76\n",
       "9        monthly_3g_8   1.71\n",
       "2        monthly_2g_7   1.54\n",
       "3        monthly_2g_8   1.51\n",
       "0        loc_ic_mou_8   1.05"
      ]
     },
     "execution_count": 222,
     "metadata": {},
     "output_type": "execute_result"
    }
   ],
   "source": [
    "# Droping High P value variable and VIF variables\n",
    "X_train_new = X_train_rfe.drop(['total_rech_data_8','total_rech_data_7'], axis = 1)\n",
    "\n",
    "# Checking VIF of new model\n",
    "calculateVIF(X_train_new)"
   ]
  },
  {
   "cell_type": "code",
   "execution_count": 223,
   "metadata": {},
   "outputs": [
    {
     "data": {
      "text/html": [
       "<div>\n",
       "<style scoped>\n",
       "    .dataframe tbody tr th:only-of-type {\n",
       "        vertical-align: middle;\n",
       "    }\n",
       "\n",
       "    .dataframe tbody tr th {\n",
       "        vertical-align: top;\n",
       "    }\n",
       "\n",
       "    .dataframe thead th {\n",
       "        text-align: right;\n",
       "    }\n",
       "</style>\n",
       "<table border=\"1\" class=\"dataframe\">\n",
       "  <thead>\n",
       "    <tr style=\"text-align: right;\">\n",
       "      <th></th>\n",
       "      <th>Features</th>\n",
       "      <th>VIF</th>\n",
       "    </tr>\n",
       "  </thead>\n",
       "  <tbody>\n",
       "    <tr>\n",
       "      <th>10</th>\n",
       "      <td>sachet_3g_7</td>\n",
       "      <td>2.77</td>\n",
       "    </tr>\n",
       "    <tr>\n",
       "      <th>4</th>\n",
       "      <td>sachet_2g_7</td>\n",
       "      <td>2.43</td>\n",
       "    </tr>\n",
       "    <tr>\n",
       "      <th>9</th>\n",
       "      <td>sachet_3g_6</td>\n",
       "      <td>2.18</td>\n",
       "    </tr>\n",
       "    <tr>\n",
       "      <th>7</th>\n",
       "      <td>monthly_3g_7</td>\n",
       "      <td>1.87</td>\n",
       "    </tr>\n",
       "    <tr>\n",
       "      <th>5</th>\n",
       "      <td>sachet_2g_8</td>\n",
       "      <td>1.86</td>\n",
       "    </tr>\n",
       "    <tr>\n",
       "      <th>3</th>\n",
       "      <td>sachet_2g_6</td>\n",
       "      <td>1.82</td>\n",
       "    </tr>\n",
       "    <tr>\n",
       "      <th>11</th>\n",
       "      <td>sachet_3g_8</td>\n",
       "      <td>1.76</td>\n",
       "    </tr>\n",
       "    <tr>\n",
       "      <th>8</th>\n",
       "      <td>monthly_3g_8</td>\n",
       "      <td>1.71</td>\n",
       "    </tr>\n",
       "    <tr>\n",
       "      <th>6</th>\n",
       "      <td>monthly_3g_6</td>\n",
       "      <td>1.59</td>\n",
       "    </tr>\n",
       "    <tr>\n",
       "      <th>1</th>\n",
       "      <td>monthly_2g_7</td>\n",
       "      <td>1.49</td>\n",
       "    </tr>\n",
       "    <tr>\n",
       "      <th>2</th>\n",
       "      <td>monthly_2g_8</td>\n",
       "      <td>1.48</td>\n",
       "    </tr>\n",
       "    <tr>\n",
       "      <th>0</th>\n",
       "      <td>loc_ic_mou_8</td>\n",
       "      <td>1.04</td>\n",
       "    </tr>\n",
       "  </tbody>\n",
       "</table>\n",
       "</div>"
      ],
      "text/plain": [
       "        Features   VIF\n",
       "10   sachet_3g_7  2.77\n",
       "4    sachet_2g_7  2.43\n",
       "9    sachet_3g_6  2.18\n",
       "7   monthly_3g_7  1.87\n",
       "5    sachet_2g_8  1.86\n",
       "3    sachet_2g_6  1.82\n",
       "11   sachet_3g_8  1.76\n",
       "8   monthly_3g_8  1.71\n",
       "6   monthly_3g_6  1.59\n",
       "1   monthly_2g_7  1.49\n",
       "2   monthly_2g_8  1.48\n",
       "0   loc_ic_mou_8  1.04"
      ]
     },
     "execution_count": 223,
     "metadata": {},
     "output_type": "execute_result"
    }
   ],
   "source": [
    "# Droping High P value variable and VIF variables\n",
    "X_train_new = X_train_rfe.drop(['total_rech_data_8','total_rech_data_7','total_rech_data_6'], axis = 1)\n",
    "\n",
    "# Checking VIF of new model\n",
    "calculateVIF(X_train_new)"
   ]
  },
  {
   "cell_type": "code",
   "execution_count": 225,
   "metadata": {},
   "outputs": [
    {
     "name": "stdout",
     "output_type": "stream",
     "text": [
      "                 Generalized Linear Model Regression Results                  \n",
      "==============================================================================\n",
      "Dep. Variable:                  churn   No. Observations:                44032\n",
      "Model:                            GLM   Df Residuals:                    44019\n",
      "Model Family:                Binomial   Df Model:                           12\n",
      "Link Function:                  logit   Scale:                          1.0000\n",
      "Method:                          IRLS   Log-Likelihood:                -19417.\n",
      "Date:                Sat, 20 Feb 2021   Deviance:                       38833.\n",
      "Time:                        20:44:13   Pearson chi2:                 1.05e+07\n",
      "No. Iterations:                     7                                         \n",
      "Covariance Type:            nonrobust                                         \n",
      "================================================================================\n",
      "                   coef    std err          z      P>|z|      [0.025      0.975]\n",
      "--------------------------------------------------------------------------------\n",
      "const           -0.7186      0.018    -39.579      0.000      -0.754      -0.683\n",
      "loc_ic_mou_8    -2.3317      0.034    -69.297      0.000      -2.398      -2.266\n",
      "monthly_2g_7    -0.4163      0.021    -19.988      0.000      -0.457      -0.375\n",
      "monthly_2g_8    -0.8846      0.035    -25.321      0.000      -0.953      -0.816\n",
      "sachet_2g_6      0.0748      0.019      3.914      0.000       0.037       0.112\n",
      "sachet_2g_7      0.0720      0.022      3.346      0.001       0.030       0.114\n",
      "sachet_2g_8     -1.1149      0.031    -35.843      0.000      -1.176      -1.054\n",
      "monthly_3g_6     0.0023      0.018      0.129      0.897      -0.032       0.037\n",
      "monthly_3g_7    -0.0801      0.020     -4.013      0.000      -0.119      -0.041\n",
      "monthly_3g_8    -0.7261      0.026    -28.335      0.000      -0.776      -0.676\n",
      "sachet_3g_6      0.0100      0.022      0.451      0.652      -0.033       0.053\n",
      "sachet_3g_7      0.1219      0.025      4.894      0.000       0.073       0.171\n",
      "sachet_3g_8     -0.3369      0.031    -11.040      0.000      -0.397      -0.277\n",
      "================================================================================\n"
     ]
    }
   ],
   "source": [
    "# Add a constant\n",
    "X_train_lm = sm.add_constant(X_train_new)\n",
    "\n",
    "# Create a first fitted model\n",
    "lr1 = sm.GLM(y_train_smt,X_train_lm, family = sm.families.Binomial())\n",
    "res = lr1.fit()\n",
    "\n",
    "# Print a summary of the linear regression model obtained\n",
    "print(res.summary())"
   ]
  },
  {
   "cell_type": "code",
   "execution_count": 226,
   "metadata": {},
   "outputs": [
    {
     "data": {
      "text/html": [
       "<div>\n",
       "<style scoped>\n",
       "    .dataframe tbody tr th:only-of-type {\n",
       "        vertical-align: middle;\n",
       "    }\n",
       "\n",
       "    .dataframe tbody tr th {\n",
       "        vertical-align: top;\n",
       "    }\n",
       "\n",
       "    .dataframe thead th {\n",
       "        text-align: right;\n",
       "    }\n",
       "</style>\n",
       "<table border=\"1\" class=\"dataframe\">\n",
       "  <thead>\n",
       "    <tr style=\"text-align: right;\">\n",
       "      <th></th>\n",
       "      <th>Features</th>\n",
       "      <th>VIF</th>\n",
       "    </tr>\n",
       "  </thead>\n",
       "  <tbody>\n",
       "    <tr>\n",
       "      <th>9</th>\n",
       "      <td>sachet_3g_7</td>\n",
       "      <td>2.77</td>\n",
       "    </tr>\n",
       "    <tr>\n",
       "      <th>4</th>\n",
       "      <td>sachet_2g_7</td>\n",
       "      <td>2.42</td>\n",
       "    </tr>\n",
       "    <tr>\n",
       "      <th>8</th>\n",
       "      <td>sachet_3g_6</td>\n",
       "      <td>2.18</td>\n",
       "    </tr>\n",
       "    <tr>\n",
       "      <th>5</th>\n",
       "      <td>sachet_2g_8</td>\n",
       "      <td>1.86</td>\n",
       "    </tr>\n",
       "    <tr>\n",
       "      <th>3</th>\n",
       "      <td>sachet_2g_6</td>\n",
       "      <td>1.82</td>\n",
       "    </tr>\n",
       "    <tr>\n",
       "      <th>10</th>\n",
       "      <td>sachet_3g_8</td>\n",
       "      <td>1.75</td>\n",
       "    </tr>\n",
       "    <tr>\n",
       "      <th>6</th>\n",
       "      <td>monthly_3g_7</td>\n",
       "      <td>1.60</td>\n",
       "    </tr>\n",
       "    <tr>\n",
       "      <th>7</th>\n",
       "      <td>monthly_3g_8</td>\n",
       "      <td>1.60</td>\n",
       "    </tr>\n",
       "    <tr>\n",
       "      <th>1</th>\n",
       "      <td>monthly_2g_7</td>\n",
       "      <td>1.49</td>\n",
       "    </tr>\n",
       "    <tr>\n",
       "      <th>2</th>\n",
       "      <td>monthly_2g_8</td>\n",
       "      <td>1.48</td>\n",
       "    </tr>\n",
       "    <tr>\n",
       "      <th>0</th>\n",
       "      <td>loc_ic_mou_8</td>\n",
       "      <td>1.04</td>\n",
       "    </tr>\n",
       "  </tbody>\n",
       "</table>\n",
       "</div>"
      ],
      "text/plain": [
       "        Features   VIF\n",
       "9    sachet_3g_7  2.77\n",
       "4    sachet_2g_7  2.42\n",
       "8    sachet_3g_6  2.18\n",
       "5    sachet_2g_8  1.86\n",
       "3    sachet_2g_6  1.82\n",
       "10   sachet_3g_8  1.75\n",
       "6   monthly_3g_7  1.60\n",
       "7   monthly_3g_8  1.60\n",
       "1   monthly_2g_7  1.49\n",
       "2   monthly_2g_8  1.48\n",
       "0   loc_ic_mou_8  1.04"
      ]
     },
     "execution_count": 226,
     "metadata": {},
     "output_type": "execute_result"
    }
   ],
   "source": [
    "#dropping high p-value monthly_3g_6 - .897\n",
    "\n",
    "# Droping High P value variable and VIF variables\n",
    "X_train_new = X_train_rfe.drop(['total_rech_data_8','total_rech_data_7','total_rech_data_6','monthly_3g_6'], axis = 1)\n",
    "\n",
    "# Checking VIF of new model\n",
    "calculateVIF(X_train_new)"
   ]
  },
  {
   "cell_type": "code",
   "execution_count": 227,
   "metadata": {},
   "outputs": [
    {
     "name": "stdout",
     "output_type": "stream",
     "text": [
      "                 Generalized Linear Model Regression Results                  \n",
      "==============================================================================\n",
      "Dep. Variable:                  churn   No. Observations:                44032\n",
      "Model:                            GLM   Df Residuals:                    44020\n",
      "Model Family:                Binomial   Df Model:                           11\n",
      "Link Function:                  logit   Scale:                          1.0000\n",
      "Method:                          IRLS   Log-Likelihood:                -19417.\n",
      "Date:                Sat, 20 Feb 2021   Deviance:                       38834.\n",
      "Time:                        20:45:22   Pearson chi2:                 1.05e+07\n",
      "No. Iterations:                     7                                         \n",
      "Covariance Type:            nonrobust                                         \n",
      "================================================================================\n",
      "                   coef    std err          z      P>|z|      [0.025      0.975]\n",
      "--------------------------------------------------------------------------------\n",
      "const           -0.7187      0.018    -39.581      0.000      -0.754      -0.683\n",
      "loc_ic_mou_8    -2.3319      0.034    -69.364      0.000      -2.398      -2.266\n",
      "monthly_2g_7    -0.4163      0.021    -19.988      0.000      -0.457      -0.375\n",
      "monthly_2g_8    -0.8846      0.035    -25.321      0.000      -0.953      -0.816\n",
      "sachet_2g_6      0.0747      0.019      3.912      0.000       0.037       0.112\n",
      "sachet_2g_7      0.0720      0.022      3.344      0.001       0.030       0.114\n",
      "sachet_2g_8     -1.1149      0.031    -35.843      0.000      -1.176      -1.054\n",
      "monthly_3g_7    -0.0791      0.018     -4.281      0.000      -0.115      -0.043\n",
      "monthly_3g_8    -0.7253      0.025    -29.175      0.000      -0.774      -0.677\n",
      "sachet_3g_6      0.0100      0.022      0.453      0.651      -0.033       0.053\n",
      "sachet_3g_7      0.1220      0.025      4.898      0.000       0.073       0.171\n",
      "sachet_3g_8     -0.3370      0.031    -11.044      0.000      -0.397      -0.277\n",
      "================================================================================\n"
     ]
    }
   ],
   "source": [
    "# Add a constant\n",
    "X_train_lm = sm.add_constant(X_train_new)\n",
    "\n",
    "# Create a first fitted model\n",
    "lr1 = sm.GLM(y_train_smt,X_train_lm, family = sm.families.Binomial())\n",
    "res = lr1.fit()\n",
    "\n",
    "# Print a summary of the linear regression model obtained\n",
    "print(res.summary())"
   ]
  },
  {
   "cell_type": "code",
   "execution_count": 228,
   "metadata": {},
   "outputs": [
    {
     "data": {
      "text/html": [
       "<div>\n",
       "<style scoped>\n",
       "    .dataframe tbody tr th:only-of-type {\n",
       "        vertical-align: middle;\n",
       "    }\n",
       "\n",
       "    .dataframe tbody tr th {\n",
       "        vertical-align: top;\n",
       "    }\n",
       "\n",
       "    .dataframe thead th {\n",
       "        text-align: right;\n",
       "    }\n",
       "</style>\n",
       "<table border=\"1\" class=\"dataframe\">\n",
       "  <thead>\n",
       "    <tr style=\"text-align: right;\">\n",
       "      <th></th>\n",
       "      <th>Features</th>\n",
       "      <th>VIF</th>\n",
       "    </tr>\n",
       "  </thead>\n",
       "  <tbody>\n",
       "    <tr>\n",
       "      <th>4</th>\n",
       "      <td>sachet_2g_7</td>\n",
       "      <td>2.39</td>\n",
       "    </tr>\n",
       "    <tr>\n",
       "      <th>5</th>\n",
       "      <td>sachet_2g_8</td>\n",
       "      <td>1.86</td>\n",
       "    </tr>\n",
       "    <tr>\n",
       "      <th>3</th>\n",
       "      <td>sachet_2g_6</td>\n",
       "      <td>1.76</td>\n",
       "    </tr>\n",
       "    <tr>\n",
       "      <th>9</th>\n",
       "      <td>sachet_3g_8</td>\n",
       "      <td>1.75</td>\n",
       "    </tr>\n",
       "    <tr>\n",
       "      <th>8</th>\n",
       "      <td>sachet_3g_7</td>\n",
       "      <td>1.69</td>\n",
       "    </tr>\n",
       "    <tr>\n",
       "      <th>6</th>\n",
       "      <td>monthly_3g_7</td>\n",
       "      <td>1.60</td>\n",
       "    </tr>\n",
       "    <tr>\n",
       "      <th>7</th>\n",
       "      <td>monthly_3g_8</td>\n",
       "      <td>1.60</td>\n",
       "    </tr>\n",
       "    <tr>\n",
       "      <th>1</th>\n",
       "      <td>monthly_2g_7</td>\n",
       "      <td>1.49</td>\n",
       "    </tr>\n",
       "    <tr>\n",
       "      <th>2</th>\n",
       "      <td>monthly_2g_8</td>\n",
       "      <td>1.48</td>\n",
       "    </tr>\n",
       "    <tr>\n",
       "      <th>0</th>\n",
       "      <td>loc_ic_mou_8</td>\n",
       "      <td>1.04</td>\n",
       "    </tr>\n",
       "  </tbody>\n",
       "</table>\n",
       "</div>"
      ],
      "text/plain": [
       "       Features   VIF\n",
       "4   sachet_2g_7  2.39\n",
       "5   sachet_2g_8  1.86\n",
       "3   sachet_2g_6  1.76\n",
       "9   sachet_3g_8  1.75\n",
       "8   sachet_3g_7  1.69\n",
       "6  monthly_3g_7  1.60\n",
       "7  monthly_3g_8  1.60\n",
       "1  monthly_2g_7  1.49\n",
       "2  monthly_2g_8  1.48\n",
       "0  loc_ic_mou_8  1.04"
      ]
     },
     "execution_count": 228,
     "metadata": {},
     "output_type": "execute_result"
    }
   ],
   "source": [
    "#dropping high p-value sachet_3g_6       - .651\n",
    "\n",
    "# Droping High P value variable and VIF variables\n",
    "X_train_new = X_train_rfe.drop(['total_rech_data_8','total_rech_data_7','total_rech_data_6','monthly_3g_6','sachet_3g_6'], axis = 1)\n",
    "\n",
    "# Checking VIF of new model\n",
    "calculateVIF(X_train_new)"
   ]
  },
  {
   "cell_type": "code",
   "execution_count": 229,
   "metadata": {},
   "outputs": [
    {
     "name": "stdout",
     "output_type": "stream",
     "text": [
      "                 Generalized Linear Model Regression Results                  \n",
      "==============================================================================\n",
      "Dep. Variable:                  churn   No. Observations:                44032\n",
      "Model:                            GLM   Df Residuals:                    44021\n",
      "Model Family:                Binomial   Df Model:                           10\n",
      "Link Function:                  logit   Scale:                          1.0000\n",
      "Method:                          IRLS   Log-Likelihood:                -19417.\n",
      "Date:                Sat, 20 Feb 2021   Deviance:                       38834.\n",
      "Time:                        20:46:07   Pearson chi2:                 1.04e+07\n",
      "No. Iterations:                     7                                         \n",
      "Covariance Type:            nonrobust                                         \n",
      "================================================================================\n",
      "                   coef    std err          z      P>|z|      [0.025      0.975]\n",
      "--------------------------------------------------------------------------------\n",
      "const           -0.7187      0.018    -39.587      0.000      -0.754      -0.683\n",
      "loc_ic_mou_8    -2.3322      0.034    -69.387      0.000      -2.398      -2.266\n",
      "monthly_2g_7    -0.4164      0.021    -19.990      0.000      -0.457      -0.376\n",
      "monthly_2g_8    -0.8845      0.035    -25.318      0.000      -0.953      -0.816\n",
      "sachet_2g_6      0.0764      0.019      4.074      0.000       0.040       0.113\n",
      "sachet_2g_7      0.0709      0.021      3.314      0.001       0.029       0.113\n",
      "sachet_2g_8     -1.1151      0.031    -35.850      0.000      -1.176      -1.054\n",
      "monthly_3g_7    -0.0792      0.018     -4.282      0.000      -0.115      -0.043\n",
      "monthly_3g_8    -0.7251      0.025    -29.173      0.000      -0.774      -0.676\n",
      "sachet_3g_7      0.1281      0.021      6.126      0.000       0.087       0.169\n",
      "sachet_3g_8     -0.3351      0.030    -11.107      0.000      -0.394      -0.276\n",
      "================================================================================\n"
     ]
    }
   ],
   "source": [
    "# Add a constant\n",
    "X_train_lm = sm.add_constant(X_train_new)\n",
    "\n",
    "# Create a first fitted model\n",
    "lr1 = sm.GLM(y_train_smt,X_train_lm, family = sm.families.Binomial())\n",
    "res = lr1.fit()\n",
    "\n",
    "# Print a summary of the linear regression model obtained\n",
    "print(res.summary())"
   ]
  },
  {
   "cell_type": "markdown",
   "metadata": {},
   "source": [
    "### Important features:\n",
    "    loc_ic_mou_8    \n",
    "    monthly_2g_7    \n",
    "    monthly_2g_8    \n",
    "    sachet_2g_6    \n",
    "    sachet_2g_7     \n",
    "    sachet_2g_8    \n",
    "    monthly_3g_7    \n",
    "    monthly_3g_8  \n",
    "    sachet_3g_7    \n",
    "    sachet_3g_8     "
   ]
  },
  {
   "cell_type": "code",
   "execution_count": 234,
   "metadata": {},
   "outputs": [
    {
     "name": "stdout",
     "output_type": "stream",
     "text": [
      "(5991, 10)\n"
     ]
    },
    {
     "data": {
      "text/html": [
       "<div>\n",
       "<style scoped>\n",
       "    .dataframe tbody tr th:only-of-type {\n",
       "        vertical-align: middle;\n",
       "    }\n",
       "\n",
       "    .dataframe tbody tr th {\n",
       "        vertical-align: top;\n",
       "    }\n",
       "\n",
       "    .dataframe thead th {\n",
       "        text-align: right;\n",
       "    }\n",
       "</style>\n",
       "<table border=\"1\" class=\"dataframe\">\n",
       "  <thead>\n",
       "    <tr style=\"text-align: right;\">\n",
       "      <th></th>\n",
       "      <th>churn_pred</th>\n",
       "      <th>actual</th>\n",
       "    </tr>\n",
       "  </thead>\n",
       "  <tbody>\n",
       "    <tr>\n",
       "      <th>0</th>\n",
       "      <td>0</td>\n",
       "      <td>0</td>\n",
       "    </tr>\n",
       "    <tr>\n",
       "      <th>1</th>\n",
       "      <td>1</td>\n",
       "      <td>1</td>\n",
       "    </tr>\n",
       "    <tr>\n",
       "      <th>2</th>\n",
       "      <td>0</td>\n",
       "      <td>0</td>\n",
       "    </tr>\n",
       "    <tr>\n",
       "      <th>3</th>\n",
       "      <td>1</td>\n",
       "      <td>1</td>\n",
       "    </tr>\n",
       "    <tr>\n",
       "      <th>4</th>\n",
       "      <td>0</td>\n",
       "      <td>0</td>\n",
       "    </tr>\n",
       "    <tr>\n",
       "      <th>...</th>\n",
       "      <td>...</td>\n",
       "      <td>...</td>\n",
       "    </tr>\n",
       "    <tr>\n",
       "      <th>5986</th>\n",
       "      <td>0</td>\n",
       "      <td>0</td>\n",
       "    </tr>\n",
       "    <tr>\n",
       "      <th>5987</th>\n",
       "      <td>0</td>\n",
       "      <td>0</td>\n",
       "    </tr>\n",
       "    <tr>\n",
       "      <th>5988</th>\n",
       "      <td>0</td>\n",
       "      <td>0</td>\n",
       "    </tr>\n",
       "    <tr>\n",
       "      <th>5989</th>\n",
       "      <td>1</td>\n",
       "      <td>1</td>\n",
       "    </tr>\n",
       "    <tr>\n",
       "      <th>5990</th>\n",
       "      <td>0</td>\n",
       "      <td>0</td>\n",
       "    </tr>\n",
       "  </tbody>\n",
       "</table>\n",
       "<p>5991 rows × 2 columns</p>\n",
       "</div>"
      ],
      "text/plain": [
       "      churn_pred  actual\n",
       "0              0       0\n",
       "1              1       1\n",
       "2              0       0\n",
       "3              1       1\n",
       "4              0       0\n",
       "...          ...     ...\n",
       "5986           0       0\n",
       "5987           0       0\n",
       "5988           0       0\n",
       "5989           1       1\n",
       "5990           0       0\n",
       "\n",
       "[5991 rows x 2 columns]"
      ]
     },
     "execution_count": 234,
     "metadata": {},
     "output_type": "execute_result"
    }
   ],
   "source": [
    "# Extracting sellected variables\n",
    "cols = X_train_new.columns\n",
    "\n",
    "# Creating Test dataset with only sellected columns\n",
    "X_test_rfe = X_test_st[cols]\n",
    "print(X_test_rfe.shape)\n",
    "\n",
    "# Adding const to test set\n",
    "X_test_rfe = sm.add_constant(X_test_rfe)\n",
    "\n",
    "# Making predictions\n",
    "y_pred = res.predict(X_test_rfe).values.reshape(-1)\n",
    "\n",
    "churn_pred = [1 if l > 0.5 else 0 for l in y_pred]\n",
    "\n",
    "final = pd.DataFrame(np.array(churn_pred), columns=['churn_pred'])\n",
    "final['actual'] = np.array(churn_pred)\n",
    "final"
   ]
  },
  {
   "cell_type": "code",
   "execution_count": 235,
   "metadata": {},
   "outputs": [
    {
     "data": {
      "text/plain": [
       "1.0"
      ]
     },
     "execution_count": 235,
     "metadata": {},
     "output_type": "execute_result"
    }
   ],
   "source": [
    "# Checking accuracy score\n",
    "accuracy_score(final['actual'], final['churn_pred'])"
   ]
  },
  {
   "cell_type": "code",
   "execution_count": 236,
   "metadata": {},
   "outputs": [
    {
     "data": {
      "text/plain": [
       "array([[4100,    0],\n",
       "       [   0, 1891]], dtype=int64)"
      ]
     },
     "execution_count": 236,
     "metadata": {},
     "output_type": "execute_result"
    }
   ],
   "source": [
    "# Checking confusion matrix\n",
    "confusion_matrix(final['actual'], final['churn_pred'])"
   ]
  },
  {
   "cell_type": "markdown",
   "metadata": {},
   "source": [
    "### Random Forest"
   ]
  },
  {
   "cell_type": "code",
   "execution_count": 237,
   "metadata": {},
   "outputs": [
    {
     "name": "stdout",
     "output_type": "stream",
     "text": [
      "(44032, 136)\n",
      "(5991, 136)\n"
     ]
    }
   ],
   "source": [
    "X,y=split_data(telecom_df_high_val_cust)\n",
    "\n",
    "# stratify = yes to handle imbalance data\n",
    "X_train, X_test, y_train, y_test = train_test_split(X, y, train_size = 0.8, stratify = y, random_state = 100)\n",
    "\n",
    "# Using Smote to \n",
    "smot = SMOTE(random_state =100)\n",
    "X_train_smt, y_train_smt = smot.fit_sample(X_train, y_train)\n",
    "\n",
    "# Creating copy of original before standardizing\n",
    "X_train_st = X_train_smt.copy()\n",
    "X_test_st = X_test.copy()\n",
    "cols = X_test.columns\n",
    "# Creating Standardization object\n",
    "scalar = StandardScaler()\n",
    "\n",
    "X_train_st = pd.DataFrame(scalar.fit_transform(X_train_st), columns=cols )\n",
    "X_test_st = pd.DataFrame(scalar.transform(X_test_st),columns=cols)\n",
    "\n",
    "print(X_train_st.shape)\n",
    "print(X_test_st.shape)"
   ]
  },
  {
   "cell_type": "code",
   "execution_count": null,
   "metadata": {},
   "outputs": [],
   "source": [
    "# Running the random forest with default parameters.\n",
    "rfc = RandomForestClassifier()\n",
    "# fit\n",
    "rfc.fit(X_train_st,y_train_smt)\n",
    "\n",
    "# Making predictions\n",
    "y_pred = rfc.predict(X_test_st)"
   ]
  },
  {
   "cell_type": "code",
   "execution_count": 238,
   "metadata": {},
   "outputs": [
    {
     "data": {
      "text/plain": [
       "array([[5287,  217],\n",
       "       [ 154,  333]], dtype=int64)"
      ]
     },
     "execution_count": 238,
     "metadata": {},
     "output_type": "execute_result"
    }
   ],
   "source": [
    "# confusion_matrix\n",
    "cp = confusion_matrix(y_test,y_pred)\n",
    "cp"
   ]
  },
  {
   "cell_type": "code",
   "execution_count": 239,
   "metadata": {},
   "outputs": [
    {
     "data": {
      "text/html": [
       "<div>\n",
       "<style scoped>\n",
       "    .dataframe tbody tr th:only-of-type {\n",
       "        vertical-align: middle;\n",
       "    }\n",
       "\n",
       "    .dataframe tbody tr th {\n",
       "        vertical-align: top;\n",
       "    }\n",
       "\n",
       "    .dataframe thead th {\n",
       "        text-align: right;\n",
       "    }\n",
       "</style>\n",
       "<table border=\"1\" class=\"dataframe\">\n",
       "  <thead>\n",
       "    <tr style=\"text-align: right;\">\n",
       "      <th></th>\n",
       "      <th>Accuracy</th>\n",
       "      <th>Precision</th>\n",
       "      <th>Recall</th>\n",
       "      <th>AUC</th>\n",
       "      <th>F1</th>\n",
       "    </tr>\n",
       "  </thead>\n",
       "  <tbody>\n",
       "    <tr>\n",
       "      <th>0</th>\n",
       "      <td>0.94</td>\n",
       "      <td>0.68</td>\n",
       "      <td>0.61</td>\n",
       "      <td>0.82</td>\n",
       "      <td>0.64</td>\n",
       "    </tr>\n",
       "  </tbody>\n",
       "</table>\n",
       "</div>"
      ],
      "text/plain": [
       "   Accuracy  Precision  Recall   AUC    F1\n",
       "0      0.94       0.68    0.61  0.82  0.64"
      ]
     },
     "execution_count": 239,
     "metadata": {},
     "output_type": "execute_result"
    }
   ],
   "source": [
    "# Viewing model accurazy\n",
    "accuracy = round(accuracy_score(y_test,y_pred),2)\n",
    "recall = round(recall_score(y_test,y_pred),2)\n",
    "precision = round(precision_score(y_test,y_pred),2)\n",
    "auc = round(roc_auc_score(y_test,y_pred),2)\n",
    "f1 = round(f1_score(y_test,y_pred),2)\n",
    "\n",
    "data = [[accuracy,recall,precision,auc,f1]] \n",
    "df = pd.DataFrame(data, columns = ['Accuracy','Precision','Recall','AUC','F1'])\n",
    "df.head()"
   ]
  },
  {
   "cell_type": "code",
   "execution_count": 245,
   "metadata": {},
   "outputs": [
    {
     "name": "stdout",
     "output_type": "stream",
     "text": [
      "(136, 1)\n"
     ]
    },
    {
     "data": {
      "text/html": [
       "<div>\n",
       "<style scoped>\n",
       "    .dataframe tbody tr th:only-of-type {\n",
       "        vertical-align: middle;\n",
       "    }\n",
       "\n",
       "    .dataframe tbody tr th {\n",
       "        vertical-align: top;\n",
       "    }\n",
       "\n",
       "    .dataframe thead th {\n",
       "        text-align: right;\n",
       "    }\n",
       "</style>\n",
       "<table border=\"1\" class=\"dataframe\">\n",
       "  <thead>\n",
       "    <tr style=\"text-align: right;\">\n",
       "      <th></th>\n",
       "      <th>Importance</th>\n",
       "    </tr>\n",
       "  </thead>\n",
       "  <tbody>\n",
       "    <tr>\n",
       "      <th>total_ic_mou_8</th>\n",
       "      <td>0.057386</td>\n",
       "    </tr>\n",
       "    <tr>\n",
       "      <th>roam_ic_mou_8</th>\n",
       "      <td>0.052334</td>\n",
       "    </tr>\n",
       "    <tr>\n",
       "      <th>roam_og_mou_8</th>\n",
       "      <td>0.049601</td>\n",
       "    </tr>\n",
       "    <tr>\n",
       "      <th>loc_ic_mou_8</th>\n",
       "      <td>0.047704</td>\n",
       "    </tr>\n",
       "    <tr>\n",
       "      <th>total_rech_amt_8</th>\n",
       "      <td>0.036925</td>\n",
       "    </tr>\n",
       "  </tbody>\n",
       "</table>\n",
       "</div>"
      ],
      "text/plain": [
       "                  Importance\n",
       "total_ic_mou_8      0.057386\n",
       "roam_ic_mou_8       0.052334\n",
       "roam_og_mou_8       0.049601\n",
       "loc_ic_mou_8        0.047704\n",
       "total_rech_amt_8    0.036925"
      ]
     },
     "execution_count": 245,
     "metadata": {},
     "output_type": "execute_result"
    }
   ],
   "source": [
    "# Viewing importance of features\n",
    "feat_importances = pd.DataFrame(rfc.feature_importances_, index=X_test_st.columns, columns=[\"Importance\"])\n",
    "feat_importances.sort_values(by='Importance', ascending=False, inplace=True)\n",
    "print(feat_importances.shape)\n",
    "feat_importances.head()"
   ]
  },
  {
   "cell_type": "code",
   "execution_count": 242,
   "metadata": {},
   "outputs": [
    {
     "data": {
      "text/plain": [
       "<AxesSubplot:>"
      ]
     },
     "execution_count": 242,
     "metadata": {},
     "output_type": "execute_result"
    },
    {
     "data": {
      "image/png": "[encoded data removed]",
      "text/plain": [
       "<Figure size 432x288 with 1 Axes>"
      ]
     },
     "metadata": {
      "needs_background": "light"
     },
     "output_type": "display_data"
    }
   ],
   "source": [
    "# Top 10 Important features\n",
    "feat_importances = pd.Series(rfc.feature_importances_, index=X_test_st.columns)\n",
    "feat_importances.nlargest(10).plot(kind='barh')\n"
   ]
  },
  {
   "cell_type": "markdown",
   "metadata": {},
   "source": [
    "### Hyper Tuning Random Forest thorugh Grid Search"
   ]
  },
  {
   "cell_type": "code",
   "execution_count": 246,
   "metadata": {},
   "outputs": [
    {
     "data": {
      "image/png": "[encoded data removed]",
      "text/plain": [
       "<Figure size 1152x360 with 1 Axes>"
      ]
     },
     "metadata": {
      "needs_background": "light"
     },
     "output_type": "display_data"
    }
   ],
   "source": [
    "# Tuning max_depth\n",
    "parameters = {'max_depth': range(2, 40, 5)}\n",
    "tune_hyperparameter(parameters,X_train_st,y_train_smt)\n",
    "\n",
    "# 18 value have peek convergens and can be used for grid veiw search."
   ]
  },
  {
   "cell_type": "code",
   "execution_count": 247,
   "metadata": {},
   "outputs": [
    {
     "data": {
      "image/png": "[encoded data removed]",
      "text/plain": [
       "<Figure size 1152x360 with 1 Axes>"
      ]
     },
     "metadata": {
      "needs_background": "light"
     },
     "output_type": "display_data"
    }
   ],
   "source": [
    "# Tuning n_estimators\n",
    "parameters = {'n_estimators': range(100, 600, 200)}\n",
    "tune_hyperparameter(parameters,X_train_st,y_train_smt)\n",
    "# Training accuracy is flat, test accuracy stablizes after 300."
   ]
  },
  {
   "cell_type": "code",
   "execution_count": 248,
   "metadata": {},
   "outputs": [
    {
     "data": {
      "image/png": "[encoded data removed]",
      "text/plain": [
       "<Figure size 1152x360 with 1 Axes>"
      ]
     },
     "metadata": {
      "needs_background": "light"
     },
     "output_type": "display_data"
    }
   ],
   "source": [
    "#  Tuning max_features\n",
    "parameters = {'max_features': [20,40,60,80]}\n",
    "tune_hyperparameter(parameters,X_train_st,y_train_smt,4)\n",
    "# For training the feature seems to be stable... for test selecting 40."
   ]
  },
  {
   "cell_type": "code",
   "execution_count": 249,
   "metadata": {},
   "outputs": [
    {
     "data": {
      "image/png": "[encoded data removed]",
      "text/plain": [
       "<Figure size 1152x360 with 1 Axes>"
      ]
     },
     "metadata": {
      "needs_background": "light"
     },
     "output_type": "display_data"
    }
   ],
   "source": [
    "# Tuning min_samples_leaf\n",
    "parameters = {'min_samples_leaf': range(1, 100, 10)}\n",
    "tune_hyperparameter(parameters,X_train_st,y_train_smt)\n",
    "# 10 to 20 seems good value post 20 the model seems to overfit"
   ]
  },
  {
   "cell_type": "code",
   "execution_count": 250,
   "metadata": {},
   "outputs": [
    {
     "data": {
      "image/png": "[encoded data removed]",
      "text/plain": [
       "<Figure size 1152x360 with 1 Axes>"
      ]
     },
     "metadata": {
      "needs_background": "light"
     },
     "output_type": "display_data"
    }
   ],
   "source": [
    "# Tuning min_samples_split\n",
    "parameters = {'min_samples_split': range(10, 100, 10)}\n",
    "tune_hyperparameter(parameters,X_train_st,y_train_smt)\n",
    "#Range 10 to 40 seems to be optimal value, selecting 20"
   ]
  },
  {
   "cell_type": "code",
   "execution_count": 251,
   "metadata": {},
   "outputs": [
    {
     "data": {
      "text/plain": [
       "array([[5181,  323],\n",
       "       [ 129,  358]], dtype=int64)"
      ]
     },
     "execution_count": 251,
     "metadata": {},
     "output_type": "execute_result"
    }
   ],
   "source": [
    "rfc = RandomForestClassifier(max_depth=18,\n",
    "                             max_features=40,\n",
    "                             min_samples_leaf=10,\n",
    "                             min_samples_split=20,\n",
    "                             n_estimators=300,\n",
    "                             n_jobs = -1)\n",
    "\n",
    "\n",
    "rfc.fit(X_train_st,y_train_smt)\n",
    "\n",
    "# Making predictions\n",
    "y_pred = rfc.predict(X_test_st)\n",
    "\n",
    "cp = confusion_matrix(y_test,y_pred)\n",
    "cp"
   ]
  },
  {
   "cell_type": "code",
   "execution_count": 252,
   "metadata": {},
   "outputs": [
    {
     "data": {
      "text/html": [
       "<div>\n",
       "<style scoped>\n",
       "    .dataframe tbody tr th:only-of-type {\n",
       "        vertical-align: middle;\n",
       "    }\n",
       "\n",
       "    .dataframe tbody tr th {\n",
       "        vertical-align: top;\n",
       "    }\n",
       "\n",
       "    .dataframe thead th {\n",
       "        text-align: right;\n",
       "    }\n",
       "</style>\n",
       "<table border=\"1\" class=\"dataframe\">\n",
       "  <thead>\n",
       "    <tr style=\"text-align: right;\">\n",
       "      <th></th>\n",
       "      <th>Accuracy</th>\n",
       "      <th>Precision</th>\n",
       "      <th>Recall</th>\n",
       "      <th>AUC</th>\n",
       "      <th>F1</th>\n",
       "    </tr>\n",
       "  </thead>\n",
       "  <tbody>\n",
       "    <tr>\n",
       "      <th>0</th>\n",
       "      <td>0.92</td>\n",
       "      <td>0.74</td>\n",
       "      <td>0.53</td>\n",
       "      <td>0.84</td>\n",
       "      <td>0.61</td>\n",
       "    </tr>\n",
       "  </tbody>\n",
       "</table>\n",
       "</div>"
      ],
      "text/plain": [
       "   Accuracy  Precision  Recall   AUC    F1\n",
       "0      0.92       0.74    0.53  0.84  0.61"
      ]
     },
     "execution_count": 252,
     "metadata": {},
     "output_type": "execute_result"
    }
   ],
   "source": [
    "# Evaluating model \n",
    "accuracy = round(accuracy_score(y_test,y_pred),2)\n",
    "recall = round(recall_score(y_test,y_pred),2)\n",
    "precision = round(precision_score(y_test,y_pred),2)\n",
    "auc = round(roc_auc_score(y_test,y_pred),2)\n",
    "f1 = round(f1_score(y_test,y_pred),2)\n",
    "\n",
    "data = [[accuracy,recall,precision,auc,f1]] \n",
    "df = pd.DataFrame(data, columns = ['Accuracy','Precision','Recall','AUC','F1'])\n",
    "df.head()"
   ]
  },
  {
   "cell_type": "code",
   "execution_count": 254,
   "metadata": {},
   "outputs": [
    {
     "name": "stdout",
     "output_type": "stream",
     "text": [
      "(136, 1)\n"
     ]
    },
    {
     "data": {
      "text/html": [
       "<div>\n",
       "<style scoped>\n",
       "    .dataframe tbody tr th:only-of-type {\n",
       "        vertical-align: middle;\n",
       "    }\n",
       "\n",
       "    .dataframe tbody tr th {\n",
       "        vertical-align: top;\n",
       "    }\n",
       "\n",
       "    .dataframe thead th {\n",
       "        text-align: right;\n",
       "    }\n",
       "</style>\n",
       "<table border=\"1\" class=\"dataframe\">\n",
       "  <thead>\n",
       "    <tr style=\"text-align: right;\">\n",
       "      <th></th>\n",
       "      <th>Importance</th>\n",
       "    </tr>\n",
       "  </thead>\n",
       "  <tbody>\n",
       "    <tr>\n",
       "      <th>total_ic_mou_8</th>\n",
       "      <td>0.117865</td>\n",
       "    </tr>\n",
       "    <tr>\n",
       "      <th>loc_ic_mou_8</th>\n",
       "      <td>0.109097</td>\n",
       "    </tr>\n",
       "    <tr>\n",
       "      <th>roam_og_mou_8</th>\n",
       "      <td>0.086524</td>\n",
       "    </tr>\n",
       "    <tr>\n",
       "      <th>roam_ic_mou_8</th>\n",
       "      <td>0.066178</td>\n",
       "    </tr>\n",
       "    <tr>\n",
       "      <th>loc_ic_t2m_mou_8</th>\n",
       "      <td>0.064071</td>\n",
       "    </tr>\n",
       "    <tr>\n",
       "      <th>total_rech_data_8</th>\n",
       "      <td>0.052406</td>\n",
       "    </tr>\n",
       "    <tr>\n",
       "      <th>total_rech_amt_8</th>\n",
       "      <td>0.052161</td>\n",
       "    </tr>\n",
       "    <tr>\n",
       "      <th>av_rech_amt_data_8</th>\n",
       "      <td>0.030500</td>\n",
       "    </tr>\n",
       "    <tr>\n",
       "      <th>last_day_rch_amt_8</th>\n",
       "      <td>0.025835</td>\n",
       "    </tr>\n",
       "    <tr>\n",
       "      <th>arpu_8</th>\n",
       "      <td>0.023683</td>\n",
       "    </tr>\n",
       "  </tbody>\n",
       "</table>\n",
       "</div>"
      ],
      "text/plain": [
       "                    Importance\n",
       "total_ic_mou_8        0.117865\n",
       "loc_ic_mou_8          0.109097\n",
       "roam_og_mou_8         0.086524\n",
       "roam_ic_mou_8         0.066178\n",
       "loc_ic_t2m_mou_8      0.064071\n",
       "total_rech_data_8     0.052406\n",
       "total_rech_amt_8      0.052161\n",
       "av_rech_amt_data_8    0.030500\n",
       "last_day_rch_amt_8    0.025835\n",
       "arpu_8                0.023683"
      ]
     },
     "execution_count": 254,
     "metadata": {},
     "output_type": "execute_result"
    }
   ],
   "source": [
    "# Viewing most important features\n",
    "feat_importances = pd.DataFrame(rfc.feature_importances_, index=X_test_st.columns, columns=[\"Importance\"])\n",
    "feat_importances.sort_values(by='Importance', ascending=False, inplace=True)\n",
    "print(feat_importances.shape)\n",
    "feat_importances.head(10)"
   ]
  },
  {
   "cell_type": "markdown",
   "metadata": {},
   "source": [
    "### Summary\n",
    "#### Random Forest algorithm seems to be better after analysing through with or without PCA with 92% Accuracy, 82% AUC and less diference between Precision and Recall.\n",
    "#### Incoming and Outgoing calls for 8th month are strong indicator for customer churn.\n",
    "#### Average Revenue Per user is also important feature to predict customer churn.\n",
    "#### Local in coming call duration is also important feature to predict customer churn.\n",
    "#### Total Recharge for call and data strongly predicts customer churn.\n",
    "#### Last day recharge amount also stronglt predicts customer churn.\n",
    "#### During EDA it was alalysed that areas where 2G/3G services are not good storongly related to customer churn.\n",
    "#### Customers with 2-5 years of tenure are more likely to churn. "
   ]
  },
  {
   "cell_type": "code",
   "execution_count": null,
   "metadata": {},
   "outputs": [],
   "source": []
  }
 ],
 "metadata": {
  "kernelspec": {
   "display_name": "Python 3",
   "language": "python",
   "name": "python3"
  },
  "language_info": {
   "codemirror_mode": {
    "name": "ipython",
    "version": 3
   },
   "file_extension": ".py",
   "mimetype": "text/x-python",
   "name": "python",
   "nbconvert_exporter": "python",
   "pygments_lexer": "ipython3",
   "version": "3.8.8"
  }
 },
 "nbformat": 4,
 "nbformat_minor": 4
}
